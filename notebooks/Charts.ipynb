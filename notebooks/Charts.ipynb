{
 "cells": [
  {
   "cell_type": "markdown",
   "metadata": {},
   "source": [
    "## Structure of the Data\n",
    "* Artists -> Songs -> Attributes\n",
    "    * Artists\n",
    "        * Nominal Attributes:\n",
    "            * artist: name\n",
    "            * artist_id: spotify_id\n",
    "            * one-to-one relationships\n",
    "        * Popularity-Related Attributes:\n",
    "            * followers: Amount of Spotify listeners following artist's page\n",
    "            * popularity: Aggregate Popularity of All Artist's Songs\n",
    "            * one-to-one relationships\n",
    "        * Categorical Attributes:\n",
    "            * genre: list of subgenres that Spotify has classified Song As.\n",
    "            * one-to-many relationship\n",
    "    * Songs\n",
    "        * Nominal Attributes:\n",
    "            * Song\n",
    "            * Performer\n",
    "            * id\n",
    "            * id_y\n",
    "            * id_fk\n",
    "            * release_date\n",
    "            * one-to-one relationships\n",
    "        * Interval Attributes:\n",
    "            * 0 to 1 Intervals:\n",
    "                * danceability:\n",
    "                * energy:\n",
    "                * liveness:\n",
    "                * speechiness:\n",
    "                * acousticness\n",
    "                * instrumentalness:\n",
    "                * valence:\n",
    "            * Area-Specific Intervals:\n",
    "                * tempo\n",
    "                * duration\n",
    "                * popularity\n",
    "                * loudness\n",
    "        * Categorical Attributes:\n",
    "            * explicit\n",
    "            * timesignature\n",
    "            * key\n",
    "            * mode\n",
    "            * genre\n",
    "            * genre_super\n",
    "            * chart\n",
    "    * Billboard\n",
    "        * Nominal Attributes:\n",
    "            * Song\n",
    "            * Performer\n",
    "            * SongID\n",
    "            * WeekID\n",
    "        * Ordinal Attributes:\n",
    "            * Week Position\n",
    "            * bill_popularity\n",
    "        * Derivates Based on Week Position:\n",
    "            * Previous Week Position (Week Position @ t-1)\n",
    "            * Peak Position (Max Inclusive of Song's Current Week Position)\n",
    "            * Weeks on Chart (Cumlative Sum of All Weeks on Chart)\n",
    "            * Instance (Amount of Times Song Entered the Chart)"
   ]
  },
  {
   "cell_type": "code",
   "execution_count": 3,
   "metadata": {},
   "outputs": [],
   "source": [
    "# Stories to Tell with Billboard Data Based on Time.\n",
    "    # How Long Does a Song Last on the Billboard Chart? What is the Average Longevity of A Popular Song?\n",
    "    # What Was the Biggest Jump Between Weeks? Previous Week Position - Week Position\n",
    "    # What Was the Longest Gap Between a Song's Release and its Charting? Is This Occuring More or Less Frequently With the Advent of Streaming?\n",
    "    # Which Song Lasted the Longest on the Chart? Instance staying the same.\n",
    "    # Was There a Meaningful Difference in Attributes Between 1 Songs vs. the other 99 Field?\n",
    "    # Which Song Was the Most Average, given the averages on the billboard songs' attributes for the year?\n",
    "    # Which Song Deviated the Most From These Attributes? \n",
    "    # How many Songs Enter and Leave the chart in a given week, month, year?\n",
    "    # How has the genre make-up of the Hot 100 changed over time? Is Pop more popular in the Spring? Does Billboard Valence Decrease in the Winter?\n",
    "    # Questions that Ground Our Artists, Songs and their Spotify Attributes in Time and Explain the Changes That Have Occured In Popular Music.   "
   ]
  },
  {
   "cell_type": "code",
   "execution_count": 1,
   "metadata": {},
   "outputs": [],
   "source": [
    "import pandas as pd, sqlalchemy as sql, numpy as np, datetime as dt, os, re, time\n",
    "import operator, requests, string as s, random\n",
    "import plotly.graph_objects as go\n",
    "import plotly.express as px"
   ]
  },
  {
   "cell_type": "code",
   "execution_count": 2,
   "metadata": {},
   "outputs": [],
   "source": [
    "engine = sql.create_engine(\"sqlite:///../src/data/music.db\")\n",
    "with engine.connect() as con:\n",
    "    billboard = pd.read_sql(\"SELECT * FROM billboard\", con=con)\n",
    "    attributes = pd.read_sql(\"SELECT * FROM attributes\", con=con)\n",
    "    artists = pd.read_sql(\"SELECT * FROM artists\", con=con)\n",
    "    recommend_join = pd.read_sql(\"SELECT * FROM recommendation_join\", con=con)\n",
    "    artists_join = pd.read_sql(\"SELECT * FROM artists_join\", con=con)"
   ]
  },
  {
   "cell_type": "code",
   "execution_count": 3,
   "metadata": {},
   "outputs": [
    {
     "data": {
      "text/plain": [
       "(109600, 10)"
      ]
     },
     "execution_count": 3,
     "metadata": {},
     "output_type": "execute_result"
    }
   ],
   "source": [
    "billboard.shape"
   ]
  },
  {
   "cell_type": "code",
   "execution_count": 5,
   "metadata": {},
   "outputs": [],
   "source": [
    "billboard.WeekID = pd.to_datetime(billboard.WeekID)"
   ]
  },
  {
   "cell_type": "code",
   "execution_count": 7,
   "metadata": {},
   "outputs": [],
   "source": [
    "attributes.release_date = pd.to_datetime(attributes.release_date)"
   ]
  },
  {
   "cell_type": "code",
   "execution_count": 15,
   "metadata": {},
   "outputs": [],
   "source": [
    "sample_year = billboard[lambda x: x.WeekID < dt.datetime(2000, 1, 1)]"
   ]
  },
  {
   "cell_type": "code",
   "execution_count": 50,
   "metadata": {},
   "outputs": [],
   "source": [
    "samples_for_year = attributes[lambda x: ((x.release_date < dt.datetime(2000, 1, 1)) & (x.release_date > dt.datetime(1998, 12, 31)) & (x.chart == 0))]"
   ]
  },
  {
   "cell_type": "code",
   "execution_count": 8,
   "metadata": {},
   "outputs": [],
   "source": [
    "# Summary of Year Via Interval Attributes"
   ]
  },
  {
   "cell_type": "code",
   "execution_count": 40,
   "metadata": {},
   "outputs": [],
   "source": [
    "df_99 =  sample_year.merge(attributes.loc[:, [\"SongID\", \"energy\", \"popularity\"]], \"left\", on=[\"SongID\"])"
   ]
  },
  {
   "cell_type": "code",
   "execution_count": 41,
   "metadata": {},
   "outputs": [],
   "source": [
    "df_99 = df_99.drop_duplicates(subset=[\"SongID\", \"Instance\"])"
   ]
  },
  {
   "cell_type": "code",
   "execution_count": 42,
   "metadata": {},
   "outputs": [
    {
     "data": {
      "application/vnd.plotly.v1+json": {
       "config": {
        "plotlyServerURL": "https://plot.ly"
       },
       "data": [
        {
         "alignmentgroup": "True",
         "bingroup": "x",
         "hovertemplate": "energy=%{x}<br>count=%{y}<extra></extra>",
         "legendgroup": "",
         "marker": {
          "color": "#636efa",
          "pattern": {
           "shape": ""
          }
         },
         "name": "",
         "offsetgroup": "",
         "orientation": "v",
         "showlegend": false,
         "type": "histogram",
         "x": [
          0.504,
          0.531,
          0.665,
          0.699,
          0.603,
          0.505,
          0.505,
          0.831,
          0.533,
          0.551,
          0.694,
          0.833,
          0.693,
          0.804,
          0.495,
          0.843,
          0.543,
          0.817,
          0.49,
          0.665,
          0.637,
          0.715,
          0.766,
          0.872,
          0.0744,
          0.609,
          0.741,
          0.434,
          0.534,
          0.837,
          0.483,
          0.616,
          0.476,
          0.818,
          0.544,
          0.562,
          0.898,
          0.679,
          0.402,
          0.469,
          0.413,
          0.582,
          0.561,
          0.676,
          0.667,
          0.369,
          0.663,
          0.554,
          0.782,
          0.896,
          0.415,
          0.872,
          0.601,
          0.373,
          0.406,
          0.44,
          0.901,
          0.917,
          0.701,
          0.388,
          0.815,
          0.49,
          0.72,
          0.39,
          0.425,
          0.919,
          0.651,
          0.47,
          0.461,
          0.579,
          0.949,
          0.596,
          0.62,
          0.871,
          0.556,
          0.504,
          0.535,
          0.544,
          0.776,
          0.503,
          0.643,
          0.662,
          0.94,
          0.735,
          0.784,
          0.527,
          0.643,
          0.803,
          0.808,
          0.822,
          0.431,
          0.357,
          0.905,
          0.324,
          0.26,
          0.17,
          0.418,
          0.534,
          0.464,
          0.376,
          0.679,
          0.587,
          0.619,
          0.453,
          0.784,
          0.638,
          0.73,
          0.299,
          0.346,
          0.565,
          0.873,
          0.522,
          0.846,
          0.805,
          0.481,
          0.773,
          0.461,
          0.71,
          0.574,
          0.786,
          0.729,
          0.537,
          0.831,
          0.53,
          0.773,
          0.375,
          0.831,
          0.674,
          0.756,
          0.464,
          0.75,
          0.745,
          0.749,
          0.905,
          0.327,
          0.675,
          0.616,
          0.936,
          0.395,
          0.577,
          0.487,
          0.822,
          0.68,
          0.904,
          0.87,
          0.696,
          0.708,
          0.702,
          null,
          0.508,
          0.398,
          0.52,
          0.854,
          0.442,
          0.349,
          0.589,
          0.669,
          0.934,
          0.768,
          0.874,
          0.34,
          0.727,
          0.646,
          0.885,
          0.819,
          0.679,
          0.636,
          0.845,
          0.438,
          0.477,
          0.628,
          0.528,
          0.526,
          0.48,
          0.944,
          0.555,
          0.617,
          0.837,
          0.146,
          0.873,
          0.748,
          0.324,
          0.752,
          0.54,
          0.655,
          0.785,
          0.625,
          0.638,
          0.37,
          0.816,
          0.768,
          0.874,
          0.672,
          0.668,
          0.577,
          0.483,
          0.954,
          0.42,
          0.55,
          0.923,
          0.639,
          0.544,
          0.834,
          0.702,
          0.77,
          0.543,
          0.718,
          0.687,
          0.946,
          0.736,
          0.776,
          0.553,
          0.649,
          0.896,
          0.692,
          0.96,
          0.802,
          0.727,
          0.577,
          0.692,
          0.863,
          0.733,
          0.732,
          0.625,
          0.731,
          0.643,
          0.341,
          0.55,
          0.639,
          0.671,
          0.597,
          0.861,
          0.516,
          0.742,
          0.487,
          0.923,
          0.679,
          0.507,
          0.819,
          0.896,
          0.783,
          0.692,
          0.521,
          0.615,
          0.804,
          0.902,
          0.553,
          0.817,
          0.717,
          0.846,
          0.756,
          0.53,
          0.911,
          0.766,
          0.707,
          0.84,
          0.701,
          0.81,
          0.576,
          0.435,
          0.836,
          0.399,
          0.71,
          0.622,
          0.698,
          0.775,
          0.633,
          0.55,
          0.914,
          0.744,
          0.8,
          0.666,
          0.67,
          0.729,
          0.635,
          0.435,
          0.702,
          0.873,
          0.625,
          0.393,
          0.514,
          0.752,
          0.443,
          0.808,
          0.395,
          0.67,
          0.951,
          0.575,
          0.76,
          0.747,
          0.698,
          0.898,
          0.727,
          0.815,
          0.644,
          0.864,
          0.65,
          0.923,
          0.926,
          0.655,
          0.741,
          0.696,
          0.236,
          0.765,
          0.431,
          0.528,
          0.808,
          0.894,
          0.587,
          0.829,
          0.85,
          0.649,
          0.899,
          0.455,
          0.52,
          0.766,
          0.641,
          0.617,
          0.807,
          0.411,
          0.357,
          0.742,
          0.586,
          0.64,
          0.758,
          0.816,
          0.556,
          0.475,
          0.425,
          0.411,
          0.789,
          0.436,
          0.949,
          0.464,
          0.83,
          0.194,
          0.639,
          0.836,
          0.751,
          0.939,
          0.973,
          0.964,
          0.641,
          0.871,
          0.725,
          0.641,
          0.746,
          0.594,
          0.289,
          0.718,
          0.543,
          0.898,
          0.366,
          0.635,
          0.958,
          0.507,
          0.553,
          0.697,
          0.709,
          0.898,
          0.945,
          0.666,
          0.806,
          0.411,
          0.919,
          0.763,
          0.797,
          0.738,
          0.497,
          0.579,
          0.852,
          0.443,
          0.459,
          0.449,
          0.494,
          0.714,
          0.449,
          0.916,
          0.783,
          0.957,
          0.897,
          0.868,
          0.664,
          0.413,
          0.585,
          0.496,
          0.627,
          0.783,
          0.991,
          0.886,
          0.477,
          0.566,
          0.502,
          0.815,
          0.716,
          0.723,
          0.937,
          0.586,
          0.886,
          0.79,
          0.898,
          0.445,
          0.819,
          0.622,
          0.484,
          0.775,
          0.774,
          0.62,
          0.624,
          0.691,
          0.837,
          0.897,
          0.969,
          0.767,
          0.728,
          0.746,
          0.943,
          0.836,
          0.969,
          0.532,
          0.369,
          0.405,
          0.414,
          0.703,
          0.492,
          0.3,
          0.774,
          0.553,
          0.747,
          0.678,
          0.662,
          0.296,
          0.56,
          0.837
         ],
         "xaxis": "x",
         "yaxis": "y"
        }
       ],
       "layout": {
        "barmode": "relative",
        "legend": {
         "tracegroupgap": 0
        },
        "margin": {
         "t": 60
        },
        "template": {
         "data": {
          "bar": [
           {
            "error_x": {
             "color": "#2a3f5f"
            },
            "error_y": {
             "color": "#2a3f5f"
            },
            "marker": {
             "line": {
              "color": "#E5ECF6",
              "width": 0.5
             },
             "pattern": {
              "fillmode": "overlay",
              "size": 10,
              "solidity": 0.2
             }
            },
            "type": "bar"
           }
          ],
          "barpolar": [
           {
            "marker": {
             "line": {
              "color": "#E5ECF6",
              "width": 0.5
             },
             "pattern": {
              "fillmode": "overlay",
              "size": 10,
              "solidity": 0.2
             }
            },
            "type": "barpolar"
           }
          ],
          "carpet": [
           {
            "aaxis": {
             "endlinecolor": "#2a3f5f",
             "gridcolor": "white",
             "linecolor": "white",
             "minorgridcolor": "white",
             "startlinecolor": "#2a3f5f"
            },
            "baxis": {
             "endlinecolor": "#2a3f5f",
             "gridcolor": "white",
             "linecolor": "white",
             "minorgridcolor": "white",
             "startlinecolor": "#2a3f5f"
            },
            "type": "carpet"
           }
          ],
          "choropleth": [
           {
            "colorbar": {
             "outlinewidth": 0,
             "ticks": ""
            },
            "type": "choropleth"
           }
          ],
          "contour": [
           {
            "colorbar": {
             "outlinewidth": 0,
             "ticks": ""
            },
            "colorscale": [
             [
              0,
              "#0d0887"
             ],
             [
              0.1111111111111111,
              "#46039f"
             ],
             [
              0.2222222222222222,
              "#7201a8"
             ],
             [
              0.3333333333333333,
              "#9c179e"
             ],
             [
              0.4444444444444444,
              "#bd3786"
             ],
             [
              0.5555555555555556,
              "#d8576b"
             ],
             [
              0.6666666666666666,
              "#ed7953"
             ],
             [
              0.7777777777777778,
              "#fb9f3a"
             ],
             [
              0.8888888888888888,
              "#fdca26"
             ],
             [
              1,
              "#f0f921"
             ]
            ],
            "type": "contour"
           }
          ],
          "contourcarpet": [
           {
            "colorbar": {
             "outlinewidth": 0,
             "ticks": ""
            },
            "type": "contourcarpet"
           }
          ],
          "heatmap": [
           {
            "colorbar": {
             "outlinewidth": 0,
             "ticks": ""
            },
            "colorscale": [
             [
              0,
              "#0d0887"
             ],
             [
              0.1111111111111111,
              "#46039f"
             ],
             [
              0.2222222222222222,
              "#7201a8"
             ],
             [
              0.3333333333333333,
              "#9c179e"
             ],
             [
              0.4444444444444444,
              "#bd3786"
             ],
             [
              0.5555555555555556,
              "#d8576b"
             ],
             [
              0.6666666666666666,
              "#ed7953"
             ],
             [
              0.7777777777777778,
              "#fb9f3a"
             ],
             [
              0.8888888888888888,
              "#fdca26"
             ],
             [
              1,
              "#f0f921"
             ]
            ],
            "type": "heatmap"
           }
          ],
          "heatmapgl": [
           {
            "colorbar": {
             "outlinewidth": 0,
             "ticks": ""
            },
            "colorscale": [
             [
              0,
              "#0d0887"
             ],
             [
              0.1111111111111111,
              "#46039f"
             ],
             [
              0.2222222222222222,
              "#7201a8"
             ],
             [
              0.3333333333333333,
              "#9c179e"
             ],
             [
              0.4444444444444444,
              "#bd3786"
             ],
             [
              0.5555555555555556,
              "#d8576b"
             ],
             [
              0.6666666666666666,
              "#ed7953"
             ],
             [
              0.7777777777777778,
              "#fb9f3a"
             ],
             [
              0.8888888888888888,
              "#fdca26"
             ],
             [
              1,
              "#f0f921"
             ]
            ],
            "type": "heatmapgl"
           }
          ],
          "histogram": [
           {
            "marker": {
             "pattern": {
              "fillmode": "overlay",
              "size": 10,
              "solidity": 0.2
             }
            },
            "type": "histogram"
           }
          ],
          "histogram2d": [
           {
            "colorbar": {
             "outlinewidth": 0,
             "ticks": ""
            },
            "colorscale": [
             [
              0,
              "#0d0887"
             ],
             [
              0.1111111111111111,
              "#46039f"
             ],
             [
              0.2222222222222222,
              "#7201a8"
             ],
             [
              0.3333333333333333,
              "#9c179e"
             ],
             [
              0.4444444444444444,
              "#bd3786"
             ],
             [
              0.5555555555555556,
              "#d8576b"
             ],
             [
              0.6666666666666666,
              "#ed7953"
             ],
             [
              0.7777777777777778,
              "#fb9f3a"
             ],
             [
              0.8888888888888888,
              "#fdca26"
             ],
             [
              1,
              "#f0f921"
             ]
            ],
            "type": "histogram2d"
           }
          ],
          "histogram2dcontour": [
           {
            "colorbar": {
             "outlinewidth": 0,
             "ticks": ""
            },
            "colorscale": [
             [
              0,
              "#0d0887"
             ],
             [
              0.1111111111111111,
              "#46039f"
             ],
             [
              0.2222222222222222,
              "#7201a8"
             ],
             [
              0.3333333333333333,
              "#9c179e"
             ],
             [
              0.4444444444444444,
              "#bd3786"
             ],
             [
              0.5555555555555556,
              "#d8576b"
             ],
             [
              0.6666666666666666,
              "#ed7953"
             ],
             [
              0.7777777777777778,
              "#fb9f3a"
             ],
             [
              0.8888888888888888,
              "#fdca26"
             ],
             [
              1,
              "#f0f921"
             ]
            ],
            "type": "histogram2dcontour"
           }
          ],
          "mesh3d": [
           {
            "colorbar": {
             "outlinewidth": 0,
             "ticks": ""
            },
            "type": "mesh3d"
           }
          ],
          "parcoords": [
           {
            "line": {
             "colorbar": {
              "outlinewidth": 0,
              "ticks": ""
             }
            },
            "type": "parcoords"
           }
          ],
          "pie": [
           {
            "automargin": true,
            "type": "pie"
           }
          ],
          "scatter": [
           {
            "marker": {
             "colorbar": {
              "outlinewidth": 0,
              "ticks": ""
             }
            },
            "type": "scatter"
           }
          ],
          "scatter3d": [
           {
            "line": {
             "colorbar": {
              "outlinewidth": 0,
              "ticks": ""
             }
            },
            "marker": {
             "colorbar": {
              "outlinewidth": 0,
              "ticks": ""
             }
            },
            "type": "scatter3d"
           }
          ],
          "scattercarpet": [
           {
            "marker": {
             "colorbar": {
              "outlinewidth": 0,
              "ticks": ""
             }
            },
            "type": "scattercarpet"
           }
          ],
          "scattergeo": [
           {
            "marker": {
             "colorbar": {
              "outlinewidth": 0,
              "ticks": ""
             }
            },
            "type": "scattergeo"
           }
          ],
          "scattergl": [
           {
            "marker": {
             "colorbar": {
              "outlinewidth": 0,
              "ticks": ""
             }
            },
            "type": "scattergl"
           }
          ],
          "scattermapbox": [
           {
            "marker": {
             "colorbar": {
              "outlinewidth": 0,
              "ticks": ""
             }
            },
            "type": "scattermapbox"
           }
          ],
          "scatterpolar": [
           {
            "marker": {
             "colorbar": {
              "outlinewidth": 0,
              "ticks": ""
             }
            },
            "type": "scatterpolar"
           }
          ],
          "scatterpolargl": [
           {
            "marker": {
             "colorbar": {
              "outlinewidth": 0,
              "ticks": ""
             }
            },
            "type": "scatterpolargl"
           }
          ],
          "scatterternary": [
           {
            "marker": {
             "colorbar": {
              "outlinewidth": 0,
              "ticks": ""
             }
            },
            "type": "scatterternary"
           }
          ],
          "surface": [
           {
            "colorbar": {
             "outlinewidth": 0,
             "ticks": ""
            },
            "colorscale": [
             [
              0,
              "#0d0887"
             ],
             [
              0.1111111111111111,
              "#46039f"
             ],
             [
              0.2222222222222222,
              "#7201a8"
             ],
             [
              0.3333333333333333,
              "#9c179e"
             ],
             [
              0.4444444444444444,
              "#bd3786"
             ],
             [
              0.5555555555555556,
              "#d8576b"
             ],
             [
              0.6666666666666666,
              "#ed7953"
             ],
             [
              0.7777777777777778,
              "#fb9f3a"
             ],
             [
              0.8888888888888888,
              "#fdca26"
             ],
             [
              1,
              "#f0f921"
             ]
            ],
            "type": "surface"
           }
          ],
          "table": [
           {
            "cells": {
             "fill": {
              "color": "#EBF0F8"
             },
             "line": {
              "color": "white"
             }
            },
            "header": {
             "fill": {
              "color": "#C8D4E3"
             },
             "line": {
              "color": "white"
             }
            },
            "type": "table"
           }
          ]
         },
         "layout": {
          "annotationdefaults": {
           "arrowcolor": "#2a3f5f",
           "arrowhead": 0,
           "arrowwidth": 1
          },
          "autotypenumbers": "strict",
          "coloraxis": {
           "colorbar": {
            "outlinewidth": 0,
            "ticks": ""
           }
          },
          "colorscale": {
           "diverging": [
            [
             0,
             "#8e0152"
            ],
            [
             0.1,
             "#c51b7d"
            ],
            [
             0.2,
             "#de77ae"
            ],
            [
             0.3,
             "#f1b6da"
            ],
            [
             0.4,
             "#fde0ef"
            ],
            [
             0.5,
             "#f7f7f7"
            ],
            [
             0.6,
             "#e6f5d0"
            ],
            [
             0.7,
             "#b8e186"
            ],
            [
             0.8,
             "#7fbc41"
            ],
            [
             0.9,
             "#4d9221"
            ],
            [
             1,
             "#276419"
            ]
           ],
           "sequential": [
            [
             0,
             "#0d0887"
            ],
            [
             0.1111111111111111,
             "#46039f"
            ],
            [
             0.2222222222222222,
             "#7201a8"
            ],
            [
             0.3333333333333333,
             "#9c179e"
            ],
            [
             0.4444444444444444,
             "#bd3786"
            ],
            [
             0.5555555555555556,
             "#d8576b"
            ],
            [
             0.6666666666666666,
             "#ed7953"
            ],
            [
             0.7777777777777778,
             "#fb9f3a"
            ],
            [
             0.8888888888888888,
             "#fdca26"
            ],
            [
             1,
             "#f0f921"
            ]
           ],
           "sequentialminus": [
            [
             0,
             "#0d0887"
            ],
            [
             0.1111111111111111,
             "#46039f"
            ],
            [
             0.2222222222222222,
             "#7201a8"
            ],
            [
             0.3333333333333333,
             "#9c179e"
            ],
            [
             0.4444444444444444,
             "#bd3786"
            ],
            [
             0.5555555555555556,
             "#d8576b"
            ],
            [
             0.6666666666666666,
             "#ed7953"
            ],
            [
             0.7777777777777778,
             "#fb9f3a"
            ],
            [
             0.8888888888888888,
             "#fdca26"
            ],
            [
             1,
             "#f0f921"
            ]
           ]
          },
          "colorway": [
           "#636efa",
           "#EF553B",
           "#00cc96",
           "#ab63fa",
           "#FFA15A",
           "#19d3f3",
           "#FF6692",
           "#B6E880",
           "#FF97FF",
           "#FECB52"
          ],
          "font": {
           "color": "#2a3f5f"
          },
          "geo": {
           "bgcolor": "white",
           "lakecolor": "white",
           "landcolor": "#E5ECF6",
           "showlakes": true,
           "showland": true,
           "subunitcolor": "white"
          },
          "hoverlabel": {
           "align": "left"
          },
          "hovermode": "closest",
          "mapbox": {
           "style": "light"
          },
          "paper_bgcolor": "white",
          "plot_bgcolor": "#E5ECF6",
          "polar": {
           "angularaxis": {
            "gridcolor": "white",
            "linecolor": "white",
            "ticks": ""
           },
           "bgcolor": "#E5ECF6",
           "radialaxis": {
            "gridcolor": "white",
            "linecolor": "white",
            "ticks": ""
           }
          },
          "scene": {
           "xaxis": {
            "backgroundcolor": "#E5ECF6",
            "gridcolor": "white",
            "gridwidth": 2,
            "linecolor": "white",
            "showbackground": true,
            "ticks": "",
            "zerolinecolor": "white"
           },
           "yaxis": {
            "backgroundcolor": "#E5ECF6",
            "gridcolor": "white",
            "gridwidth": 2,
            "linecolor": "white",
            "showbackground": true,
            "ticks": "",
            "zerolinecolor": "white"
           },
           "zaxis": {
            "backgroundcolor": "#E5ECF6",
            "gridcolor": "white",
            "gridwidth": 2,
            "linecolor": "white",
            "showbackground": true,
            "ticks": "",
            "zerolinecolor": "white"
           }
          },
          "shapedefaults": {
           "line": {
            "color": "#2a3f5f"
           }
          },
          "ternary": {
           "aaxis": {
            "gridcolor": "white",
            "linecolor": "white",
            "ticks": ""
           },
           "baxis": {
            "gridcolor": "white",
            "linecolor": "white",
            "ticks": ""
           },
           "bgcolor": "#E5ECF6",
           "caxis": {
            "gridcolor": "white",
            "linecolor": "white",
            "ticks": ""
           }
          },
          "title": {
           "x": 0.05
          },
          "xaxis": {
           "automargin": true,
           "gridcolor": "white",
           "linecolor": "white",
           "ticks": "",
           "title": {
            "standoff": 15
           },
           "zerolinecolor": "white",
           "zerolinewidth": 2
          },
          "yaxis": {
           "automargin": true,
           "gridcolor": "white",
           "linecolor": "white",
           "ticks": "",
           "title": {
            "standoff": 15
           },
           "zerolinecolor": "white",
           "zerolinewidth": 2
          }
         }
        },
        "xaxis": {
         "anchor": "y",
         "domain": [
          0,
          1
         ],
         "title": {
          "text": "energy"
         }
        },
        "yaxis": {
         "anchor": "x",
         "domain": [
          0,
          1
         ],
         "title": {
          "text": "count"
         }
        }
       }
      }
     },
     "metadata": {},
     "output_type": "display_data"
    }
   ],
   "source": [
    "fig = px.histogram(df_99, x=\"energy\")\n",
    "fig.show()"
   ]
  },
  {
   "cell_type": "code",
   "execution_count": 54,
   "metadata": {},
   "outputs": [
    {
     "data": {
      "application/vnd.plotly.v1+json": {
       "config": {
        "plotlyServerURL": "https://plot.ly"
       },
       "data": [
        {
         "alignmentgroup": "True",
         "bingroup": "x",
         "hovertemplate": "energy=%{x}<br>count=%{y}<extra></extra>",
         "legendgroup": "",
         "marker": {
          "color": "#636efa",
          "pattern": {
           "shape": ""
          }
         },
         "name": "",
         "offsetgroup": "",
         "orientation": "v",
         "showlegend": false,
         "type": "histogram",
         "x": [
          0.563,
          0.85,
          0.325,
          0.378,
          0.641,
          0.594,
          0.347,
          0.728,
          0.652,
          0.545,
          0.521,
          0.488,
          0.888,
          0.406,
          0.496,
          0.407,
          0.446,
          0.697,
          0.678,
          0.438,
          0.64,
          0.959,
          0.695,
          0.425,
          0.659,
          0.779,
          0.883,
          0.617,
          0.544,
          0.88,
          0.884,
          0.803,
          0.323,
          0.75,
          0.596,
          0.879,
          0.59,
          0.837,
          0.593,
          0.711,
          0.495,
          0.847,
          0.717,
          0.667,
          0.582,
          0.938,
          0.611,
          0.919,
          0.758,
          0.86,
          0.497,
          0.903,
          0.937,
          0.45,
          0.871,
          0.666,
          0.916,
          0.755,
          0.704,
          0.837,
          0.876,
          0.421,
          0.769,
          0.889,
          0.842,
          0.634,
          0.621,
          0.446,
          0.79,
          0.628,
          0.877,
          0.477,
          0.814,
          0.871,
          0.991,
          0.439,
          0.812,
          0.949,
          0.91,
          0.435,
          0.586,
          0.231,
          0.498,
          0.589,
          0.59,
          0.795,
          0.826,
          0.98,
          0.633,
          0.712,
          0.911,
          0.534,
          0.821,
          0.9,
          0.579,
          0.709,
          0.414,
          0.826,
          0.468,
          0.922,
          0.73,
          0.484,
          0.884,
          0.853,
          0.851,
          0.837,
          0.683,
          0.657,
          0.853,
          0.955,
          0.706,
          0.819,
          0.742,
          0.931,
          0.722,
          0.903,
          0.125,
          0.476,
          0.534,
          0.386,
          0.947,
          0.852,
          0.49,
          0.558,
          0.901,
          0.709,
          0.779,
          0.937,
          0.902,
          0.85,
          0.59,
          0.477,
          0.923,
          0.564,
          0.775,
          0.777,
          0.876,
          0.896,
          0.978,
          0.955,
          0.924,
          0.92,
          0.934,
          0.938,
          0.773,
          0.888,
          0.917,
          0.239,
          0.843,
          0.578,
          0.756,
          0.0736,
          0.566,
          0.913,
          0.447,
          0.471,
          0.573,
          0.936,
          0.449,
          0.883,
          0.323,
          0.295,
          0.932,
          0.99,
          0.801,
          0.949,
          0.96,
          0.782,
          0.841,
          0.88,
          0.0513,
          0.496,
          0.627,
          0.594,
          0.743
         ],
         "xaxis": "x",
         "yaxis": "y"
        }
       ],
       "layout": {
        "barmode": "relative",
        "legend": {
         "tracegroupgap": 0
        },
        "margin": {
         "t": 60
        },
        "template": {
         "data": {
          "bar": [
           {
            "error_x": {
             "color": "#2a3f5f"
            },
            "error_y": {
             "color": "#2a3f5f"
            },
            "marker": {
             "line": {
              "color": "#E5ECF6",
              "width": 0.5
             },
             "pattern": {
              "fillmode": "overlay",
              "size": 10,
              "solidity": 0.2
             }
            },
            "type": "bar"
           }
          ],
          "barpolar": [
           {
            "marker": {
             "line": {
              "color": "#E5ECF6",
              "width": 0.5
             },
             "pattern": {
              "fillmode": "overlay",
              "size": 10,
              "solidity": 0.2
             }
            },
            "type": "barpolar"
           }
          ],
          "carpet": [
           {
            "aaxis": {
             "endlinecolor": "#2a3f5f",
             "gridcolor": "white",
             "linecolor": "white",
             "minorgridcolor": "white",
             "startlinecolor": "#2a3f5f"
            },
            "baxis": {
             "endlinecolor": "#2a3f5f",
             "gridcolor": "white",
             "linecolor": "white",
             "minorgridcolor": "white",
             "startlinecolor": "#2a3f5f"
            },
            "type": "carpet"
           }
          ],
          "choropleth": [
           {
            "colorbar": {
             "outlinewidth": 0,
             "ticks": ""
            },
            "type": "choropleth"
           }
          ],
          "contour": [
           {
            "colorbar": {
             "outlinewidth": 0,
             "ticks": ""
            },
            "colorscale": [
             [
              0,
              "#0d0887"
             ],
             [
              0.1111111111111111,
              "#46039f"
             ],
             [
              0.2222222222222222,
              "#7201a8"
             ],
             [
              0.3333333333333333,
              "#9c179e"
             ],
             [
              0.4444444444444444,
              "#bd3786"
             ],
             [
              0.5555555555555556,
              "#d8576b"
             ],
             [
              0.6666666666666666,
              "#ed7953"
             ],
             [
              0.7777777777777778,
              "#fb9f3a"
             ],
             [
              0.8888888888888888,
              "#fdca26"
             ],
             [
              1,
              "#f0f921"
             ]
            ],
            "type": "contour"
           }
          ],
          "contourcarpet": [
           {
            "colorbar": {
             "outlinewidth": 0,
             "ticks": ""
            },
            "type": "contourcarpet"
           }
          ],
          "heatmap": [
           {
            "colorbar": {
             "outlinewidth": 0,
             "ticks": ""
            },
            "colorscale": [
             [
              0,
              "#0d0887"
             ],
             [
              0.1111111111111111,
              "#46039f"
             ],
             [
              0.2222222222222222,
              "#7201a8"
             ],
             [
              0.3333333333333333,
              "#9c179e"
             ],
             [
              0.4444444444444444,
              "#bd3786"
             ],
             [
              0.5555555555555556,
              "#d8576b"
             ],
             [
              0.6666666666666666,
              "#ed7953"
             ],
             [
              0.7777777777777778,
              "#fb9f3a"
             ],
             [
              0.8888888888888888,
              "#fdca26"
             ],
             [
              1,
              "#f0f921"
             ]
            ],
            "type": "heatmap"
           }
          ],
          "heatmapgl": [
           {
            "colorbar": {
             "outlinewidth": 0,
             "ticks": ""
            },
            "colorscale": [
             [
              0,
              "#0d0887"
             ],
             [
              0.1111111111111111,
              "#46039f"
             ],
             [
              0.2222222222222222,
              "#7201a8"
             ],
             [
              0.3333333333333333,
              "#9c179e"
             ],
             [
              0.4444444444444444,
              "#bd3786"
             ],
             [
              0.5555555555555556,
              "#d8576b"
             ],
             [
              0.6666666666666666,
              "#ed7953"
             ],
             [
              0.7777777777777778,
              "#fb9f3a"
             ],
             [
              0.8888888888888888,
              "#fdca26"
             ],
             [
              1,
              "#f0f921"
             ]
            ],
            "type": "heatmapgl"
           }
          ],
          "histogram": [
           {
            "marker": {
             "pattern": {
              "fillmode": "overlay",
              "size": 10,
              "solidity": 0.2
             }
            },
            "type": "histogram"
           }
          ],
          "histogram2d": [
           {
            "colorbar": {
             "outlinewidth": 0,
             "ticks": ""
            },
            "colorscale": [
             [
              0,
              "#0d0887"
             ],
             [
              0.1111111111111111,
              "#46039f"
             ],
             [
              0.2222222222222222,
              "#7201a8"
             ],
             [
              0.3333333333333333,
              "#9c179e"
             ],
             [
              0.4444444444444444,
              "#bd3786"
             ],
             [
              0.5555555555555556,
              "#d8576b"
             ],
             [
              0.6666666666666666,
              "#ed7953"
             ],
             [
              0.7777777777777778,
              "#fb9f3a"
             ],
             [
              0.8888888888888888,
              "#fdca26"
             ],
             [
              1,
              "#f0f921"
             ]
            ],
            "type": "histogram2d"
           }
          ],
          "histogram2dcontour": [
           {
            "colorbar": {
             "outlinewidth": 0,
             "ticks": ""
            },
            "colorscale": [
             [
              0,
              "#0d0887"
             ],
             [
              0.1111111111111111,
              "#46039f"
             ],
             [
              0.2222222222222222,
              "#7201a8"
             ],
             [
              0.3333333333333333,
              "#9c179e"
             ],
             [
              0.4444444444444444,
              "#bd3786"
             ],
             [
              0.5555555555555556,
              "#d8576b"
             ],
             [
              0.6666666666666666,
              "#ed7953"
             ],
             [
              0.7777777777777778,
              "#fb9f3a"
             ],
             [
              0.8888888888888888,
              "#fdca26"
             ],
             [
              1,
              "#f0f921"
             ]
            ],
            "type": "histogram2dcontour"
           }
          ],
          "mesh3d": [
           {
            "colorbar": {
             "outlinewidth": 0,
             "ticks": ""
            },
            "type": "mesh3d"
           }
          ],
          "parcoords": [
           {
            "line": {
             "colorbar": {
              "outlinewidth": 0,
              "ticks": ""
             }
            },
            "type": "parcoords"
           }
          ],
          "pie": [
           {
            "automargin": true,
            "type": "pie"
           }
          ],
          "scatter": [
           {
            "marker": {
             "colorbar": {
              "outlinewidth": 0,
              "ticks": ""
             }
            },
            "type": "scatter"
           }
          ],
          "scatter3d": [
           {
            "line": {
             "colorbar": {
              "outlinewidth": 0,
              "ticks": ""
             }
            },
            "marker": {
             "colorbar": {
              "outlinewidth": 0,
              "ticks": ""
             }
            },
            "type": "scatter3d"
           }
          ],
          "scattercarpet": [
           {
            "marker": {
             "colorbar": {
              "outlinewidth": 0,
              "ticks": ""
             }
            },
            "type": "scattercarpet"
           }
          ],
          "scattergeo": [
           {
            "marker": {
             "colorbar": {
              "outlinewidth": 0,
              "ticks": ""
             }
            },
            "type": "scattergeo"
           }
          ],
          "scattergl": [
           {
            "marker": {
             "colorbar": {
              "outlinewidth": 0,
              "ticks": ""
             }
            },
            "type": "scattergl"
           }
          ],
          "scattermapbox": [
           {
            "marker": {
             "colorbar": {
              "outlinewidth": 0,
              "ticks": ""
             }
            },
            "type": "scattermapbox"
           }
          ],
          "scatterpolar": [
           {
            "marker": {
             "colorbar": {
              "outlinewidth": 0,
              "ticks": ""
             }
            },
            "type": "scatterpolar"
           }
          ],
          "scatterpolargl": [
           {
            "marker": {
             "colorbar": {
              "outlinewidth": 0,
              "ticks": ""
             }
            },
            "type": "scatterpolargl"
           }
          ],
          "scatterternary": [
           {
            "marker": {
             "colorbar": {
              "outlinewidth": 0,
              "ticks": ""
             }
            },
            "type": "scatterternary"
           }
          ],
          "surface": [
           {
            "colorbar": {
             "outlinewidth": 0,
             "ticks": ""
            },
            "colorscale": [
             [
              0,
              "#0d0887"
             ],
             [
              0.1111111111111111,
              "#46039f"
             ],
             [
              0.2222222222222222,
              "#7201a8"
             ],
             [
              0.3333333333333333,
              "#9c179e"
             ],
             [
              0.4444444444444444,
              "#bd3786"
             ],
             [
              0.5555555555555556,
              "#d8576b"
             ],
             [
              0.6666666666666666,
              "#ed7953"
             ],
             [
              0.7777777777777778,
              "#fb9f3a"
             ],
             [
              0.8888888888888888,
              "#fdca26"
             ],
             [
              1,
              "#f0f921"
             ]
            ],
            "type": "surface"
           }
          ],
          "table": [
           {
            "cells": {
             "fill": {
              "color": "#EBF0F8"
             },
             "line": {
              "color": "white"
             }
            },
            "header": {
             "fill": {
              "color": "#C8D4E3"
             },
             "line": {
              "color": "white"
             }
            },
            "type": "table"
           }
          ]
         },
         "layout": {
          "annotationdefaults": {
           "arrowcolor": "#2a3f5f",
           "arrowhead": 0,
           "arrowwidth": 1
          },
          "autotypenumbers": "strict",
          "coloraxis": {
           "colorbar": {
            "outlinewidth": 0,
            "ticks": ""
           }
          },
          "colorscale": {
           "diverging": [
            [
             0,
             "#8e0152"
            ],
            [
             0.1,
             "#c51b7d"
            ],
            [
             0.2,
             "#de77ae"
            ],
            [
             0.3,
             "#f1b6da"
            ],
            [
             0.4,
             "#fde0ef"
            ],
            [
             0.5,
             "#f7f7f7"
            ],
            [
             0.6,
             "#e6f5d0"
            ],
            [
             0.7,
             "#b8e186"
            ],
            [
             0.8,
             "#7fbc41"
            ],
            [
             0.9,
             "#4d9221"
            ],
            [
             1,
             "#276419"
            ]
           ],
           "sequential": [
            [
             0,
             "#0d0887"
            ],
            [
             0.1111111111111111,
             "#46039f"
            ],
            [
             0.2222222222222222,
             "#7201a8"
            ],
            [
             0.3333333333333333,
             "#9c179e"
            ],
            [
             0.4444444444444444,
             "#bd3786"
            ],
            [
             0.5555555555555556,
             "#d8576b"
            ],
            [
             0.6666666666666666,
             "#ed7953"
            ],
            [
             0.7777777777777778,
             "#fb9f3a"
            ],
            [
             0.8888888888888888,
             "#fdca26"
            ],
            [
             1,
             "#f0f921"
            ]
           ],
           "sequentialminus": [
            [
             0,
             "#0d0887"
            ],
            [
             0.1111111111111111,
             "#46039f"
            ],
            [
             0.2222222222222222,
             "#7201a8"
            ],
            [
             0.3333333333333333,
             "#9c179e"
            ],
            [
             0.4444444444444444,
             "#bd3786"
            ],
            [
             0.5555555555555556,
             "#d8576b"
            ],
            [
             0.6666666666666666,
             "#ed7953"
            ],
            [
             0.7777777777777778,
             "#fb9f3a"
            ],
            [
             0.8888888888888888,
             "#fdca26"
            ],
            [
             1,
             "#f0f921"
            ]
           ]
          },
          "colorway": [
           "#636efa",
           "#EF553B",
           "#00cc96",
           "#ab63fa",
           "#FFA15A",
           "#19d3f3",
           "#FF6692",
           "#B6E880",
           "#FF97FF",
           "#FECB52"
          ],
          "font": {
           "color": "#2a3f5f"
          },
          "geo": {
           "bgcolor": "white",
           "lakecolor": "white",
           "landcolor": "#E5ECF6",
           "showlakes": true,
           "showland": true,
           "subunitcolor": "white"
          },
          "hoverlabel": {
           "align": "left"
          },
          "hovermode": "closest",
          "mapbox": {
           "style": "light"
          },
          "paper_bgcolor": "white",
          "plot_bgcolor": "#E5ECF6",
          "polar": {
           "angularaxis": {
            "gridcolor": "white",
            "linecolor": "white",
            "ticks": ""
           },
           "bgcolor": "#E5ECF6",
           "radialaxis": {
            "gridcolor": "white",
            "linecolor": "white",
            "ticks": ""
           }
          },
          "scene": {
           "xaxis": {
            "backgroundcolor": "#E5ECF6",
            "gridcolor": "white",
            "gridwidth": 2,
            "linecolor": "white",
            "showbackground": true,
            "ticks": "",
            "zerolinecolor": "white"
           },
           "yaxis": {
            "backgroundcolor": "#E5ECF6",
            "gridcolor": "white",
            "gridwidth": 2,
            "linecolor": "white",
            "showbackground": true,
            "ticks": "",
            "zerolinecolor": "white"
           },
           "zaxis": {
            "backgroundcolor": "#E5ECF6",
            "gridcolor": "white",
            "gridwidth": 2,
            "linecolor": "white",
            "showbackground": true,
            "ticks": "",
            "zerolinecolor": "white"
           }
          },
          "shapedefaults": {
           "line": {
            "color": "#2a3f5f"
           }
          },
          "ternary": {
           "aaxis": {
            "gridcolor": "white",
            "linecolor": "white",
            "ticks": ""
           },
           "baxis": {
            "gridcolor": "white",
            "linecolor": "white",
            "ticks": ""
           },
           "bgcolor": "#E5ECF6",
           "caxis": {
            "gridcolor": "white",
            "linecolor": "white",
            "ticks": ""
           }
          },
          "title": {
           "x": 0.05
          },
          "xaxis": {
           "automargin": true,
           "gridcolor": "white",
           "linecolor": "white",
           "ticks": "",
           "title": {
            "standoff": 15
           },
           "zerolinecolor": "white",
           "zerolinewidth": 2
          },
          "yaxis": {
           "automargin": true,
           "gridcolor": "white",
           "linecolor": "white",
           "ticks": "",
           "title": {
            "standoff": 15
           },
           "zerolinecolor": "white",
           "zerolinewidth": 2
          }
         }
        },
        "xaxis": {
         "anchor": "y",
         "domain": [
          0,
          1
         ],
         "title": {
          "text": "energy"
         }
        },
        "yaxis": {
         "anchor": "x",
         "domain": [
          0,
          1
         ],
         "title": {
          "text": "count"
         }
        }
       }
      }
     },
     "metadata": {},
     "output_type": "display_data"
    }
   ],
   "source": [
    "fig = px.histogram(samples_for_year, x=\"energy\")\n",
    "fig.show()"
   ]
  },
  {
   "cell_type": "code",
   "execution_count": 43,
   "metadata": {},
   "outputs": [
    {
     "data": {
      "application/vnd.plotly.v1+json": {
       "config": {
        "plotlyServerURL": "https://plot.ly"
       },
       "data": [
        {
         "alignmentgroup": "True",
         "hovertemplate": "energy=%{x}<extra></extra>",
         "legendgroup": "",
         "marker": {
          "color": "#636efa"
         },
         "name": "",
         "notched": false,
         "offsetgroup": "",
         "orientation": "h",
         "showlegend": false,
         "type": "box",
         "x": [
          0.504,
          0.531,
          0.665,
          0.699,
          0.603,
          0.505,
          0.505,
          0.831,
          0.533,
          0.551,
          0.694,
          0.833,
          0.693,
          0.804,
          0.495,
          0.843,
          0.543,
          0.817,
          0.49,
          0.665,
          0.637,
          0.715,
          0.766,
          0.872,
          0.0744,
          0.609,
          0.741,
          0.434,
          0.534,
          0.837,
          0.483,
          0.616,
          0.476,
          0.818,
          0.544,
          0.562,
          0.898,
          0.679,
          0.402,
          0.469,
          0.413,
          0.582,
          0.561,
          0.676,
          0.667,
          0.369,
          0.663,
          0.554,
          0.782,
          0.896,
          0.415,
          0.872,
          0.601,
          0.373,
          0.406,
          0.44,
          0.901,
          0.917,
          0.701,
          0.388,
          0.815,
          0.49,
          0.72,
          0.39,
          0.425,
          0.919,
          0.651,
          0.47,
          0.461,
          0.579,
          0.949,
          0.596,
          0.62,
          0.871,
          0.556,
          0.504,
          0.535,
          0.544,
          0.776,
          0.503,
          0.643,
          0.662,
          0.94,
          0.735,
          0.784,
          0.527,
          0.643,
          0.803,
          0.808,
          0.822,
          0.431,
          0.357,
          0.905,
          0.324,
          0.26,
          0.17,
          0.418,
          0.534,
          0.464,
          0.376,
          0.679,
          0.587,
          0.619,
          0.453,
          0.784,
          0.638,
          0.73,
          0.299,
          0.346,
          0.565,
          0.873,
          0.522,
          0.846,
          0.805,
          0.481,
          0.773,
          0.461,
          0.71,
          0.574,
          0.786,
          0.729,
          0.537,
          0.831,
          0.53,
          0.773,
          0.375,
          0.831,
          0.674,
          0.756,
          0.464,
          0.75,
          0.745,
          0.749,
          0.905,
          0.327,
          0.675,
          0.616,
          0.936,
          0.395,
          0.577,
          0.487,
          0.822,
          0.68,
          0.904,
          0.87,
          0.696,
          0.708,
          0.702,
          null,
          0.508,
          0.398,
          0.52,
          0.854,
          0.442,
          0.349,
          0.589,
          0.669,
          0.934,
          0.768,
          0.874,
          0.34,
          0.727,
          0.646,
          0.885,
          0.819,
          0.679,
          0.636,
          0.845,
          0.438,
          0.477,
          0.628,
          0.528,
          0.526,
          0.48,
          0.944,
          0.555,
          0.617,
          0.837,
          0.146,
          0.873,
          0.748,
          0.324,
          0.752,
          0.54,
          0.655,
          0.785,
          0.625,
          0.638,
          0.37,
          0.816,
          0.768,
          0.874,
          0.672,
          0.668,
          0.577,
          0.483,
          0.954,
          0.42,
          0.55,
          0.923,
          0.639,
          0.544,
          0.834,
          0.702,
          0.77,
          0.543,
          0.718,
          0.687,
          0.946,
          0.736,
          0.776,
          0.553,
          0.649,
          0.896,
          0.692,
          0.96,
          0.802,
          0.727,
          0.577,
          0.692,
          0.863,
          0.733,
          0.732,
          0.625,
          0.731,
          0.643,
          0.341,
          0.55,
          0.639,
          0.671,
          0.597,
          0.861,
          0.516,
          0.742,
          0.487,
          0.923,
          0.679,
          0.507,
          0.819,
          0.896,
          0.783,
          0.692,
          0.521,
          0.615,
          0.804,
          0.902,
          0.553,
          0.817,
          0.717,
          0.846,
          0.756,
          0.53,
          0.911,
          0.766,
          0.707,
          0.84,
          0.701,
          0.81,
          0.576,
          0.435,
          0.836,
          0.399,
          0.71,
          0.622,
          0.698,
          0.775,
          0.633,
          0.55,
          0.914,
          0.744,
          0.8,
          0.666,
          0.67,
          0.729,
          0.635,
          0.435,
          0.702,
          0.873,
          0.625,
          0.393,
          0.514,
          0.752,
          0.443,
          0.808,
          0.395,
          0.67,
          0.951,
          0.575,
          0.76,
          0.747,
          0.698,
          0.898,
          0.727,
          0.815,
          0.644,
          0.864,
          0.65,
          0.923,
          0.926,
          0.655,
          0.741,
          0.696,
          0.236,
          0.765,
          0.431,
          0.528,
          0.808,
          0.894,
          0.587,
          0.829,
          0.85,
          0.649,
          0.899,
          0.455,
          0.52,
          0.766,
          0.641,
          0.617,
          0.807,
          0.411,
          0.357,
          0.742,
          0.586,
          0.64,
          0.758,
          0.816,
          0.556,
          0.475,
          0.425,
          0.411,
          0.789,
          0.436,
          0.949,
          0.464,
          0.83,
          0.194,
          0.639,
          0.836,
          0.751,
          0.939,
          0.973,
          0.964,
          0.641,
          0.871,
          0.725,
          0.641,
          0.746,
          0.594,
          0.289,
          0.718,
          0.543,
          0.898,
          0.366,
          0.635,
          0.958,
          0.507,
          0.553,
          0.697,
          0.709,
          0.898,
          0.945,
          0.666,
          0.806,
          0.411,
          0.919,
          0.763,
          0.797,
          0.738,
          0.497,
          0.579,
          0.852,
          0.443,
          0.459,
          0.449,
          0.494,
          0.714,
          0.449,
          0.916,
          0.783,
          0.957,
          0.897,
          0.868,
          0.664,
          0.413,
          0.585,
          0.496,
          0.627,
          0.783,
          0.991,
          0.886,
          0.477,
          0.566,
          0.502,
          0.815,
          0.716,
          0.723,
          0.937,
          0.586,
          0.886,
          0.79,
          0.898,
          0.445,
          0.819,
          0.622,
          0.484,
          0.775,
          0.774,
          0.62,
          0.624,
          0.691,
          0.837,
          0.897,
          0.969,
          0.767,
          0.728,
          0.746,
          0.943,
          0.836,
          0.969,
          0.532,
          0.369,
          0.405,
          0.414,
          0.703,
          0.492,
          0.3,
          0.774,
          0.553,
          0.747,
          0.678,
          0.662,
          0.296,
          0.56,
          0.837
         ],
         "x0": " ",
         "xaxis": "x",
         "y0": " ",
         "yaxis": "y"
        }
       ],
       "layout": {
        "boxmode": "group",
        "legend": {
         "tracegroupgap": 0
        },
        "margin": {
         "t": 60
        },
        "template": {
         "data": {
          "bar": [
           {
            "error_x": {
             "color": "#2a3f5f"
            },
            "error_y": {
             "color": "#2a3f5f"
            },
            "marker": {
             "line": {
              "color": "#E5ECF6",
              "width": 0.5
             },
             "pattern": {
              "fillmode": "overlay",
              "size": 10,
              "solidity": 0.2
             }
            },
            "type": "bar"
           }
          ],
          "barpolar": [
           {
            "marker": {
             "line": {
              "color": "#E5ECF6",
              "width": 0.5
             },
             "pattern": {
              "fillmode": "overlay",
              "size": 10,
              "solidity": 0.2
             }
            },
            "type": "barpolar"
           }
          ],
          "carpet": [
           {
            "aaxis": {
             "endlinecolor": "#2a3f5f",
             "gridcolor": "white",
             "linecolor": "white",
             "minorgridcolor": "white",
             "startlinecolor": "#2a3f5f"
            },
            "baxis": {
             "endlinecolor": "#2a3f5f",
             "gridcolor": "white",
             "linecolor": "white",
             "minorgridcolor": "white",
             "startlinecolor": "#2a3f5f"
            },
            "type": "carpet"
           }
          ],
          "choropleth": [
           {
            "colorbar": {
             "outlinewidth": 0,
             "ticks": ""
            },
            "type": "choropleth"
           }
          ],
          "contour": [
           {
            "colorbar": {
             "outlinewidth": 0,
             "ticks": ""
            },
            "colorscale": [
             [
              0,
              "#0d0887"
             ],
             [
              0.1111111111111111,
              "#46039f"
             ],
             [
              0.2222222222222222,
              "#7201a8"
             ],
             [
              0.3333333333333333,
              "#9c179e"
             ],
             [
              0.4444444444444444,
              "#bd3786"
             ],
             [
              0.5555555555555556,
              "#d8576b"
             ],
             [
              0.6666666666666666,
              "#ed7953"
             ],
             [
              0.7777777777777778,
              "#fb9f3a"
             ],
             [
              0.8888888888888888,
              "#fdca26"
             ],
             [
              1,
              "#f0f921"
             ]
            ],
            "type": "contour"
           }
          ],
          "contourcarpet": [
           {
            "colorbar": {
             "outlinewidth": 0,
             "ticks": ""
            },
            "type": "contourcarpet"
           }
          ],
          "heatmap": [
           {
            "colorbar": {
             "outlinewidth": 0,
             "ticks": ""
            },
            "colorscale": [
             [
              0,
              "#0d0887"
             ],
             [
              0.1111111111111111,
              "#46039f"
             ],
             [
              0.2222222222222222,
              "#7201a8"
             ],
             [
              0.3333333333333333,
              "#9c179e"
             ],
             [
              0.4444444444444444,
              "#bd3786"
             ],
             [
              0.5555555555555556,
              "#d8576b"
             ],
             [
              0.6666666666666666,
              "#ed7953"
             ],
             [
              0.7777777777777778,
              "#fb9f3a"
             ],
             [
              0.8888888888888888,
              "#fdca26"
             ],
             [
              1,
              "#f0f921"
             ]
            ],
            "type": "heatmap"
           }
          ],
          "heatmapgl": [
           {
            "colorbar": {
             "outlinewidth": 0,
             "ticks": ""
            },
            "colorscale": [
             [
              0,
              "#0d0887"
             ],
             [
              0.1111111111111111,
              "#46039f"
             ],
             [
              0.2222222222222222,
              "#7201a8"
             ],
             [
              0.3333333333333333,
              "#9c179e"
             ],
             [
              0.4444444444444444,
              "#bd3786"
             ],
             [
              0.5555555555555556,
              "#d8576b"
             ],
             [
              0.6666666666666666,
              "#ed7953"
             ],
             [
              0.7777777777777778,
              "#fb9f3a"
             ],
             [
              0.8888888888888888,
              "#fdca26"
             ],
             [
              1,
              "#f0f921"
             ]
            ],
            "type": "heatmapgl"
           }
          ],
          "histogram": [
           {
            "marker": {
             "pattern": {
              "fillmode": "overlay",
              "size": 10,
              "solidity": 0.2
             }
            },
            "type": "histogram"
           }
          ],
          "histogram2d": [
           {
            "colorbar": {
             "outlinewidth": 0,
             "ticks": ""
            },
            "colorscale": [
             [
              0,
              "#0d0887"
             ],
             [
              0.1111111111111111,
              "#46039f"
             ],
             [
              0.2222222222222222,
              "#7201a8"
             ],
             [
              0.3333333333333333,
              "#9c179e"
             ],
             [
              0.4444444444444444,
              "#bd3786"
             ],
             [
              0.5555555555555556,
              "#d8576b"
             ],
             [
              0.6666666666666666,
              "#ed7953"
             ],
             [
              0.7777777777777778,
              "#fb9f3a"
             ],
             [
              0.8888888888888888,
              "#fdca26"
             ],
             [
              1,
              "#f0f921"
             ]
            ],
            "type": "histogram2d"
           }
          ],
          "histogram2dcontour": [
           {
            "colorbar": {
             "outlinewidth": 0,
             "ticks": ""
            },
            "colorscale": [
             [
              0,
              "#0d0887"
             ],
             [
              0.1111111111111111,
              "#46039f"
             ],
             [
              0.2222222222222222,
              "#7201a8"
             ],
             [
              0.3333333333333333,
              "#9c179e"
             ],
             [
              0.4444444444444444,
              "#bd3786"
             ],
             [
              0.5555555555555556,
              "#d8576b"
             ],
             [
              0.6666666666666666,
              "#ed7953"
             ],
             [
              0.7777777777777778,
              "#fb9f3a"
             ],
             [
              0.8888888888888888,
              "#fdca26"
             ],
             [
              1,
              "#f0f921"
             ]
            ],
            "type": "histogram2dcontour"
           }
          ],
          "mesh3d": [
           {
            "colorbar": {
             "outlinewidth": 0,
             "ticks": ""
            },
            "type": "mesh3d"
           }
          ],
          "parcoords": [
           {
            "line": {
             "colorbar": {
              "outlinewidth": 0,
              "ticks": ""
             }
            },
            "type": "parcoords"
           }
          ],
          "pie": [
           {
            "automargin": true,
            "type": "pie"
           }
          ],
          "scatter": [
           {
            "marker": {
             "colorbar": {
              "outlinewidth": 0,
              "ticks": ""
             }
            },
            "type": "scatter"
           }
          ],
          "scatter3d": [
           {
            "line": {
             "colorbar": {
              "outlinewidth": 0,
              "ticks": ""
             }
            },
            "marker": {
             "colorbar": {
              "outlinewidth": 0,
              "ticks": ""
             }
            },
            "type": "scatter3d"
           }
          ],
          "scattercarpet": [
           {
            "marker": {
             "colorbar": {
              "outlinewidth": 0,
              "ticks": ""
             }
            },
            "type": "scattercarpet"
           }
          ],
          "scattergeo": [
           {
            "marker": {
             "colorbar": {
              "outlinewidth": 0,
              "ticks": ""
             }
            },
            "type": "scattergeo"
           }
          ],
          "scattergl": [
           {
            "marker": {
             "colorbar": {
              "outlinewidth": 0,
              "ticks": ""
             }
            },
            "type": "scattergl"
           }
          ],
          "scattermapbox": [
           {
            "marker": {
             "colorbar": {
              "outlinewidth": 0,
              "ticks": ""
             }
            },
            "type": "scattermapbox"
           }
          ],
          "scatterpolar": [
           {
            "marker": {
             "colorbar": {
              "outlinewidth": 0,
              "ticks": ""
             }
            },
            "type": "scatterpolar"
           }
          ],
          "scatterpolargl": [
           {
            "marker": {
             "colorbar": {
              "outlinewidth": 0,
              "ticks": ""
             }
            },
            "type": "scatterpolargl"
           }
          ],
          "scatterternary": [
           {
            "marker": {
             "colorbar": {
              "outlinewidth": 0,
              "ticks": ""
             }
            },
            "type": "scatterternary"
           }
          ],
          "surface": [
           {
            "colorbar": {
             "outlinewidth": 0,
             "ticks": ""
            },
            "colorscale": [
             [
              0,
              "#0d0887"
             ],
             [
              0.1111111111111111,
              "#46039f"
             ],
             [
              0.2222222222222222,
              "#7201a8"
             ],
             [
              0.3333333333333333,
              "#9c179e"
             ],
             [
              0.4444444444444444,
              "#bd3786"
             ],
             [
              0.5555555555555556,
              "#d8576b"
             ],
             [
              0.6666666666666666,
              "#ed7953"
             ],
             [
              0.7777777777777778,
              "#fb9f3a"
             ],
             [
              0.8888888888888888,
              "#fdca26"
             ],
             [
              1,
              "#f0f921"
             ]
            ],
            "type": "surface"
           }
          ],
          "table": [
           {
            "cells": {
             "fill": {
              "color": "#EBF0F8"
             },
             "line": {
              "color": "white"
             }
            },
            "header": {
             "fill": {
              "color": "#C8D4E3"
             },
             "line": {
              "color": "white"
             }
            },
            "type": "table"
           }
          ]
         },
         "layout": {
          "annotationdefaults": {
           "arrowcolor": "#2a3f5f",
           "arrowhead": 0,
           "arrowwidth": 1
          },
          "autotypenumbers": "strict",
          "coloraxis": {
           "colorbar": {
            "outlinewidth": 0,
            "ticks": ""
           }
          },
          "colorscale": {
           "diverging": [
            [
             0,
             "#8e0152"
            ],
            [
             0.1,
             "#c51b7d"
            ],
            [
             0.2,
             "#de77ae"
            ],
            [
             0.3,
             "#f1b6da"
            ],
            [
             0.4,
             "#fde0ef"
            ],
            [
             0.5,
             "#f7f7f7"
            ],
            [
             0.6,
             "#e6f5d0"
            ],
            [
             0.7,
             "#b8e186"
            ],
            [
             0.8,
             "#7fbc41"
            ],
            [
             0.9,
             "#4d9221"
            ],
            [
             1,
             "#276419"
            ]
           ],
           "sequential": [
            [
             0,
             "#0d0887"
            ],
            [
             0.1111111111111111,
             "#46039f"
            ],
            [
             0.2222222222222222,
             "#7201a8"
            ],
            [
             0.3333333333333333,
             "#9c179e"
            ],
            [
             0.4444444444444444,
             "#bd3786"
            ],
            [
             0.5555555555555556,
             "#d8576b"
            ],
            [
             0.6666666666666666,
             "#ed7953"
            ],
            [
             0.7777777777777778,
             "#fb9f3a"
            ],
            [
             0.8888888888888888,
             "#fdca26"
            ],
            [
             1,
             "#f0f921"
            ]
           ],
           "sequentialminus": [
            [
             0,
             "#0d0887"
            ],
            [
             0.1111111111111111,
             "#46039f"
            ],
            [
             0.2222222222222222,
             "#7201a8"
            ],
            [
             0.3333333333333333,
             "#9c179e"
            ],
            [
             0.4444444444444444,
             "#bd3786"
            ],
            [
             0.5555555555555556,
             "#d8576b"
            ],
            [
             0.6666666666666666,
             "#ed7953"
            ],
            [
             0.7777777777777778,
             "#fb9f3a"
            ],
            [
             0.8888888888888888,
             "#fdca26"
            ],
            [
             1,
             "#f0f921"
            ]
           ]
          },
          "colorway": [
           "#636efa",
           "#EF553B",
           "#00cc96",
           "#ab63fa",
           "#FFA15A",
           "#19d3f3",
           "#FF6692",
           "#B6E880",
           "#FF97FF",
           "#FECB52"
          ],
          "font": {
           "color": "#2a3f5f"
          },
          "geo": {
           "bgcolor": "white",
           "lakecolor": "white",
           "landcolor": "#E5ECF6",
           "showlakes": true,
           "showland": true,
           "subunitcolor": "white"
          },
          "hoverlabel": {
           "align": "left"
          },
          "hovermode": "closest",
          "mapbox": {
           "style": "light"
          },
          "paper_bgcolor": "white",
          "plot_bgcolor": "#E5ECF6",
          "polar": {
           "angularaxis": {
            "gridcolor": "white",
            "linecolor": "white",
            "ticks": ""
           },
           "bgcolor": "#E5ECF6",
           "radialaxis": {
            "gridcolor": "white",
            "linecolor": "white",
            "ticks": ""
           }
          },
          "scene": {
           "xaxis": {
            "backgroundcolor": "#E5ECF6",
            "gridcolor": "white",
            "gridwidth": 2,
            "linecolor": "white",
            "showbackground": true,
            "ticks": "",
            "zerolinecolor": "white"
           },
           "yaxis": {
            "backgroundcolor": "#E5ECF6",
            "gridcolor": "white",
            "gridwidth": 2,
            "linecolor": "white",
            "showbackground": true,
            "ticks": "",
            "zerolinecolor": "white"
           },
           "zaxis": {
            "backgroundcolor": "#E5ECF6",
            "gridcolor": "white",
            "gridwidth": 2,
            "linecolor": "white",
            "showbackground": true,
            "ticks": "",
            "zerolinecolor": "white"
           }
          },
          "shapedefaults": {
           "line": {
            "color": "#2a3f5f"
           }
          },
          "ternary": {
           "aaxis": {
            "gridcolor": "white",
            "linecolor": "white",
            "ticks": ""
           },
           "baxis": {
            "gridcolor": "white",
            "linecolor": "white",
            "ticks": ""
           },
           "bgcolor": "#E5ECF6",
           "caxis": {
            "gridcolor": "white",
            "linecolor": "white",
            "ticks": ""
           }
          },
          "title": {
           "x": 0.05
          },
          "xaxis": {
           "automargin": true,
           "gridcolor": "white",
           "linecolor": "white",
           "ticks": "",
           "title": {
            "standoff": 15
           },
           "zerolinecolor": "white",
           "zerolinewidth": 2
          },
          "yaxis": {
           "automargin": true,
           "gridcolor": "white",
           "linecolor": "white",
           "ticks": "",
           "title": {
            "standoff": 15
           },
           "zerolinecolor": "white",
           "zerolinewidth": 2
          }
         }
        },
        "xaxis": {
         "anchor": "y",
         "domain": [
          0,
          1
         ],
         "title": {
          "text": "energy"
         }
        },
        "yaxis": {
         "anchor": "x",
         "domain": [
          0,
          1
         ]
        }
       }
      }
     },
     "metadata": {},
     "output_type": "display_data"
    }
   ],
   "source": [
    "fig = px.box(df_99, x=\"energy\")\n",
    "fig.show()"
   ]
  },
  {
   "cell_type": "code",
   "execution_count": 55,
   "metadata": {},
   "outputs": [
    {
     "data": {
      "application/vnd.plotly.v1+json": {
       "config": {
        "plotlyServerURL": "https://plot.ly"
       },
       "data": [
        {
         "alignmentgroup": "True",
         "hovertemplate": "energy=%{x}<extra></extra>",
         "legendgroup": "",
         "marker": {
          "color": "#636efa"
         },
         "name": "",
         "notched": false,
         "offsetgroup": "",
         "orientation": "h",
         "showlegend": false,
         "type": "box",
         "x": [
          0.563,
          0.85,
          0.325,
          0.378,
          0.641,
          0.594,
          0.347,
          0.728,
          0.652,
          0.545,
          0.521,
          0.488,
          0.888,
          0.406,
          0.496,
          0.407,
          0.446,
          0.697,
          0.678,
          0.438,
          0.64,
          0.959,
          0.695,
          0.425,
          0.659,
          0.779,
          0.883,
          0.617,
          0.544,
          0.88,
          0.884,
          0.803,
          0.323,
          0.75,
          0.596,
          0.879,
          0.59,
          0.837,
          0.593,
          0.711,
          0.495,
          0.847,
          0.717,
          0.667,
          0.582,
          0.938,
          0.611,
          0.919,
          0.758,
          0.86,
          0.497,
          0.903,
          0.937,
          0.45,
          0.871,
          0.666,
          0.916,
          0.755,
          0.704,
          0.837,
          0.876,
          0.421,
          0.769,
          0.889,
          0.842,
          0.634,
          0.621,
          0.446,
          0.79,
          0.628,
          0.877,
          0.477,
          0.814,
          0.871,
          0.991,
          0.439,
          0.812,
          0.949,
          0.91,
          0.435,
          0.586,
          0.231,
          0.498,
          0.589,
          0.59,
          0.795,
          0.826,
          0.98,
          0.633,
          0.712,
          0.911,
          0.534,
          0.821,
          0.9,
          0.579,
          0.709,
          0.414,
          0.826,
          0.468,
          0.922,
          0.73,
          0.484,
          0.884,
          0.853,
          0.851,
          0.837,
          0.683,
          0.657,
          0.853,
          0.955,
          0.706,
          0.819,
          0.742,
          0.931,
          0.722,
          0.903,
          0.125,
          0.476,
          0.534,
          0.386,
          0.947,
          0.852,
          0.49,
          0.558,
          0.901,
          0.709,
          0.779,
          0.937,
          0.902,
          0.85,
          0.59,
          0.477,
          0.923,
          0.564,
          0.775,
          0.777,
          0.876,
          0.896,
          0.978,
          0.955,
          0.924,
          0.92,
          0.934,
          0.938,
          0.773,
          0.888,
          0.917,
          0.239,
          0.843,
          0.578,
          0.756,
          0.0736,
          0.566,
          0.913,
          0.447,
          0.471,
          0.573,
          0.936,
          0.449,
          0.883,
          0.323,
          0.295,
          0.932,
          0.99,
          0.801,
          0.949,
          0.96,
          0.782,
          0.841,
          0.88,
          0.0513,
          0.496,
          0.627,
          0.594,
          0.743
         ],
         "x0": " ",
         "xaxis": "x",
         "y0": " ",
         "yaxis": "y"
        }
       ],
       "layout": {
        "boxmode": "group",
        "legend": {
         "tracegroupgap": 0
        },
        "margin": {
         "t": 60
        },
        "template": {
         "data": {
          "bar": [
           {
            "error_x": {
             "color": "#2a3f5f"
            },
            "error_y": {
             "color": "#2a3f5f"
            },
            "marker": {
             "line": {
              "color": "#E5ECF6",
              "width": 0.5
             },
             "pattern": {
              "fillmode": "overlay",
              "size": 10,
              "solidity": 0.2
             }
            },
            "type": "bar"
           }
          ],
          "barpolar": [
           {
            "marker": {
             "line": {
              "color": "#E5ECF6",
              "width": 0.5
             },
             "pattern": {
              "fillmode": "overlay",
              "size": 10,
              "solidity": 0.2
             }
            },
            "type": "barpolar"
           }
          ],
          "carpet": [
           {
            "aaxis": {
             "endlinecolor": "#2a3f5f",
             "gridcolor": "white",
             "linecolor": "white",
             "minorgridcolor": "white",
             "startlinecolor": "#2a3f5f"
            },
            "baxis": {
             "endlinecolor": "#2a3f5f",
             "gridcolor": "white",
             "linecolor": "white",
             "minorgridcolor": "white",
             "startlinecolor": "#2a3f5f"
            },
            "type": "carpet"
           }
          ],
          "choropleth": [
           {
            "colorbar": {
             "outlinewidth": 0,
             "ticks": ""
            },
            "type": "choropleth"
           }
          ],
          "contour": [
           {
            "colorbar": {
             "outlinewidth": 0,
             "ticks": ""
            },
            "colorscale": [
             [
              0,
              "#0d0887"
             ],
             [
              0.1111111111111111,
              "#46039f"
             ],
             [
              0.2222222222222222,
              "#7201a8"
             ],
             [
              0.3333333333333333,
              "#9c179e"
             ],
             [
              0.4444444444444444,
              "#bd3786"
             ],
             [
              0.5555555555555556,
              "#d8576b"
             ],
             [
              0.6666666666666666,
              "#ed7953"
             ],
             [
              0.7777777777777778,
              "#fb9f3a"
             ],
             [
              0.8888888888888888,
              "#fdca26"
             ],
             [
              1,
              "#f0f921"
             ]
            ],
            "type": "contour"
           }
          ],
          "contourcarpet": [
           {
            "colorbar": {
             "outlinewidth": 0,
             "ticks": ""
            },
            "type": "contourcarpet"
           }
          ],
          "heatmap": [
           {
            "colorbar": {
             "outlinewidth": 0,
             "ticks": ""
            },
            "colorscale": [
             [
              0,
              "#0d0887"
             ],
             [
              0.1111111111111111,
              "#46039f"
             ],
             [
              0.2222222222222222,
              "#7201a8"
             ],
             [
              0.3333333333333333,
              "#9c179e"
             ],
             [
              0.4444444444444444,
              "#bd3786"
             ],
             [
              0.5555555555555556,
              "#d8576b"
             ],
             [
              0.6666666666666666,
              "#ed7953"
             ],
             [
              0.7777777777777778,
              "#fb9f3a"
             ],
             [
              0.8888888888888888,
              "#fdca26"
             ],
             [
              1,
              "#f0f921"
             ]
            ],
            "type": "heatmap"
           }
          ],
          "heatmapgl": [
           {
            "colorbar": {
             "outlinewidth": 0,
             "ticks": ""
            },
            "colorscale": [
             [
              0,
              "#0d0887"
             ],
             [
              0.1111111111111111,
              "#46039f"
             ],
             [
              0.2222222222222222,
              "#7201a8"
             ],
             [
              0.3333333333333333,
              "#9c179e"
             ],
             [
              0.4444444444444444,
              "#bd3786"
             ],
             [
              0.5555555555555556,
              "#d8576b"
             ],
             [
              0.6666666666666666,
              "#ed7953"
             ],
             [
              0.7777777777777778,
              "#fb9f3a"
             ],
             [
              0.8888888888888888,
              "#fdca26"
             ],
             [
              1,
              "#f0f921"
             ]
            ],
            "type": "heatmapgl"
           }
          ],
          "histogram": [
           {
            "marker": {
             "pattern": {
              "fillmode": "overlay",
              "size": 10,
              "solidity": 0.2
             }
            },
            "type": "histogram"
           }
          ],
          "histogram2d": [
           {
            "colorbar": {
             "outlinewidth": 0,
             "ticks": ""
            },
            "colorscale": [
             [
              0,
              "#0d0887"
             ],
             [
              0.1111111111111111,
              "#46039f"
             ],
             [
              0.2222222222222222,
              "#7201a8"
             ],
             [
              0.3333333333333333,
              "#9c179e"
             ],
             [
              0.4444444444444444,
              "#bd3786"
             ],
             [
              0.5555555555555556,
              "#d8576b"
             ],
             [
              0.6666666666666666,
              "#ed7953"
             ],
             [
              0.7777777777777778,
              "#fb9f3a"
             ],
             [
              0.8888888888888888,
              "#fdca26"
             ],
             [
              1,
              "#f0f921"
             ]
            ],
            "type": "histogram2d"
           }
          ],
          "histogram2dcontour": [
           {
            "colorbar": {
             "outlinewidth": 0,
             "ticks": ""
            },
            "colorscale": [
             [
              0,
              "#0d0887"
             ],
             [
              0.1111111111111111,
              "#46039f"
             ],
             [
              0.2222222222222222,
              "#7201a8"
             ],
             [
              0.3333333333333333,
              "#9c179e"
             ],
             [
              0.4444444444444444,
              "#bd3786"
             ],
             [
              0.5555555555555556,
              "#d8576b"
             ],
             [
              0.6666666666666666,
              "#ed7953"
             ],
             [
              0.7777777777777778,
              "#fb9f3a"
             ],
             [
              0.8888888888888888,
              "#fdca26"
             ],
             [
              1,
              "#f0f921"
             ]
            ],
            "type": "histogram2dcontour"
           }
          ],
          "mesh3d": [
           {
            "colorbar": {
             "outlinewidth": 0,
             "ticks": ""
            },
            "type": "mesh3d"
           }
          ],
          "parcoords": [
           {
            "line": {
             "colorbar": {
              "outlinewidth": 0,
              "ticks": ""
             }
            },
            "type": "parcoords"
           }
          ],
          "pie": [
           {
            "automargin": true,
            "type": "pie"
           }
          ],
          "scatter": [
           {
            "marker": {
             "colorbar": {
              "outlinewidth": 0,
              "ticks": ""
             }
            },
            "type": "scatter"
           }
          ],
          "scatter3d": [
           {
            "line": {
             "colorbar": {
              "outlinewidth": 0,
              "ticks": ""
             }
            },
            "marker": {
             "colorbar": {
              "outlinewidth": 0,
              "ticks": ""
             }
            },
            "type": "scatter3d"
           }
          ],
          "scattercarpet": [
           {
            "marker": {
             "colorbar": {
              "outlinewidth": 0,
              "ticks": ""
             }
            },
            "type": "scattercarpet"
           }
          ],
          "scattergeo": [
           {
            "marker": {
             "colorbar": {
              "outlinewidth": 0,
              "ticks": ""
             }
            },
            "type": "scattergeo"
           }
          ],
          "scattergl": [
           {
            "marker": {
             "colorbar": {
              "outlinewidth": 0,
              "ticks": ""
             }
            },
            "type": "scattergl"
           }
          ],
          "scattermapbox": [
           {
            "marker": {
             "colorbar": {
              "outlinewidth": 0,
              "ticks": ""
             }
            },
            "type": "scattermapbox"
           }
          ],
          "scatterpolar": [
           {
            "marker": {
             "colorbar": {
              "outlinewidth": 0,
              "ticks": ""
             }
            },
            "type": "scatterpolar"
           }
          ],
          "scatterpolargl": [
           {
            "marker": {
             "colorbar": {
              "outlinewidth": 0,
              "ticks": ""
             }
            },
            "type": "scatterpolargl"
           }
          ],
          "scatterternary": [
           {
            "marker": {
             "colorbar": {
              "outlinewidth": 0,
              "ticks": ""
             }
            },
            "type": "scatterternary"
           }
          ],
          "surface": [
           {
            "colorbar": {
             "outlinewidth": 0,
             "ticks": ""
            },
            "colorscale": [
             [
              0,
              "#0d0887"
             ],
             [
              0.1111111111111111,
              "#46039f"
             ],
             [
              0.2222222222222222,
              "#7201a8"
             ],
             [
              0.3333333333333333,
              "#9c179e"
             ],
             [
              0.4444444444444444,
              "#bd3786"
             ],
             [
              0.5555555555555556,
              "#d8576b"
             ],
             [
              0.6666666666666666,
              "#ed7953"
             ],
             [
              0.7777777777777778,
              "#fb9f3a"
             ],
             [
              0.8888888888888888,
              "#fdca26"
             ],
             [
              1,
              "#f0f921"
             ]
            ],
            "type": "surface"
           }
          ],
          "table": [
           {
            "cells": {
             "fill": {
              "color": "#EBF0F8"
             },
             "line": {
              "color": "white"
             }
            },
            "header": {
             "fill": {
              "color": "#C8D4E3"
             },
             "line": {
              "color": "white"
             }
            },
            "type": "table"
           }
          ]
         },
         "layout": {
          "annotationdefaults": {
           "arrowcolor": "#2a3f5f",
           "arrowhead": 0,
           "arrowwidth": 1
          },
          "autotypenumbers": "strict",
          "coloraxis": {
           "colorbar": {
            "outlinewidth": 0,
            "ticks": ""
           }
          },
          "colorscale": {
           "diverging": [
            [
             0,
             "#8e0152"
            ],
            [
             0.1,
             "#c51b7d"
            ],
            [
             0.2,
             "#de77ae"
            ],
            [
             0.3,
             "#f1b6da"
            ],
            [
             0.4,
             "#fde0ef"
            ],
            [
             0.5,
             "#f7f7f7"
            ],
            [
             0.6,
             "#e6f5d0"
            ],
            [
             0.7,
             "#b8e186"
            ],
            [
             0.8,
             "#7fbc41"
            ],
            [
             0.9,
             "#4d9221"
            ],
            [
             1,
             "#276419"
            ]
           ],
           "sequential": [
            [
             0,
             "#0d0887"
            ],
            [
             0.1111111111111111,
             "#46039f"
            ],
            [
             0.2222222222222222,
             "#7201a8"
            ],
            [
             0.3333333333333333,
             "#9c179e"
            ],
            [
             0.4444444444444444,
             "#bd3786"
            ],
            [
             0.5555555555555556,
             "#d8576b"
            ],
            [
             0.6666666666666666,
             "#ed7953"
            ],
            [
             0.7777777777777778,
             "#fb9f3a"
            ],
            [
             0.8888888888888888,
             "#fdca26"
            ],
            [
             1,
             "#f0f921"
            ]
           ],
           "sequentialminus": [
            [
             0,
             "#0d0887"
            ],
            [
             0.1111111111111111,
             "#46039f"
            ],
            [
             0.2222222222222222,
             "#7201a8"
            ],
            [
             0.3333333333333333,
             "#9c179e"
            ],
            [
             0.4444444444444444,
             "#bd3786"
            ],
            [
             0.5555555555555556,
             "#d8576b"
            ],
            [
             0.6666666666666666,
             "#ed7953"
            ],
            [
             0.7777777777777778,
             "#fb9f3a"
            ],
            [
             0.8888888888888888,
             "#fdca26"
            ],
            [
             1,
             "#f0f921"
            ]
           ]
          },
          "colorway": [
           "#636efa",
           "#EF553B",
           "#00cc96",
           "#ab63fa",
           "#FFA15A",
           "#19d3f3",
           "#FF6692",
           "#B6E880",
           "#FF97FF",
           "#FECB52"
          ],
          "font": {
           "color": "#2a3f5f"
          },
          "geo": {
           "bgcolor": "white",
           "lakecolor": "white",
           "landcolor": "#E5ECF6",
           "showlakes": true,
           "showland": true,
           "subunitcolor": "white"
          },
          "hoverlabel": {
           "align": "left"
          },
          "hovermode": "closest",
          "mapbox": {
           "style": "light"
          },
          "paper_bgcolor": "white",
          "plot_bgcolor": "#E5ECF6",
          "polar": {
           "angularaxis": {
            "gridcolor": "white",
            "linecolor": "white",
            "ticks": ""
           },
           "bgcolor": "#E5ECF6",
           "radialaxis": {
            "gridcolor": "white",
            "linecolor": "white",
            "ticks": ""
           }
          },
          "scene": {
           "xaxis": {
            "backgroundcolor": "#E5ECF6",
            "gridcolor": "white",
            "gridwidth": 2,
            "linecolor": "white",
            "showbackground": true,
            "ticks": "",
            "zerolinecolor": "white"
           },
           "yaxis": {
            "backgroundcolor": "#E5ECF6",
            "gridcolor": "white",
            "gridwidth": 2,
            "linecolor": "white",
            "showbackground": true,
            "ticks": "",
            "zerolinecolor": "white"
           },
           "zaxis": {
            "backgroundcolor": "#E5ECF6",
            "gridcolor": "white",
            "gridwidth": 2,
            "linecolor": "white",
            "showbackground": true,
            "ticks": "",
            "zerolinecolor": "white"
           }
          },
          "shapedefaults": {
           "line": {
            "color": "#2a3f5f"
           }
          },
          "ternary": {
           "aaxis": {
            "gridcolor": "white",
            "linecolor": "white",
            "ticks": ""
           },
           "baxis": {
            "gridcolor": "white",
            "linecolor": "white",
            "ticks": ""
           },
           "bgcolor": "#E5ECF6",
           "caxis": {
            "gridcolor": "white",
            "linecolor": "white",
            "ticks": ""
           }
          },
          "title": {
           "x": 0.05
          },
          "xaxis": {
           "automargin": true,
           "gridcolor": "white",
           "linecolor": "white",
           "ticks": "",
           "title": {
            "standoff": 15
           },
           "zerolinecolor": "white",
           "zerolinewidth": 2
          },
          "yaxis": {
           "automargin": true,
           "gridcolor": "white",
           "linecolor": "white",
           "ticks": "",
           "title": {
            "standoff": 15
           },
           "zerolinecolor": "white",
           "zerolinewidth": 2
          }
         }
        },
        "xaxis": {
         "anchor": "y",
         "domain": [
          0,
          1
         ],
         "title": {
          "text": "energy"
         }
        },
        "yaxis": {
         "anchor": "x",
         "domain": [
          0,
          1
         ]
        }
       }
      }
     },
     "metadata": {},
     "output_type": "display_data"
    }
   ],
   "source": [
    "fig = px.box(samples_for_year, x=\"energy\")\n",
    "fig.show()"
   ]
  },
  {
   "cell_type": "code",
   "execution_count": 44,
   "metadata": {},
   "outputs": [
    {
     "data": {
      "application/vnd.plotly.v1+json": {
       "config": {
        "plotlyServerURL": "https://plot.ly"
       },
       "data": [
        {
         "alignmentgroup": "True",
         "box": {
          "visible": true
         },
         "hovertemplate": "energy=%{x}<extra></extra>",
         "legendgroup": "",
         "marker": {
          "color": "#636efa"
         },
         "name": "",
         "offsetgroup": "",
         "orientation": "h",
         "points": "all",
         "scalegroup": "True",
         "showlegend": false,
         "type": "violin",
         "x": [
          0.504,
          0.531,
          0.665,
          0.699,
          0.603,
          0.505,
          0.505,
          0.831,
          0.533,
          0.551,
          0.694,
          0.833,
          0.693,
          0.804,
          0.495,
          0.843,
          0.543,
          0.817,
          0.49,
          0.665,
          0.637,
          0.715,
          0.766,
          0.872,
          0.0744,
          0.609,
          0.741,
          0.434,
          0.534,
          0.837,
          0.483,
          0.616,
          0.476,
          0.818,
          0.544,
          0.562,
          0.898,
          0.679,
          0.402,
          0.469,
          0.413,
          0.582,
          0.561,
          0.676,
          0.667,
          0.369,
          0.663,
          0.554,
          0.782,
          0.896,
          0.415,
          0.872,
          0.601,
          0.373,
          0.406,
          0.44,
          0.901,
          0.917,
          0.701,
          0.388,
          0.815,
          0.49,
          0.72,
          0.39,
          0.425,
          0.919,
          0.651,
          0.47,
          0.461,
          0.579,
          0.949,
          0.596,
          0.62,
          0.871,
          0.556,
          0.504,
          0.535,
          0.544,
          0.776,
          0.503,
          0.643,
          0.662,
          0.94,
          0.735,
          0.784,
          0.527,
          0.643,
          0.803,
          0.808,
          0.822,
          0.431,
          0.357,
          0.905,
          0.324,
          0.26,
          0.17,
          0.418,
          0.534,
          0.464,
          0.376,
          0.679,
          0.587,
          0.619,
          0.453,
          0.784,
          0.638,
          0.73,
          0.299,
          0.346,
          0.565,
          0.873,
          0.522,
          0.846,
          0.805,
          0.481,
          0.773,
          0.461,
          0.71,
          0.574,
          0.786,
          0.729,
          0.537,
          0.831,
          0.53,
          0.773,
          0.375,
          0.831,
          0.674,
          0.756,
          0.464,
          0.75,
          0.745,
          0.749,
          0.905,
          0.327,
          0.675,
          0.616,
          0.936,
          0.395,
          0.577,
          0.487,
          0.822,
          0.68,
          0.904,
          0.87,
          0.696,
          0.708,
          0.702,
          null,
          0.508,
          0.398,
          0.52,
          0.854,
          0.442,
          0.349,
          0.589,
          0.669,
          0.934,
          0.768,
          0.874,
          0.34,
          0.727,
          0.646,
          0.885,
          0.819,
          0.679,
          0.636,
          0.845,
          0.438,
          0.477,
          0.628,
          0.528,
          0.526,
          0.48,
          0.944,
          0.555,
          0.617,
          0.837,
          0.146,
          0.873,
          0.748,
          0.324,
          0.752,
          0.54,
          0.655,
          0.785,
          0.625,
          0.638,
          0.37,
          0.816,
          0.768,
          0.874,
          0.672,
          0.668,
          0.577,
          0.483,
          0.954,
          0.42,
          0.55,
          0.923,
          0.639,
          0.544,
          0.834,
          0.702,
          0.77,
          0.543,
          0.718,
          0.687,
          0.946,
          0.736,
          0.776,
          0.553,
          0.649,
          0.896,
          0.692,
          0.96,
          0.802,
          0.727,
          0.577,
          0.692,
          0.863,
          0.733,
          0.732,
          0.625,
          0.731,
          0.643,
          0.341,
          0.55,
          0.639,
          0.671,
          0.597,
          0.861,
          0.516,
          0.742,
          0.487,
          0.923,
          0.679,
          0.507,
          0.819,
          0.896,
          0.783,
          0.692,
          0.521,
          0.615,
          0.804,
          0.902,
          0.553,
          0.817,
          0.717,
          0.846,
          0.756,
          0.53,
          0.911,
          0.766,
          0.707,
          0.84,
          0.701,
          0.81,
          0.576,
          0.435,
          0.836,
          0.399,
          0.71,
          0.622,
          0.698,
          0.775,
          0.633,
          0.55,
          0.914,
          0.744,
          0.8,
          0.666,
          0.67,
          0.729,
          0.635,
          0.435,
          0.702,
          0.873,
          0.625,
          0.393,
          0.514,
          0.752,
          0.443,
          0.808,
          0.395,
          0.67,
          0.951,
          0.575,
          0.76,
          0.747,
          0.698,
          0.898,
          0.727,
          0.815,
          0.644,
          0.864,
          0.65,
          0.923,
          0.926,
          0.655,
          0.741,
          0.696,
          0.236,
          0.765,
          0.431,
          0.528,
          0.808,
          0.894,
          0.587,
          0.829,
          0.85,
          0.649,
          0.899,
          0.455,
          0.52,
          0.766,
          0.641,
          0.617,
          0.807,
          0.411,
          0.357,
          0.742,
          0.586,
          0.64,
          0.758,
          0.816,
          0.556,
          0.475,
          0.425,
          0.411,
          0.789,
          0.436,
          0.949,
          0.464,
          0.83,
          0.194,
          0.639,
          0.836,
          0.751,
          0.939,
          0.973,
          0.964,
          0.641,
          0.871,
          0.725,
          0.641,
          0.746,
          0.594,
          0.289,
          0.718,
          0.543,
          0.898,
          0.366,
          0.635,
          0.958,
          0.507,
          0.553,
          0.697,
          0.709,
          0.898,
          0.945,
          0.666,
          0.806,
          0.411,
          0.919,
          0.763,
          0.797,
          0.738,
          0.497,
          0.579,
          0.852,
          0.443,
          0.459,
          0.449,
          0.494,
          0.714,
          0.449,
          0.916,
          0.783,
          0.957,
          0.897,
          0.868,
          0.664,
          0.413,
          0.585,
          0.496,
          0.627,
          0.783,
          0.991,
          0.886,
          0.477,
          0.566,
          0.502,
          0.815,
          0.716,
          0.723,
          0.937,
          0.586,
          0.886,
          0.79,
          0.898,
          0.445,
          0.819,
          0.622,
          0.484,
          0.775,
          0.774,
          0.62,
          0.624,
          0.691,
          0.837,
          0.897,
          0.969,
          0.767,
          0.728,
          0.746,
          0.943,
          0.836,
          0.969,
          0.532,
          0.369,
          0.405,
          0.414,
          0.703,
          0.492,
          0.3,
          0.774,
          0.553,
          0.747,
          0.678,
          0.662,
          0.296,
          0.56,
          0.837
         ],
         "x0": " ",
         "xaxis": "x",
         "y0": " ",
         "yaxis": "y"
        }
       ],
       "layout": {
        "legend": {
         "tracegroupgap": 0
        },
        "margin": {
         "t": 60
        },
        "template": {
         "data": {
          "bar": [
           {
            "error_x": {
             "color": "#2a3f5f"
            },
            "error_y": {
             "color": "#2a3f5f"
            },
            "marker": {
             "line": {
              "color": "#E5ECF6",
              "width": 0.5
             },
             "pattern": {
              "fillmode": "overlay",
              "size": 10,
              "solidity": 0.2
             }
            },
            "type": "bar"
           }
          ],
          "barpolar": [
           {
            "marker": {
             "line": {
              "color": "#E5ECF6",
              "width": 0.5
             },
             "pattern": {
              "fillmode": "overlay",
              "size": 10,
              "solidity": 0.2
             }
            },
            "type": "barpolar"
           }
          ],
          "carpet": [
           {
            "aaxis": {
             "endlinecolor": "#2a3f5f",
             "gridcolor": "white",
             "linecolor": "white",
             "minorgridcolor": "white",
             "startlinecolor": "#2a3f5f"
            },
            "baxis": {
             "endlinecolor": "#2a3f5f",
             "gridcolor": "white",
             "linecolor": "white",
             "minorgridcolor": "white",
             "startlinecolor": "#2a3f5f"
            },
            "type": "carpet"
           }
          ],
          "choropleth": [
           {
            "colorbar": {
             "outlinewidth": 0,
             "ticks": ""
            },
            "type": "choropleth"
           }
          ],
          "contour": [
           {
            "colorbar": {
             "outlinewidth": 0,
             "ticks": ""
            },
            "colorscale": [
             [
              0,
              "#0d0887"
             ],
             [
              0.1111111111111111,
              "#46039f"
             ],
             [
              0.2222222222222222,
              "#7201a8"
             ],
             [
              0.3333333333333333,
              "#9c179e"
             ],
             [
              0.4444444444444444,
              "#bd3786"
             ],
             [
              0.5555555555555556,
              "#d8576b"
             ],
             [
              0.6666666666666666,
              "#ed7953"
             ],
             [
              0.7777777777777778,
              "#fb9f3a"
             ],
             [
              0.8888888888888888,
              "#fdca26"
             ],
             [
              1,
              "#f0f921"
             ]
            ],
            "type": "contour"
           }
          ],
          "contourcarpet": [
           {
            "colorbar": {
             "outlinewidth": 0,
             "ticks": ""
            },
            "type": "contourcarpet"
           }
          ],
          "heatmap": [
           {
            "colorbar": {
             "outlinewidth": 0,
             "ticks": ""
            },
            "colorscale": [
             [
              0,
              "#0d0887"
             ],
             [
              0.1111111111111111,
              "#46039f"
             ],
             [
              0.2222222222222222,
              "#7201a8"
             ],
             [
              0.3333333333333333,
              "#9c179e"
             ],
             [
              0.4444444444444444,
              "#bd3786"
             ],
             [
              0.5555555555555556,
              "#d8576b"
             ],
             [
              0.6666666666666666,
              "#ed7953"
             ],
             [
              0.7777777777777778,
              "#fb9f3a"
             ],
             [
              0.8888888888888888,
              "#fdca26"
             ],
             [
              1,
              "#f0f921"
             ]
            ],
            "type": "heatmap"
           }
          ],
          "heatmapgl": [
           {
            "colorbar": {
             "outlinewidth": 0,
             "ticks": ""
            },
            "colorscale": [
             [
              0,
              "#0d0887"
             ],
             [
              0.1111111111111111,
              "#46039f"
             ],
             [
              0.2222222222222222,
              "#7201a8"
             ],
             [
              0.3333333333333333,
              "#9c179e"
             ],
             [
              0.4444444444444444,
              "#bd3786"
             ],
             [
              0.5555555555555556,
              "#d8576b"
             ],
             [
              0.6666666666666666,
              "#ed7953"
             ],
             [
              0.7777777777777778,
              "#fb9f3a"
             ],
             [
              0.8888888888888888,
              "#fdca26"
             ],
             [
              1,
              "#f0f921"
             ]
            ],
            "type": "heatmapgl"
           }
          ],
          "histogram": [
           {
            "marker": {
             "pattern": {
              "fillmode": "overlay",
              "size": 10,
              "solidity": 0.2
             }
            },
            "type": "histogram"
           }
          ],
          "histogram2d": [
           {
            "colorbar": {
             "outlinewidth": 0,
             "ticks": ""
            },
            "colorscale": [
             [
              0,
              "#0d0887"
             ],
             [
              0.1111111111111111,
              "#46039f"
             ],
             [
              0.2222222222222222,
              "#7201a8"
             ],
             [
              0.3333333333333333,
              "#9c179e"
             ],
             [
              0.4444444444444444,
              "#bd3786"
             ],
             [
              0.5555555555555556,
              "#d8576b"
             ],
             [
              0.6666666666666666,
              "#ed7953"
             ],
             [
              0.7777777777777778,
              "#fb9f3a"
             ],
             [
              0.8888888888888888,
              "#fdca26"
             ],
             [
              1,
              "#f0f921"
             ]
            ],
            "type": "histogram2d"
           }
          ],
          "histogram2dcontour": [
           {
            "colorbar": {
             "outlinewidth": 0,
             "ticks": ""
            },
            "colorscale": [
             [
              0,
              "#0d0887"
             ],
             [
              0.1111111111111111,
              "#46039f"
             ],
             [
              0.2222222222222222,
              "#7201a8"
             ],
             [
              0.3333333333333333,
              "#9c179e"
             ],
             [
              0.4444444444444444,
              "#bd3786"
             ],
             [
              0.5555555555555556,
              "#d8576b"
             ],
             [
              0.6666666666666666,
              "#ed7953"
             ],
             [
              0.7777777777777778,
              "#fb9f3a"
             ],
             [
              0.8888888888888888,
              "#fdca26"
             ],
             [
              1,
              "#f0f921"
             ]
            ],
            "type": "histogram2dcontour"
           }
          ],
          "mesh3d": [
           {
            "colorbar": {
             "outlinewidth": 0,
             "ticks": ""
            },
            "type": "mesh3d"
           }
          ],
          "parcoords": [
           {
            "line": {
             "colorbar": {
              "outlinewidth": 0,
              "ticks": ""
             }
            },
            "type": "parcoords"
           }
          ],
          "pie": [
           {
            "automargin": true,
            "type": "pie"
           }
          ],
          "scatter": [
           {
            "marker": {
             "colorbar": {
              "outlinewidth": 0,
              "ticks": ""
             }
            },
            "type": "scatter"
           }
          ],
          "scatter3d": [
           {
            "line": {
             "colorbar": {
              "outlinewidth": 0,
              "ticks": ""
             }
            },
            "marker": {
             "colorbar": {
              "outlinewidth": 0,
              "ticks": ""
             }
            },
            "type": "scatter3d"
           }
          ],
          "scattercarpet": [
           {
            "marker": {
             "colorbar": {
              "outlinewidth": 0,
              "ticks": ""
             }
            },
            "type": "scattercarpet"
           }
          ],
          "scattergeo": [
           {
            "marker": {
             "colorbar": {
              "outlinewidth": 0,
              "ticks": ""
             }
            },
            "type": "scattergeo"
           }
          ],
          "scattergl": [
           {
            "marker": {
             "colorbar": {
              "outlinewidth": 0,
              "ticks": ""
             }
            },
            "type": "scattergl"
           }
          ],
          "scattermapbox": [
           {
            "marker": {
             "colorbar": {
              "outlinewidth": 0,
              "ticks": ""
             }
            },
            "type": "scattermapbox"
           }
          ],
          "scatterpolar": [
           {
            "marker": {
             "colorbar": {
              "outlinewidth": 0,
              "ticks": ""
             }
            },
            "type": "scatterpolar"
           }
          ],
          "scatterpolargl": [
           {
            "marker": {
             "colorbar": {
              "outlinewidth": 0,
              "ticks": ""
             }
            },
            "type": "scatterpolargl"
           }
          ],
          "scatterternary": [
           {
            "marker": {
             "colorbar": {
              "outlinewidth": 0,
              "ticks": ""
             }
            },
            "type": "scatterternary"
           }
          ],
          "surface": [
           {
            "colorbar": {
             "outlinewidth": 0,
             "ticks": ""
            },
            "colorscale": [
             [
              0,
              "#0d0887"
             ],
             [
              0.1111111111111111,
              "#46039f"
             ],
             [
              0.2222222222222222,
              "#7201a8"
             ],
             [
              0.3333333333333333,
              "#9c179e"
             ],
             [
              0.4444444444444444,
              "#bd3786"
             ],
             [
              0.5555555555555556,
              "#d8576b"
             ],
             [
              0.6666666666666666,
              "#ed7953"
             ],
             [
              0.7777777777777778,
              "#fb9f3a"
             ],
             [
              0.8888888888888888,
              "#fdca26"
             ],
             [
              1,
              "#f0f921"
             ]
            ],
            "type": "surface"
           }
          ],
          "table": [
           {
            "cells": {
             "fill": {
              "color": "#EBF0F8"
             },
             "line": {
              "color": "white"
             }
            },
            "header": {
             "fill": {
              "color": "#C8D4E3"
             },
             "line": {
              "color": "white"
             }
            },
            "type": "table"
           }
          ]
         },
         "layout": {
          "annotationdefaults": {
           "arrowcolor": "#2a3f5f",
           "arrowhead": 0,
           "arrowwidth": 1
          },
          "autotypenumbers": "strict",
          "coloraxis": {
           "colorbar": {
            "outlinewidth": 0,
            "ticks": ""
           }
          },
          "colorscale": {
           "diverging": [
            [
             0,
             "#8e0152"
            ],
            [
             0.1,
             "#c51b7d"
            ],
            [
             0.2,
             "#de77ae"
            ],
            [
             0.3,
             "#f1b6da"
            ],
            [
             0.4,
             "#fde0ef"
            ],
            [
             0.5,
             "#f7f7f7"
            ],
            [
             0.6,
             "#e6f5d0"
            ],
            [
             0.7,
             "#b8e186"
            ],
            [
             0.8,
             "#7fbc41"
            ],
            [
             0.9,
             "#4d9221"
            ],
            [
             1,
             "#276419"
            ]
           ],
           "sequential": [
            [
             0,
             "#0d0887"
            ],
            [
             0.1111111111111111,
             "#46039f"
            ],
            [
             0.2222222222222222,
             "#7201a8"
            ],
            [
             0.3333333333333333,
             "#9c179e"
            ],
            [
             0.4444444444444444,
             "#bd3786"
            ],
            [
             0.5555555555555556,
             "#d8576b"
            ],
            [
             0.6666666666666666,
             "#ed7953"
            ],
            [
             0.7777777777777778,
             "#fb9f3a"
            ],
            [
             0.8888888888888888,
             "#fdca26"
            ],
            [
             1,
             "#f0f921"
            ]
           ],
           "sequentialminus": [
            [
             0,
             "#0d0887"
            ],
            [
             0.1111111111111111,
             "#46039f"
            ],
            [
             0.2222222222222222,
             "#7201a8"
            ],
            [
             0.3333333333333333,
             "#9c179e"
            ],
            [
             0.4444444444444444,
             "#bd3786"
            ],
            [
             0.5555555555555556,
             "#d8576b"
            ],
            [
             0.6666666666666666,
             "#ed7953"
            ],
            [
             0.7777777777777778,
             "#fb9f3a"
            ],
            [
             0.8888888888888888,
             "#fdca26"
            ],
            [
             1,
             "#f0f921"
            ]
           ]
          },
          "colorway": [
           "#636efa",
           "#EF553B",
           "#00cc96",
           "#ab63fa",
           "#FFA15A",
           "#19d3f3",
           "#FF6692",
           "#B6E880",
           "#FF97FF",
           "#FECB52"
          ],
          "font": {
           "color": "#2a3f5f"
          },
          "geo": {
           "bgcolor": "white",
           "lakecolor": "white",
           "landcolor": "#E5ECF6",
           "showlakes": true,
           "showland": true,
           "subunitcolor": "white"
          },
          "hoverlabel": {
           "align": "left"
          },
          "hovermode": "closest",
          "mapbox": {
           "style": "light"
          },
          "paper_bgcolor": "white",
          "plot_bgcolor": "#E5ECF6",
          "polar": {
           "angularaxis": {
            "gridcolor": "white",
            "linecolor": "white",
            "ticks": ""
           },
           "bgcolor": "#E5ECF6",
           "radialaxis": {
            "gridcolor": "white",
            "linecolor": "white",
            "ticks": ""
           }
          },
          "scene": {
           "xaxis": {
            "backgroundcolor": "#E5ECF6",
            "gridcolor": "white",
            "gridwidth": 2,
            "linecolor": "white",
            "showbackground": true,
            "ticks": "",
            "zerolinecolor": "white"
           },
           "yaxis": {
            "backgroundcolor": "#E5ECF6",
            "gridcolor": "white",
            "gridwidth": 2,
            "linecolor": "white",
            "showbackground": true,
            "ticks": "",
            "zerolinecolor": "white"
           },
           "zaxis": {
            "backgroundcolor": "#E5ECF6",
            "gridcolor": "white",
            "gridwidth": 2,
            "linecolor": "white",
            "showbackground": true,
            "ticks": "",
            "zerolinecolor": "white"
           }
          },
          "shapedefaults": {
           "line": {
            "color": "#2a3f5f"
           }
          },
          "ternary": {
           "aaxis": {
            "gridcolor": "white",
            "linecolor": "white",
            "ticks": ""
           },
           "baxis": {
            "gridcolor": "white",
            "linecolor": "white",
            "ticks": ""
           },
           "bgcolor": "#E5ECF6",
           "caxis": {
            "gridcolor": "white",
            "linecolor": "white",
            "ticks": ""
           }
          },
          "title": {
           "x": 0.05
          },
          "xaxis": {
           "automargin": true,
           "gridcolor": "white",
           "linecolor": "white",
           "ticks": "",
           "title": {
            "standoff": 15
           },
           "zerolinecolor": "white",
           "zerolinewidth": 2
          },
          "yaxis": {
           "automargin": true,
           "gridcolor": "white",
           "linecolor": "white",
           "ticks": "",
           "title": {
            "standoff": 15
           },
           "zerolinecolor": "white",
           "zerolinewidth": 2
          }
         }
        },
        "violinmode": "group",
        "xaxis": {
         "anchor": "y",
         "domain": [
          0,
          1
         ],
         "title": {
          "text": "energy"
         }
        },
        "yaxis": {
         "anchor": "x",
         "domain": [
          0,
          1
         ]
        }
       }
      }
     },
     "metadata": {},
     "output_type": "display_data"
    }
   ],
   "source": [
    "fig = px.violin(df_99, x=\"energy\", box=True, points=\"all\")\n",
    "fig.show()"
   ]
  },
  {
   "cell_type": "code",
   "execution_count": 56,
   "metadata": {},
   "outputs": [
    {
     "data": {
      "application/vnd.plotly.v1+json": {
       "config": {
        "plotlyServerURL": "https://plot.ly"
       },
       "data": [
        {
         "alignmentgroup": "True",
         "box": {
          "visible": true
         },
         "hovertemplate": "energy=%{x}<extra></extra>",
         "legendgroup": "",
         "marker": {
          "color": "#636efa"
         },
         "name": "",
         "offsetgroup": "",
         "orientation": "h",
         "points": "all",
         "scalegroup": "True",
         "showlegend": false,
         "type": "violin",
         "x": [
          0.563,
          0.85,
          0.325,
          0.378,
          0.641,
          0.594,
          0.347,
          0.728,
          0.652,
          0.545,
          0.521,
          0.488,
          0.888,
          0.406,
          0.496,
          0.407,
          0.446,
          0.697,
          0.678,
          0.438,
          0.64,
          0.959,
          0.695,
          0.425,
          0.659,
          0.779,
          0.883,
          0.617,
          0.544,
          0.88,
          0.884,
          0.803,
          0.323,
          0.75,
          0.596,
          0.879,
          0.59,
          0.837,
          0.593,
          0.711,
          0.495,
          0.847,
          0.717,
          0.667,
          0.582,
          0.938,
          0.611,
          0.919,
          0.758,
          0.86,
          0.497,
          0.903,
          0.937,
          0.45,
          0.871,
          0.666,
          0.916,
          0.755,
          0.704,
          0.837,
          0.876,
          0.421,
          0.769,
          0.889,
          0.842,
          0.634,
          0.621,
          0.446,
          0.79,
          0.628,
          0.877,
          0.477,
          0.814,
          0.871,
          0.991,
          0.439,
          0.812,
          0.949,
          0.91,
          0.435,
          0.586,
          0.231,
          0.498,
          0.589,
          0.59,
          0.795,
          0.826,
          0.98,
          0.633,
          0.712,
          0.911,
          0.534,
          0.821,
          0.9,
          0.579,
          0.709,
          0.414,
          0.826,
          0.468,
          0.922,
          0.73,
          0.484,
          0.884,
          0.853,
          0.851,
          0.837,
          0.683,
          0.657,
          0.853,
          0.955,
          0.706,
          0.819,
          0.742,
          0.931,
          0.722,
          0.903,
          0.125,
          0.476,
          0.534,
          0.386,
          0.947,
          0.852,
          0.49,
          0.558,
          0.901,
          0.709,
          0.779,
          0.937,
          0.902,
          0.85,
          0.59,
          0.477,
          0.923,
          0.564,
          0.775,
          0.777,
          0.876,
          0.896,
          0.978,
          0.955,
          0.924,
          0.92,
          0.934,
          0.938,
          0.773,
          0.888,
          0.917,
          0.239,
          0.843,
          0.578,
          0.756,
          0.0736,
          0.566,
          0.913,
          0.447,
          0.471,
          0.573,
          0.936,
          0.449,
          0.883,
          0.323,
          0.295,
          0.932,
          0.99,
          0.801,
          0.949,
          0.96,
          0.782,
          0.841,
          0.88,
          0.0513,
          0.496,
          0.627,
          0.594,
          0.743
         ],
         "x0": " ",
         "xaxis": "x",
         "y0": " ",
         "yaxis": "y"
        }
       ],
       "layout": {
        "legend": {
         "tracegroupgap": 0
        },
        "margin": {
         "t": 60
        },
        "template": {
         "data": {
          "bar": [
           {
            "error_x": {
             "color": "#2a3f5f"
            },
            "error_y": {
             "color": "#2a3f5f"
            },
            "marker": {
             "line": {
              "color": "#E5ECF6",
              "width": 0.5
             },
             "pattern": {
              "fillmode": "overlay",
              "size": 10,
              "solidity": 0.2
             }
            },
            "type": "bar"
           }
          ],
          "barpolar": [
           {
            "marker": {
             "line": {
              "color": "#E5ECF6",
              "width": 0.5
             },
             "pattern": {
              "fillmode": "overlay",
              "size": 10,
              "solidity": 0.2
             }
            },
            "type": "barpolar"
           }
          ],
          "carpet": [
           {
            "aaxis": {
             "endlinecolor": "#2a3f5f",
             "gridcolor": "white",
             "linecolor": "white",
             "minorgridcolor": "white",
             "startlinecolor": "#2a3f5f"
            },
            "baxis": {
             "endlinecolor": "#2a3f5f",
             "gridcolor": "white",
             "linecolor": "white",
             "minorgridcolor": "white",
             "startlinecolor": "#2a3f5f"
            },
            "type": "carpet"
           }
          ],
          "choropleth": [
           {
            "colorbar": {
             "outlinewidth": 0,
             "ticks": ""
            },
            "type": "choropleth"
           }
          ],
          "contour": [
           {
            "colorbar": {
             "outlinewidth": 0,
             "ticks": ""
            },
            "colorscale": [
             [
              0,
              "#0d0887"
             ],
             [
              0.1111111111111111,
              "#46039f"
             ],
             [
              0.2222222222222222,
              "#7201a8"
             ],
             [
              0.3333333333333333,
              "#9c179e"
             ],
             [
              0.4444444444444444,
              "#bd3786"
             ],
             [
              0.5555555555555556,
              "#d8576b"
             ],
             [
              0.6666666666666666,
              "#ed7953"
             ],
             [
              0.7777777777777778,
              "#fb9f3a"
             ],
             [
              0.8888888888888888,
              "#fdca26"
             ],
             [
              1,
              "#f0f921"
             ]
            ],
            "type": "contour"
           }
          ],
          "contourcarpet": [
           {
            "colorbar": {
             "outlinewidth": 0,
             "ticks": ""
            },
            "type": "contourcarpet"
           }
          ],
          "heatmap": [
           {
            "colorbar": {
             "outlinewidth": 0,
             "ticks": ""
            },
            "colorscale": [
             [
              0,
              "#0d0887"
             ],
             [
              0.1111111111111111,
              "#46039f"
             ],
             [
              0.2222222222222222,
              "#7201a8"
             ],
             [
              0.3333333333333333,
              "#9c179e"
             ],
             [
              0.4444444444444444,
              "#bd3786"
             ],
             [
              0.5555555555555556,
              "#d8576b"
             ],
             [
              0.6666666666666666,
              "#ed7953"
             ],
             [
              0.7777777777777778,
              "#fb9f3a"
             ],
             [
              0.8888888888888888,
              "#fdca26"
             ],
             [
              1,
              "#f0f921"
             ]
            ],
            "type": "heatmap"
           }
          ],
          "heatmapgl": [
           {
            "colorbar": {
             "outlinewidth": 0,
             "ticks": ""
            },
            "colorscale": [
             [
              0,
              "#0d0887"
             ],
             [
              0.1111111111111111,
              "#46039f"
             ],
             [
              0.2222222222222222,
              "#7201a8"
             ],
             [
              0.3333333333333333,
              "#9c179e"
             ],
             [
              0.4444444444444444,
              "#bd3786"
             ],
             [
              0.5555555555555556,
              "#d8576b"
             ],
             [
              0.6666666666666666,
              "#ed7953"
             ],
             [
              0.7777777777777778,
              "#fb9f3a"
             ],
             [
              0.8888888888888888,
              "#fdca26"
             ],
             [
              1,
              "#f0f921"
             ]
            ],
            "type": "heatmapgl"
           }
          ],
          "histogram": [
           {
            "marker": {
             "pattern": {
              "fillmode": "overlay",
              "size": 10,
              "solidity": 0.2
             }
            },
            "type": "histogram"
           }
          ],
          "histogram2d": [
           {
            "colorbar": {
             "outlinewidth": 0,
             "ticks": ""
            },
            "colorscale": [
             [
              0,
              "#0d0887"
             ],
             [
              0.1111111111111111,
              "#46039f"
             ],
             [
              0.2222222222222222,
              "#7201a8"
             ],
             [
              0.3333333333333333,
              "#9c179e"
             ],
             [
              0.4444444444444444,
              "#bd3786"
             ],
             [
              0.5555555555555556,
              "#d8576b"
             ],
             [
              0.6666666666666666,
              "#ed7953"
             ],
             [
              0.7777777777777778,
              "#fb9f3a"
             ],
             [
              0.8888888888888888,
              "#fdca26"
             ],
             [
              1,
              "#f0f921"
             ]
            ],
            "type": "histogram2d"
           }
          ],
          "histogram2dcontour": [
           {
            "colorbar": {
             "outlinewidth": 0,
             "ticks": ""
            },
            "colorscale": [
             [
              0,
              "#0d0887"
             ],
             [
              0.1111111111111111,
              "#46039f"
             ],
             [
              0.2222222222222222,
              "#7201a8"
             ],
             [
              0.3333333333333333,
              "#9c179e"
             ],
             [
              0.4444444444444444,
              "#bd3786"
             ],
             [
              0.5555555555555556,
              "#d8576b"
             ],
             [
              0.6666666666666666,
              "#ed7953"
             ],
             [
              0.7777777777777778,
              "#fb9f3a"
             ],
             [
              0.8888888888888888,
              "#fdca26"
             ],
             [
              1,
              "#f0f921"
             ]
            ],
            "type": "histogram2dcontour"
           }
          ],
          "mesh3d": [
           {
            "colorbar": {
             "outlinewidth": 0,
             "ticks": ""
            },
            "type": "mesh3d"
           }
          ],
          "parcoords": [
           {
            "line": {
             "colorbar": {
              "outlinewidth": 0,
              "ticks": ""
             }
            },
            "type": "parcoords"
           }
          ],
          "pie": [
           {
            "automargin": true,
            "type": "pie"
           }
          ],
          "scatter": [
           {
            "marker": {
             "colorbar": {
              "outlinewidth": 0,
              "ticks": ""
             }
            },
            "type": "scatter"
           }
          ],
          "scatter3d": [
           {
            "line": {
             "colorbar": {
              "outlinewidth": 0,
              "ticks": ""
             }
            },
            "marker": {
             "colorbar": {
              "outlinewidth": 0,
              "ticks": ""
             }
            },
            "type": "scatter3d"
           }
          ],
          "scattercarpet": [
           {
            "marker": {
             "colorbar": {
              "outlinewidth": 0,
              "ticks": ""
             }
            },
            "type": "scattercarpet"
           }
          ],
          "scattergeo": [
           {
            "marker": {
             "colorbar": {
              "outlinewidth": 0,
              "ticks": ""
             }
            },
            "type": "scattergeo"
           }
          ],
          "scattergl": [
           {
            "marker": {
             "colorbar": {
              "outlinewidth": 0,
              "ticks": ""
             }
            },
            "type": "scattergl"
           }
          ],
          "scattermapbox": [
           {
            "marker": {
             "colorbar": {
              "outlinewidth": 0,
              "ticks": ""
             }
            },
            "type": "scattermapbox"
           }
          ],
          "scatterpolar": [
           {
            "marker": {
             "colorbar": {
              "outlinewidth": 0,
              "ticks": ""
             }
            },
            "type": "scatterpolar"
           }
          ],
          "scatterpolargl": [
           {
            "marker": {
             "colorbar": {
              "outlinewidth": 0,
              "ticks": ""
             }
            },
            "type": "scatterpolargl"
           }
          ],
          "scatterternary": [
           {
            "marker": {
             "colorbar": {
              "outlinewidth": 0,
              "ticks": ""
             }
            },
            "type": "scatterternary"
           }
          ],
          "surface": [
           {
            "colorbar": {
             "outlinewidth": 0,
             "ticks": ""
            },
            "colorscale": [
             [
              0,
              "#0d0887"
             ],
             [
              0.1111111111111111,
              "#46039f"
             ],
             [
              0.2222222222222222,
              "#7201a8"
             ],
             [
              0.3333333333333333,
              "#9c179e"
             ],
             [
              0.4444444444444444,
              "#bd3786"
             ],
             [
              0.5555555555555556,
              "#d8576b"
             ],
             [
              0.6666666666666666,
              "#ed7953"
             ],
             [
              0.7777777777777778,
              "#fb9f3a"
             ],
             [
              0.8888888888888888,
              "#fdca26"
             ],
             [
              1,
              "#f0f921"
             ]
            ],
            "type": "surface"
           }
          ],
          "table": [
           {
            "cells": {
             "fill": {
              "color": "#EBF0F8"
             },
             "line": {
              "color": "white"
             }
            },
            "header": {
             "fill": {
              "color": "#C8D4E3"
             },
             "line": {
              "color": "white"
             }
            },
            "type": "table"
           }
          ]
         },
         "layout": {
          "annotationdefaults": {
           "arrowcolor": "#2a3f5f",
           "arrowhead": 0,
           "arrowwidth": 1
          },
          "autotypenumbers": "strict",
          "coloraxis": {
           "colorbar": {
            "outlinewidth": 0,
            "ticks": ""
           }
          },
          "colorscale": {
           "diverging": [
            [
             0,
             "#8e0152"
            ],
            [
             0.1,
             "#c51b7d"
            ],
            [
             0.2,
             "#de77ae"
            ],
            [
             0.3,
             "#f1b6da"
            ],
            [
             0.4,
             "#fde0ef"
            ],
            [
             0.5,
             "#f7f7f7"
            ],
            [
             0.6,
             "#e6f5d0"
            ],
            [
             0.7,
             "#b8e186"
            ],
            [
             0.8,
             "#7fbc41"
            ],
            [
             0.9,
             "#4d9221"
            ],
            [
             1,
             "#276419"
            ]
           ],
           "sequential": [
            [
             0,
             "#0d0887"
            ],
            [
             0.1111111111111111,
             "#46039f"
            ],
            [
             0.2222222222222222,
             "#7201a8"
            ],
            [
             0.3333333333333333,
             "#9c179e"
            ],
            [
             0.4444444444444444,
             "#bd3786"
            ],
            [
             0.5555555555555556,
             "#d8576b"
            ],
            [
             0.6666666666666666,
             "#ed7953"
            ],
            [
             0.7777777777777778,
             "#fb9f3a"
            ],
            [
             0.8888888888888888,
             "#fdca26"
            ],
            [
             1,
             "#f0f921"
            ]
           ],
           "sequentialminus": [
            [
             0,
             "#0d0887"
            ],
            [
             0.1111111111111111,
             "#46039f"
            ],
            [
             0.2222222222222222,
             "#7201a8"
            ],
            [
             0.3333333333333333,
             "#9c179e"
            ],
            [
             0.4444444444444444,
             "#bd3786"
            ],
            [
             0.5555555555555556,
             "#d8576b"
            ],
            [
             0.6666666666666666,
             "#ed7953"
            ],
            [
             0.7777777777777778,
             "#fb9f3a"
            ],
            [
             0.8888888888888888,
             "#fdca26"
            ],
            [
             1,
             "#f0f921"
            ]
           ]
          },
          "colorway": [
           "#636efa",
           "#EF553B",
           "#00cc96",
           "#ab63fa",
           "#FFA15A",
           "#19d3f3",
           "#FF6692",
           "#B6E880",
           "#FF97FF",
           "#FECB52"
          ],
          "font": {
           "color": "#2a3f5f"
          },
          "geo": {
           "bgcolor": "white",
           "lakecolor": "white",
           "landcolor": "#E5ECF6",
           "showlakes": true,
           "showland": true,
           "subunitcolor": "white"
          },
          "hoverlabel": {
           "align": "left"
          },
          "hovermode": "closest",
          "mapbox": {
           "style": "light"
          },
          "paper_bgcolor": "white",
          "plot_bgcolor": "#E5ECF6",
          "polar": {
           "angularaxis": {
            "gridcolor": "white",
            "linecolor": "white",
            "ticks": ""
           },
           "bgcolor": "#E5ECF6",
           "radialaxis": {
            "gridcolor": "white",
            "linecolor": "white",
            "ticks": ""
           }
          },
          "scene": {
           "xaxis": {
            "backgroundcolor": "#E5ECF6",
            "gridcolor": "white",
            "gridwidth": 2,
            "linecolor": "white",
            "showbackground": true,
            "ticks": "",
            "zerolinecolor": "white"
           },
           "yaxis": {
            "backgroundcolor": "#E5ECF6",
            "gridcolor": "white",
            "gridwidth": 2,
            "linecolor": "white",
            "showbackground": true,
            "ticks": "",
            "zerolinecolor": "white"
           },
           "zaxis": {
            "backgroundcolor": "#E5ECF6",
            "gridcolor": "white",
            "gridwidth": 2,
            "linecolor": "white",
            "showbackground": true,
            "ticks": "",
            "zerolinecolor": "white"
           }
          },
          "shapedefaults": {
           "line": {
            "color": "#2a3f5f"
           }
          },
          "ternary": {
           "aaxis": {
            "gridcolor": "white",
            "linecolor": "white",
            "ticks": ""
           },
           "baxis": {
            "gridcolor": "white",
            "linecolor": "white",
            "ticks": ""
           },
           "bgcolor": "#E5ECF6",
           "caxis": {
            "gridcolor": "white",
            "linecolor": "white",
            "ticks": ""
           }
          },
          "title": {
           "x": 0.05
          },
          "xaxis": {
           "automargin": true,
           "gridcolor": "white",
           "linecolor": "white",
           "ticks": "",
           "title": {
            "standoff": 15
           },
           "zerolinecolor": "white",
           "zerolinewidth": 2
          },
          "yaxis": {
           "automargin": true,
           "gridcolor": "white",
           "linecolor": "white",
           "ticks": "",
           "title": {
            "standoff": 15
           },
           "zerolinecolor": "white",
           "zerolinewidth": 2
          }
         }
        },
        "violinmode": "group",
        "xaxis": {
         "anchor": "y",
         "domain": [
          0,
          1
         ],
         "title": {
          "text": "energy"
         }
        },
        "yaxis": {
         "anchor": "x",
         "domain": [
          0,
          1
         ]
        }
       }
      }
     },
     "metadata": {},
     "output_type": "display_data"
    }
   ],
   "source": [
    "fig = px.violin(samples_for_year, x=\"energy\", box=True, points=\"all\")\n",
    "fig.show()"
   ]
  },
  {
   "cell_type": "code",
   "execution_count": 45,
   "metadata": {},
   "outputs": [
    {
     "data": {
      "application/vnd.plotly.v1+json": {
       "config": {
        "plotlyServerURL": "https://plot.ly"
       },
       "data": [
        {
         "hovertemplate": "energy=%{x}<br>bill_popularity=%{y}<extra></extra>",
         "legendgroup": "",
         "marker": {
          "color": "#636efa",
          "symbol": "circle"
         },
         "mode": "markers",
         "name": "",
         "orientation": "v",
         "showlegend": false,
         "type": "scatter",
         "x": [
          0.504,
          0.531,
          0.665,
          0.699,
          0.603,
          0.505,
          0.505,
          0.831,
          0.533,
          0.551,
          0.694,
          0.833,
          0.693,
          0.804,
          0.495,
          0.843,
          0.543,
          0.817,
          0.49,
          0.665,
          0.637,
          0.715,
          0.766,
          0.872,
          0.0744,
          0.609,
          0.741,
          0.434,
          0.534,
          0.837,
          0.483,
          0.616,
          0.476,
          0.818,
          0.544,
          0.562,
          0.898,
          0.679,
          0.402,
          0.469,
          0.413,
          0.582,
          0.561,
          0.676,
          0.667,
          0.369,
          0.663,
          0.554,
          0.782,
          0.896,
          0.415,
          0.872,
          0.601,
          0.373,
          0.406,
          0.44,
          0.901,
          0.917,
          0.701,
          0.388,
          0.815,
          0.49,
          0.72,
          0.39,
          0.425,
          0.919,
          0.651,
          0.47,
          0.461,
          0.579,
          0.949,
          0.596,
          0.62,
          0.871,
          0.556,
          0.504,
          0.535,
          0.544,
          0.776,
          0.503,
          0.643,
          0.662,
          0.94,
          0.735,
          0.784,
          0.527,
          0.643,
          0.803,
          0.808,
          0.822,
          0.431,
          0.357,
          0.905,
          0.324,
          0.26,
          0.17,
          0.418,
          0.534,
          0.464,
          0.376,
          0.679,
          0.587,
          0.619,
          0.453,
          0.784,
          0.638,
          0.73,
          0.299,
          0.346,
          0.565,
          0.873,
          0.522,
          0.846,
          0.805,
          0.481,
          0.773,
          0.461,
          0.71,
          0.574,
          0.786,
          0.729,
          0.537,
          0.831,
          0.53,
          0.773,
          0.375,
          0.831,
          0.674,
          0.756,
          0.464,
          0.75,
          0.745,
          0.749,
          0.905,
          0.327,
          0.675,
          0.616,
          0.936,
          0.395,
          0.577,
          0.487,
          0.822,
          0.68,
          0.904,
          0.87,
          0.696,
          0.708,
          0.702,
          null,
          0.508,
          0.398,
          0.52,
          0.854,
          0.442,
          0.349,
          0.589,
          0.669,
          0.934,
          0.768,
          0.874,
          0.34,
          0.727,
          0.646,
          0.885,
          0.819,
          0.679,
          0.636,
          0.845,
          0.438,
          0.477,
          0.628,
          0.528,
          0.526,
          0.48,
          0.944,
          0.555,
          0.617,
          0.837,
          0.146,
          0.873,
          0.748,
          0.324,
          0.752,
          0.54,
          0.655,
          0.785,
          0.625,
          0.638,
          0.37,
          0.816,
          0.768,
          0.874,
          0.672,
          0.668,
          0.577,
          0.483,
          0.954,
          0.42,
          0.55,
          0.923,
          0.639,
          0.544,
          0.834,
          0.702,
          0.77,
          0.543,
          0.718,
          0.687,
          0.946,
          0.736,
          0.776,
          0.553,
          0.649,
          0.896,
          0.692,
          0.96,
          0.802,
          0.727,
          0.577,
          0.692,
          0.863,
          0.733,
          0.732,
          0.625,
          0.731,
          0.643,
          0.341,
          0.55,
          0.639,
          0.671,
          0.597,
          0.861,
          0.516,
          0.742,
          0.487,
          0.923,
          0.679,
          0.507,
          0.819,
          0.896,
          0.783,
          0.692,
          0.521,
          0.615,
          0.804,
          0.902,
          0.553,
          0.817,
          0.717,
          0.846,
          0.756,
          0.53,
          0.911,
          0.766,
          0.707,
          0.84,
          0.701,
          0.81,
          0.576,
          0.435,
          0.836,
          0.399,
          0.71,
          0.622,
          0.698,
          0.775,
          0.633,
          0.55,
          0.914,
          0.744,
          0.8,
          0.666,
          0.67,
          0.729,
          0.635,
          0.435,
          0.702,
          0.873,
          0.625,
          0.393,
          0.514,
          0.752,
          0.443,
          0.808,
          0.395,
          0.67,
          0.951,
          0.575,
          0.76,
          0.747,
          0.698,
          0.898,
          0.727,
          0.815,
          0.644,
          0.864,
          0.65,
          0.923,
          0.926,
          0.655,
          0.741,
          0.696,
          0.236,
          0.765,
          0.431,
          0.528,
          0.808,
          0.894,
          0.587,
          0.829,
          0.85,
          0.649,
          0.899,
          0.455,
          0.52,
          0.766,
          0.641,
          0.617,
          0.807,
          0.411,
          0.357,
          0.742,
          0.586,
          0.64,
          0.758,
          0.816,
          0.556,
          0.475,
          0.425,
          0.411,
          0.789,
          0.436,
          0.949,
          0.464,
          0.83,
          0.194,
          0.639,
          0.836,
          0.751,
          0.939,
          0.973,
          0.964,
          0.641,
          0.871,
          0.725,
          0.641,
          0.746,
          0.594,
          0.289,
          0.718,
          0.543,
          0.898,
          0.366,
          0.635,
          0.958,
          0.507,
          0.553,
          0.697,
          0.709,
          0.898,
          0.945,
          0.666,
          0.806,
          0.411,
          0.919,
          0.763,
          0.797,
          0.738,
          0.497,
          0.579,
          0.852,
          0.443,
          0.459,
          0.449,
          0.494,
          0.714,
          0.449,
          0.916,
          0.783,
          0.957,
          0.897,
          0.868,
          0.664,
          0.413,
          0.585,
          0.496,
          0.627,
          0.783,
          0.991,
          0.886,
          0.477,
          0.566,
          0.502,
          0.815,
          0.716,
          0.723,
          0.937,
          0.586,
          0.886,
          0.79,
          0.898,
          0.445,
          0.819,
          0.622,
          0.484,
          0.775,
          0.774,
          0.62,
          0.624,
          0.691,
          0.837,
          0.897,
          0.969,
          0.767,
          0.728,
          0.746,
          0.943,
          0.836,
          0.969,
          0.532,
          0.369,
          0.405,
          0.414,
          0.703,
          0.492,
          0.3,
          0.774,
          0.553,
          0.747,
          0.678,
          0.662,
          0.296,
          0.56,
          0.837
         ],
         "xaxis": "x",
         "y": [
          100,
          99,
          98,
          97,
          96,
          95,
          94,
          93,
          92,
          91,
          90,
          89,
          88,
          87,
          86,
          85,
          84,
          83,
          82,
          81,
          80,
          79,
          78,
          77,
          76,
          75,
          74,
          73,
          72,
          71,
          70,
          69,
          68,
          67,
          66,
          65,
          64,
          63,
          62,
          61,
          60,
          59,
          58,
          57,
          56,
          55,
          54,
          53,
          52,
          51,
          50,
          49,
          48,
          47,
          46,
          45,
          44,
          43,
          42,
          41,
          40,
          39,
          38,
          37,
          36,
          35,
          34,
          33,
          32,
          31,
          30,
          29,
          28,
          27,
          26,
          25,
          24,
          23,
          22,
          21,
          20,
          19,
          18,
          17,
          16,
          15,
          14,
          13,
          12,
          11,
          10,
          9,
          8,
          7,
          6,
          5,
          4,
          3,
          2,
          1,
          26,
          15,
          14,
          13,
          11,
          9,
          61,
          25,
          26,
          25,
          21,
          17,
          16,
          12,
          11,
          10,
          6,
          74,
          44,
          8,
          5,
          1,
          36,
          32,
          30,
          26,
          24,
          21,
          16,
          27,
          23,
          16,
          10,
          4,
          87,
          34,
          21,
          16,
          12,
          7,
          61,
          24,
          22,
          20,
          15,
          11,
          7,
          3,
          2,
          81,
          18,
          17,
          13,
          71,
          69,
          64,
          51,
          35,
          25,
          23,
          20,
          14,
          9,
          3,
          2,
          81,
          19,
          12,
          11,
          7,
          6,
          5,
          40,
          22,
          13,
          10,
          9,
          4,
          33,
          18,
          15,
          12,
          8,
          7,
          6,
          4,
          3,
          2,
          23,
          19,
          18,
          13,
          10,
          6,
          4,
          70,
          47,
          24,
          19,
          15,
          8,
          2,
          79,
          29,
          20,
          11,
          9,
          4,
          3,
          11,
          10,
          9,
          8,
          4,
          2,
          17,
          14,
          6,
          5,
          3,
          2,
          1,
          21,
          20,
          18,
          16,
          15,
          11,
          5,
          4,
          69,
          26,
          22,
          20,
          14,
          10,
          9,
          31,
          30,
          23,
          20,
          17,
          15,
          32,
          26,
          21,
          20,
          14,
          12,
          26,
          23,
          21,
          6,
          34,
          31,
          23,
          21,
          20,
          17,
          16,
          6,
          4,
          38,
          25,
          21,
          19,
          7,
          5,
          2,
          67,
          40,
          37,
          35,
          27,
          22,
          19,
          4,
          38,
          35,
          30,
          24,
          23,
          22,
          49,
          33,
          24,
          23,
          21,
          6,
          4,
          3,
          2,
          31,
          20,
          18,
          16,
          15,
          23,
          21,
          7,
          4,
          2,
          84,
          38,
          35,
          20,
          19,
          17,
          72,
          30,
          24,
          19,
          9,
          19,
          15,
          6,
          4,
          2,
          38,
          29,
          26,
          20,
          19,
          5,
          46,
          41,
          35,
          20,
          19,
          96,
          38,
          26,
          24,
          22,
          20,
          19,
          17,
          13,
          10,
          39,
          31,
          28,
          25,
          15,
          14,
          6,
          3,
          27,
          22,
          14,
          13,
          2,
          20,
          19,
          17,
          10,
          25,
          20,
          17,
          5,
          45,
          32,
          30,
          26,
          21,
          19,
          17,
          1,
          30,
          28,
          27,
          18,
          16,
          12,
          9,
          7,
          5,
          1,
          41,
          32,
          19,
          18,
          17,
          13,
          43,
          20,
          18,
          17,
          7,
          27,
          22,
          18,
          17,
          3,
          41,
          29,
          27,
          16,
          11,
          9,
          6,
          65,
          30,
          22,
          16,
          10,
          8,
          7,
          2,
          17,
          15,
          12,
          11,
          10,
          7,
          6,
          2,
          47,
          34,
          19,
          11,
          8,
          7,
          55,
          12,
          4,
          3,
          56,
          22,
          18,
          15,
          12,
          5,
          4
         ],
         "yaxis": "y"
        },
        {
         "alignmentgroup": "True",
         "bingroup": "x",
         "hovertemplate": "energy=%{x}<br>count=%{y}<extra></extra>",
         "legendgroup": "",
         "marker": {
          "color": "#636efa"
         },
         "name": "",
         "offsetgroup": "",
         "opacity": 0.5,
         "showlegend": false,
         "type": "histogram",
         "x": [
          0.504,
          0.531,
          0.665,
          0.699,
          0.603,
          0.505,
          0.505,
          0.831,
          0.533,
          0.551,
          0.694,
          0.833,
          0.693,
          0.804,
          0.495,
          0.843,
          0.543,
          0.817,
          0.49,
          0.665,
          0.637,
          0.715,
          0.766,
          0.872,
          0.0744,
          0.609,
          0.741,
          0.434,
          0.534,
          0.837,
          0.483,
          0.616,
          0.476,
          0.818,
          0.544,
          0.562,
          0.898,
          0.679,
          0.402,
          0.469,
          0.413,
          0.582,
          0.561,
          0.676,
          0.667,
          0.369,
          0.663,
          0.554,
          0.782,
          0.896,
          0.415,
          0.872,
          0.601,
          0.373,
          0.406,
          0.44,
          0.901,
          0.917,
          0.701,
          0.388,
          0.815,
          0.49,
          0.72,
          0.39,
          0.425,
          0.919,
          0.651,
          0.47,
          0.461,
          0.579,
          0.949,
          0.596,
          0.62,
          0.871,
          0.556,
          0.504,
          0.535,
          0.544,
          0.776,
          0.503,
          0.643,
          0.662,
          0.94,
          0.735,
          0.784,
          0.527,
          0.643,
          0.803,
          0.808,
          0.822,
          0.431,
          0.357,
          0.905,
          0.324,
          0.26,
          0.17,
          0.418,
          0.534,
          0.464,
          0.376,
          0.679,
          0.587,
          0.619,
          0.453,
          0.784,
          0.638,
          0.73,
          0.299,
          0.346,
          0.565,
          0.873,
          0.522,
          0.846,
          0.805,
          0.481,
          0.773,
          0.461,
          0.71,
          0.574,
          0.786,
          0.729,
          0.537,
          0.831,
          0.53,
          0.773,
          0.375,
          0.831,
          0.674,
          0.756,
          0.464,
          0.75,
          0.745,
          0.749,
          0.905,
          0.327,
          0.675,
          0.616,
          0.936,
          0.395,
          0.577,
          0.487,
          0.822,
          0.68,
          0.904,
          0.87,
          0.696,
          0.708,
          0.702,
          null,
          0.508,
          0.398,
          0.52,
          0.854,
          0.442,
          0.349,
          0.589,
          0.669,
          0.934,
          0.768,
          0.874,
          0.34,
          0.727,
          0.646,
          0.885,
          0.819,
          0.679,
          0.636,
          0.845,
          0.438,
          0.477,
          0.628,
          0.528,
          0.526,
          0.48,
          0.944,
          0.555,
          0.617,
          0.837,
          0.146,
          0.873,
          0.748,
          0.324,
          0.752,
          0.54,
          0.655,
          0.785,
          0.625,
          0.638,
          0.37,
          0.816,
          0.768,
          0.874,
          0.672,
          0.668,
          0.577,
          0.483,
          0.954,
          0.42,
          0.55,
          0.923,
          0.639,
          0.544,
          0.834,
          0.702,
          0.77,
          0.543,
          0.718,
          0.687,
          0.946,
          0.736,
          0.776,
          0.553,
          0.649,
          0.896,
          0.692,
          0.96,
          0.802,
          0.727,
          0.577,
          0.692,
          0.863,
          0.733,
          0.732,
          0.625,
          0.731,
          0.643,
          0.341,
          0.55,
          0.639,
          0.671,
          0.597,
          0.861,
          0.516,
          0.742,
          0.487,
          0.923,
          0.679,
          0.507,
          0.819,
          0.896,
          0.783,
          0.692,
          0.521,
          0.615,
          0.804,
          0.902,
          0.553,
          0.817,
          0.717,
          0.846,
          0.756,
          0.53,
          0.911,
          0.766,
          0.707,
          0.84,
          0.701,
          0.81,
          0.576,
          0.435,
          0.836,
          0.399,
          0.71,
          0.622,
          0.698,
          0.775,
          0.633,
          0.55,
          0.914,
          0.744,
          0.8,
          0.666,
          0.67,
          0.729,
          0.635,
          0.435,
          0.702,
          0.873,
          0.625,
          0.393,
          0.514,
          0.752,
          0.443,
          0.808,
          0.395,
          0.67,
          0.951,
          0.575,
          0.76,
          0.747,
          0.698,
          0.898,
          0.727,
          0.815,
          0.644,
          0.864,
          0.65,
          0.923,
          0.926,
          0.655,
          0.741,
          0.696,
          0.236,
          0.765,
          0.431,
          0.528,
          0.808,
          0.894,
          0.587,
          0.829,
          0.85,
          0.649,
          0.899,
          0.455,
          0.52,
          0.766,
          0.641,
          0.617,
          0.807,
          0.411,
          0.357,
          0.742,
          0.586,
          0.64,
          0.758,
          0.816,
          0.556,
          0.475,
          0.425,
          0.411,
          0.789,
          0.436,
          0.949,
          0.464,
          0.83,
          0.194,
          0.639,
          0.836,
          0.751,
          0.939,
          0.973,
          0.964,
          0.641,
          0.871,
          0.725,
          0.641,
          0.746,
          0.594,
          0.289,
          0.718,
          0.543,
          0.898,
          0.366,
          0.635,
          0.958,
          0.507,
          0.553,
          0.697,
          0.709,
          0.898,
          0.945,
          0.666,
          0.806,
          0.411,
          0.919,
          0.763,
          0.797,
          0.738,
          0.497,
          0.579,
          0.852,
          0.443,
          0.459,
          0.449,
          0.494,
          0.714,
          0.449,
          0.916,
          0.783,
          0.957,
          0.897,
          0.868,
          0.664,
          0.413,
          0.585,
          0.496,
          0.627,
          0.783,
          0.991,
          0.886,
          0.477,
          0.566,
          0.502,
          0.815,
          0.716,
          0.723,
          0.937,
          0.586,
          0.886,
          0.79,
          0.898,
          0.445,
          0.819,
          0.622,
          0.484,
          0.775,
          0.774,
          0.62,
          0.624,
          0.691,
          0.837,
          0.897,
          0.969,
          0.767,
          0.728,
          0.746,
          0.943,
          0.836,
          0.969,
          0.532,
          0.369,
          0.405,
          0.414,
          0.703,
          0.492,
          0.3,
          0.774,
          0.553,
          0.747,
          0.678,
          0.662,
          0.296,
          0.56,
          0.837
         ],
         "xaxis": "x3",
         "yaxis": "y3"
        },
        {
         "alignmentgroup": "True",
         "boxpoints": "all",
         "fillcolor": "rgba(255,255,255,0)",
         "hoveron": "points",
         "hovertemplate": "bill_popularity=%{y}<extra></extra>",
         "jitter": 0,
         "legendgroup": "",
         "line": {
          "color": "rgba(255,255,255,0)"
         },
         "marker": {
          "color": "#636efa",
          "symbol": "line-ew-open"
         },
         "name": "",
         "offsetgroup": "",
         "showlegend": false,
         "type": "box",
         "xaxis": "x2",
         "y": [
          100,
          99,
          98,
          97,
          96,
          95,
          94,
          93,
          92,
          91,
          90,
          89,
          88,
          87,
          86,
          85,
          84,
          83,
          82,
          81,
          80,
          79,
          78,
          77,
          76,
          75,
          74,
          73,
          72,
          71,
          70,
          69,
          68,
          67,
          66,
          65,
          64,
          63,
          62,
          61,
          60,
          59,
          58,
          57,
          56,
          55,
          54,
          53,
          52,
          51,
          50,
          49,
          48,
          47,
          46,
          45,
          44,
          43,
          42,
          41,
          40,
          39,
          38,
          37,
          36,
          35,
          34,
          33,
          32,
          31,
          30,
          29,
          28,
          27,
          26,
          25,
          24,
          23,
          22,
          21,
          20,
          19,
          18,
          17,
          16,
          15,
          14,
          13,
          12,
          11,
          10,
          9,
          8,
          7,
          6,
          5,
          4,
          3,
          2,
          1,
          26,
          15,
          14,
          13,
          11,
          9,
          61,
          25,
          26,
          25,
          21,
          17,
          16,
          12,
          11,
          10,
          6,
          74,
          44,
          8,
          5,
          1,
          36,
          32,
          30,
          26,
          24,
          21,
          16,
          27,
          23,
          16,
          10,
          4,
          87,
          34,
          21,
          16,
          12,
          7,
          61,
          24,
          22,
          20,
          15,
          11,
          7,
          3,
          2,
          81,
          18,
          17,
          13,
          71,
          69,
          64,
          51,
          35,
          25,
          23,
          20,
          14,
          9,
          3,
          2,
          81,
          19,
          12,
          11,
          7,
          6,
          5,
          40,
          22,
          13,
          10,
          9,
          4,
          33,
          18,
          15,
          12,
          8,
          7,
          6,
          4,
          3,
          2,
          23,
          19,
          18,
          13,
          10,
          6,
          4,
          70,
          47,
          24,
          19,
          15,
          8,
          2,
          79,
          29,
          20,
          11,
          9,
          4,
          3,
          11,
          10,
          9,
          8,
          4,
          2,
          17,
          14,
          6,
          5,
          3,
          2,
          1,
          21,
          20,
          18,
          16,
          15,
          11,
          5,
          4,
          69,
          26,
          22,
          20,
          14,
          10,
          9,
          31,
          30,
          23,
          20,
          17,
          15,
          32,
          26,
          21,
          20,
          14,
          12,
          26,
          23,
          21,
          6,
          34,
          31,
          23,
          21,
          20,
          17,
          16,
          6,
          4,
          38,
          25,
          21,
          19,
          7,
          5,
          2,
          67,
          40,
          37,
          35,
          27,
          22,
          19,
          4,
          38,
          35,
          30,
          24,
          23,
          22,
          49,
          33,
          24,
          23,
          21,
          6,
          4,
          3,
          2,
          31,
          20,
          18,
          16,
          15,
          23,
          21,
          7,
          4,
          2,
          84,
          38,
          35,
          20,
          19,
          17,
          72,
          30,
          24,
          19,
          9,
          19,
          15,
          6,
          4,
          2,
          38,
          29,
          26,
          20,
          19,
          5,
          46,
          41,
          35,
          20,
          19,
          96,
          38,
          26,
          24,
          22,
          20,
          19,
          17,
          13,
          10,
          39,
          31,
          28,
          25,
          15,
          14,
          6,
          3,
          27,
          22,
          14,
          13,
          2,
          20,
          19,
          17,
          10,
          25,
          20,
          17,
          5,
          45,
          32,
          30,
          26,
          21,
          19,
          17,
          1,
          30,
          28,
          27,
          18,
          16,
          12,
          9,
          7,
          5,
          1,
          41,
          32,
          19,
          18,
          17,
          13,
          43,
          20,
          18,
          17,
          7,
          27,
          22,
          18,
          17,
          3,
          41,
          29,
          27,
          16,
          11,
          9,
          6,
          65,
          30,
          22,
          16,
          10,
          8,
          7,
          2,
          17,
          15,
          12,
          11,
          10,
          7,
          6,
          2,
          47,
          34,
          19,
          11,
          8,
          7,
          55,
          12,
          4,
          3,
          56,
          22,
          18,
          15,
          12,
          5,
          4
         ],
         "yaxis": "y2"
        }
       ],
       "layout": {
        "barmode": "overlay",
        "legend": {
         "tracegroupgap": 0
        },
        "margin": {
         "t": 60
        },
        "template": {
         "data": {
          "bar": [
           {
            "error_x": {
             "color": "#2a3f5f"
            },
            "error_y": {
             "color": "#2a3f5f"
            },
            "marker": {
             "line": {
              "color": "#E5ECF6",
              "width": 0.5
             },
             "pattern": {
              "fillmode": "overlay",
              "size": 10,
              "solidity": 0.2
             }
            },
            "type": "bar"
           }
          ],
          "barpolar": [
           {
            "marker": {
             "line": {
              "color": "#E5ECF6",
              "width": 0.5
             },
             "pattern": {
              "fillmode": "overlay",
              "size": 10,
              "solidity": 0.2
             }
            },
            "type": "barpolar"
           }
          ],
          "carpet": [
           {
            "aaxis": {
             "endlinecolor": "#2a3f5f",
             "gridcolor": "white",
             "linecolor": "white",
             "minorgridcolor": "white",
             "startlinecolor": "#2a3f5f"
            },
            "baxis": {
             "endlinecolor": "#2a3f5f",
             "gridcolor": "white",
             "linecolor": "white",
             "minorgridcolor": "white",
             "startlinecolor": "#2a3f5f"
            },
            "type": "carpet"
           }
          ],
          "choropleth": [
           {
            "colorbar": {
             "outlinewidth": 0,
             "ticks": ""
            },
            "type": "choropleth"
           }
          ],
          "contour": [
           {
            "colorbar": {
             "outlinewidth": 0,
             "ticks": ""
            },
            "colorscale": [
             [
              0,
              "#0d0887"
             ],
             [
              0.1111111111111111,
              "#46039f"
             ],
             [
              0.2222222222222222,
              "#7201a8"
             ],
             [
              0.3333333333333333,
              "#9c179e"
             ],
             [
              0.4444444444444444,
              "#bd3786"
             ],
             [
              0.5555555555555556,
              "#d8576b"
             ],
             [
              0.6666666666666666,
              "#ed7953"
             ],
             [
              0.7777777777777778,
              "#fb9f3a"
             ],
             [
              0.8888888888888888,
              "#fdca26"
             ],
             [
              1,
              "#f0f921"
             ]
            ],
            "type": "contour"
           }
          ],
          "contourcarpet": [
           {
            "colorbar": {
             "outlinewidth": 0,
             "ticks": ""
            },
            "type": "contourcarpet"
           }
          ],
          "heatmap": [
           {
            "colorbar": {
             "outlinewidth": 0,
             "ticks": ""
            },
            "colorscale": [
             [
              0,
              "#0d0887"
             ],
             [
              0.1111111111111111,
              "#46039f"
             ],
             [
              0.2222222222222222,
              "#7201a8"
             ],
             [
              0.3333333333333333,
              "#9c179e"
             ],
             [
              0.4444444444444444,
              "#bd3786"
             ],
             [
              0.5555555555555556,
              "#d8576b"
             ],
             [
              0.6666666666666666,
              "#ed7953"
             ],
             [
              0.7777777777777778,
              "#fb9f3a"
             ],
             [
              0.8888888888888888,
              "#fdca26"
             ],
             [
              1,
              "#f0f921"
             ]
            ],
            "type": "heatmap"
           }
          ],
          "heatmapgl": [
           {
            "colorbar": {
             "outlinewidth": 0,
             "ticks": ""
            },
            "colorscale": [
             [
              0,
              "#0d0887"
             ],
             [
              0.1111111111111111,
              "#46039f"
             ],
             [
              0.2222222222222222,
              "#7201a8"
             ],
             [
              0.3333333333333333,
              "#9c179e"
             ],
             [
              0.4444444444444444,
              "#bd3786"
             ],
             [
              0.5555555555555556,
              "#d8576b"
             ],
             [
              0.6666666666666666,
              "#ed7953"
             ],
             [
              0.7777777777777778,
              "#fb9f3a"
             ],
             [
              0.8888888888888888,
              "#fdca26"
             ],
             [
              1,
              "#f0f921"
             ]
            ],
            "type": "heatmapgl"
           }
          ],
          "histogram": [
           {
            "marker": {
             "pattern": {
              "fillmode": "overlay",
              "size": 10,
              "solidity": 0.2
             }
            },
            "type": "histogram"
           }
          ],
          "histogram2d": [
           {
            "colorbar": {
             "outlinewidth": 0,
             "ticks": ""
            },
            "colorscale": [
             [
              0,
              "#0d0887"
             ],
             [
              0.1111111111111111,
              "#46039f"
             ],
             [
              0.2222222222222222,
              "#7201a8"
             ],
             [
              0.3333333333333333,
              "#9c179e"
             ],
             [
              0.4444444444444444,
              "#bd3786"
             ],
             [
              0.5555555555555556,
              "#d8576b"
             ],
             [
              0.6666666666666666,
              "#ed7953"
             ],
             [
              0.7777777777777778,
              "#fb9f3a"
             ],
             [
              0.8888888888888888,
              "#fdca26"
             ],
             [
              1,
              "#f0f921"
             ]
            ],
            "type": "histogram2d"
           }
          ],
          "histogram2dcontour": [
           {
            "colorbar": {
             "outlinewidth": 0,
             "ticks": ""
            },
            "colorscale": [
             [
              0,
              "#0d0887"
             ],
             [
              0.1111111111111111,
              "#46039f"
             ],
             [
              0.2222222222222222,
              "#7201a8"
             ],
             [
              0.3333333333333333,
              "#9c179e"
             ],
             [
              0.4444444444444444,
              "#bd3786"
             ],
             [
              0.5555555555555556,
              "#d8576b"
             ],
             [
              0.6666666666666666,
              "#ed7953"
             ],
             [
              0.7777777777777778,
              "#fb9f3a"
             ],
             [
              0.8888888888888888,
              "#fdca26"
             ],
             [
              1,
              "#f0f921"
             ]
            ],
            "type": "histogram2dcontour"
           }
          ],
          "mesh3d": [
           {
            "colorbar": {
             "outlinewidth": 0,
             "ticks": ""
            },
            "type": "mesh3d"
           }
          ],
          "parcoords": [
           {
            "line": {
             "colorbar": {
              "outlinewidth": 0,
              "ticks": ""
             }
            },
            "type": "parcoords"
           }
          ],
          "pie": [
           {
            "automargin": true,
            "type": "pie"
           }
          ],
          "scatter": [
           {
            "marker": {
             "colorbar": {
              "outlinewidth": 0,
              "ticks": ""
             }
            },
            "type": "scatter"
           }
          ],
          "scatter3d": [
           {
            "line": {
             "colorbar": {
              "outlinewidth": 0,
              "ticks": ""
             }
            },
            "marker": {
             "colorbar": {
              "outlinewidth": 0,
              "ticks": ""
             }
            },
            "type": "scatter3d"
           }
          ],
          "scattercarpet": [
           {
            "marker": {
             "colorbar": {
              "outlinewidth": 0,
              "ticks": ""
             }
            },
            "type": "scattercarpet"
           }
          ],
          "scattergeo": [
           {
            "marker": {
             "colorbar": {
              "outlinewidth": 0,
              "ticks": ""
             }
            },
            "type": "scattergeo"
           }
          ],
          "scattergl": [
           {
            "marker": {
             "colorbar": {
              "outlinewidth": 0,
              "ticks": ""
             }
            },
            "type": "scattergl"
           }
          ],
          "scattermapbox": [
           {
            "marker": {
             "colorbar": {
              "outlinewidth": 0,
              "ticks": ""
             }
            },
            "type": "scattermapbox"
           }
          ],
          "scatterpolar": [
           {
            "marker": {
             "colorbar": {
              "outlinewidth": 0,
              "ticks": ""
             }
            },
            "type": "scatterpolar"
           }
          ],
          "scatterpolargl": [
           {
            "marker": {
             "colorbar": {
              "outlinewidth": 0,
              "ticks": ""
             }
            },
            "type": "scatterpolargl"
           }
          ],
          "scatterternary": [
           {
            "marker": {
             "colorbar": {
              "outlinewidth": 0,
              "ticks": ""
             }
            },
            "type": "scatterternary"
           }
          ],
          "surface": [
           {
            "colorbar": {
             "outlinewidth": 0,
             "ticks": ""
            },
            "colorscale": [
             [
              0,
              "#0d0887"
             ],
             [
              0.1111111111111111,
              "#46039f"
             ],
             [
              0.2222222222222222,
              "#7201a8"
             ],
             [
              0.3333333333333333,
              "#9c179e"
             ],
             [
              0.4444444444444444,
              "#bd3786"
             ],
             [
              0.5555555555555556,
              "#d8576b"
             ],
             [
              0.6666666666666666,
              "#ed7953"
             ],
             [
              0.7777777777777778,
              "#fb9f3a"
             ],
             [
              0.8888888888888888,
              "#fdca26"
             ],
             [
              1,
              "#f0f921"
             ]
            ],
            "type": "surface"
           }
          ],
          "table": [
           {
            "cells": {
             "fill": {
              "color": "#EBF0F8"
             },
             "line": {
              "color": "white"
             }
            },
            "header": {
             "fill": {
              "color": "#C8D4E3"
             },
             "line": {
              "color": "white"
             }
            },
            "type": "table"
           }
          ]
         },
         "layout": {
          "annotationdefaults": {
           "arrowcolor": "#2a3f5f",
           "arrowhead": 0,
           "arrowwidth": 1
          },
          "autotypenumbers": "strict",
          "coloraxis": {
           "colorbar": {
            "outlinewidth": 0,
            "ticks": ""
           }
          },
          "colorscale": {
           "diverging": [
            [
             0,
             "#8e0152"
            ],
            [
             0.1,
             "#c51b7d"
            ],
            [
             0.2,
             "#de77ae"
            ],
            [
             0.3,
             "#f1b6da"
            ],
            [
             0.4,
             "#fde0ef"
            ],
            [
             0.5,
             "#f7f7f7"
            ],
            [
             0.6,
             "#e6f5d0"
            ],
            [
             0.7,
             "#b8e186"
            ],
            [
             0.8,
             "#7fbc41"
            ],
            [
             0.9,
             "#4d9221"
            ],
            [
             1,
             "#276419"
            ]
           ],
           "sequential": [
            [
             0,
             "#0d0887"
            ],
            [
             0.1111111111111111,
             "#46039f"
            ],
            [
             0.2222222222222222,
             "#7201a8"
            ],
            [
             0.3333333333333333,
             "#9c179e"
            ],
            [
             0.4444444444444444,
             "#bd3786"
            ],
            [
             0.5555555555555556,
             "#d8576b"
            ],
            [
             0.6666666666666666,
             "#ed7953"
            ],
            [
             0.7777777777777778,
             "#fb9f3a"
            ],
            [
             0.8888888888888888,
             "#fdca26"
            ],
            [
             1,
             "#f0f921"
            ]
           ],
           "sequentialminus": [
            [
             0,
             "#0d0887"
            ],
            [
             0.1111111111111111,
             "#46039f"
            ],
            [
             0.2222222222222222,
             "#7201a8"
            ],
            [
             0.3333333333333333,
             "#9c179e"
            ],
            [
             0.4444444444444444,
             "#bd3786"
            ],
            [
             0.5555555555555556,
             "#d8576b"
            ],
            [
             0.6666666666666666,
             "#ed7953"
            ],
            [
             0.7777777777777778,
             "#fb9f3a"
            ],
            [
             0.8888888888888888,
             "#fdca26"
            ],
            [
             1,
             "#f0f921"
            ]
           ]
          },
          "colorway": [
           "#636efa",
           "#EF553B",
           "#00cc96",
           "#ab63fa",
           "#FFA15A",
           "#19d3f3",
           "#FF6692",
           "#B6E880",
           "#FF97FF",
           "#FECB52"
          ],
          "font": {
           "color": "#2a3f5f"
          },
          "geo": {
           "bgcolor": "white",
           "lakecolor": "white",
           "landcolor": "#E5ECF6",
           "showlakes": true,
           "showland": true,
           "subunitcolor": "white"
          },
          "hoverlabel": {
           "align": "left"
          },
          "hovermode": "closest",
          "mapbox": {
           "style": "light"
          },
          "paper_bgcolor": "white",
          "plot_bgcolor": "#E5ECF6",
          "polar": {
           "angularaxis": {
            "gridcolor": "white",
            "linecolor": "white",
            "ticks": ""
           },
           "bgcolor": "#E5ECF6",
           "radialaxis": {
            "gridcolor": "white",
            "linecolor": "white",
            "ticks": ""
           }
          },
          "scene": {
           "xaxis": {
            "backgroundcolor": "#E5ECF6",
            "gridcolor": "white",
            "gridwidth": 2,
            "linecolor": "white",
            "showbackground": true,
            "ticks": "",
            "zerolinecolor": "white"
           },
           "yaxis": {
            "backgroundcolor": "#E5ECF6",
            "gridcolor": "white",
            "gridwidth": 2,
            "linecolor": "white",
            "showbackground": true,
            "ticks": "",
            "zerolinecolor": "white"
           },
           "zaxis": {
            "backgroundcolor": "#E5ECF6",
            "gridcolor": "white",
            "gridwidth": 2,
            "linecolor": "white",
            "showbackground": true,
            "ticks": "",
            "zerolinecolor": "white"
           }
          },
          "shapedefaults": {
           "line": {
            "color": "#2a3f5f"
           }
          },
          "ternary": {
           "aaxis": {
            "gridcolor": "white",
            "linecolor": "white",
            "ticks": ""
           },
           "baxis": {
            "gridcolor": "white",
            "linecolor": "white",
            "ticks": ""
           },
           "bgcolor": "#E5ECF6",
           "caxis": {
            "gridcolor": "white",
            "linecolor": "white",
            "ticks": ""
           }
          },
          "title": {
           "x": 0.05
          },
          "xaxis": {
           "automargin": true,
           "gridcolor": "white",
           "linecolor": "white",
           "ticks": "",
           "title": {
            "standoff": 15
           },
           "zerolinecolor": "white",
           "zerolinewidth": 2
          },
          "yaxis": {
           "automargin": true,
           "gridcolor": "white",
           "linecolor": "white",
           "ticks": "",
           "title": {
            "standoff": 15
           },
           "zerolinecolor": "white",
           "zerolinewidth": 2
          }
         }
        },
        "xaxis": {
         "anchor": "y",
         "domain": [
          0,
          0.8358
         ],
         "title": {
          "text": "energy"
         }
        },
        "xaxis2": {
         "anchor": "y2",
         "domain": [
          0.8408,
          1
         ],
         "matches": "x2",
         "showgrid": false,
         "showline": false,
         "showticklabels": false,
         "ticks": ""
        },
        "xaxis3": {
         "anchor": "y3",
         "domain": [
          0,
          0.8358
         ],
         "matches": "x",
         "showgrid": true,
         "showticklabels": false
        },
        "xaxis4": {
         "anchor": "y4",
         "domain": [
          0.8408,
          1
         ],
         "matches": "x2",
         "showgrid": false,
         "showline": false,
         "showticklabels": false,
         "ticks": ""
        },
        "yaxis": {
         "anchor": "x",
         "domain": [
          0,
          0.7326
         ],
         "title": {
          "text": "bill_popularity"
         }
        },
        "yaxis2": {
         "anchor": "x2",
         "domain": [
          0,
          0.7326
         ],
         "matches": "y",
         "showgrid": true,
         "showticklabels": false
        },
        "yaxis3": {
         "anchor": "x3",
         "domain": [
          0.7426,
          1
         ],
         "matches": "y3",
         "showgrid": true,
         "showline": false,
         "showticklabels": false,
         "ticks": ""
        },
        "yaxis4": {
         "anchor": "x4",
         "domain": [
          0.7426,
          1
         ],
         "matches": "y3",
         "showgrid": true,
         "showline": false,
         "showticklabels": false,
         "ticks": ""
        }
       }
      }
     },
     "metadata": {},
     "output_type": "display_data"
    }
   ],
   "source": [
    "fig = px.scatter(df_99, x='energy', y='bill_popularity', marginal_x='histogram', marginal_y='rug')\n",
    "fig.show()"
   ]
  },
  {
   "cell_type": "code",
   "execution_count": 47,
   "metadata": {},
   "outputs": [
    {
     "data": {
      "application/vnd.plotly.v1+json": {
       "config": {
        "plotlyServerURL": "https://plot.ly"
       },
       "data": [
        {
         "hovertemplate": "energy=%{x}<br>popularity=%{y}<extra></extra>",
         "legendgroup": "",
         "marker": {
          "color": "#636efa",
          "symbol": "circle"
         },
         "mode": "markers",
         "name": "",
         "orientation": "v",
         "showlegend": false,
         "type": "scatter",
         "x": [
          0.504,
          0.531,
          0.665,
          0.699,
          0.603,
          0.505,
          0.505,
          0.831,
          0.533,
          0.551,
          0.694,
          0.833,
          0.693,
          0.804,
          0.495,
          0.843,
          0.543,
          0.817,
          0.49,
          0.665,
          0.637,
          0.715,
          0.766,
          0.872,
          0.0744,
          0.609,
          0.741,
          0.434,
          0.534,
          0.837,
          0.483,
          0.616,
          0.476,
          0.818,
          0.544,
          0.562,
          0.898,
          0.679,
          0.402,
          0.469,
          0.413,
          0.582,
          0.561,
          0.676,
          0.667,
          0.369,
          0.663,
          0.554,
          0.782,
          0.896,
          0.415,
          0.872,
          0.601,
          0.373,
          0.406,
          0.44,
          0.901,
          0.917,
          0.701,
          0.388,
          0.815,
          0.49,
          0.72,
          0.39,
          0.425,
          0.919,
          0.651,
          0.47,
          0.461,
          0.579,
          0.949,
          0.596,
          0.62,
          0.871,
          0.556,
          0.504,
          0.535,
          0.544,
          0.776,
          0.503,
          0.643,
          0.662,
          0.94,
          0.735,
          0.784,
          0.527,
          0.643,
          0.803,
          0.808,
          0.822,
          0.431,
          0.357,
          0.905,
          0.324,
          0.26,
          0.17,
          0.418,
          0.534,
          0.464,
          0.376,
          0.679,
          0.587,
          0.619,
          0.453,
          0.784,
          0.638,
          0.73,
          0.299,
          0.346,
          0.565,
          0.873,
          0.522,
          0.846,
          0.805,
          0.481,
          0.773,
          0.461,
          0.71,
          0.574,
          0.786,
          0.729,
          0.537,
          0.831,
          0.53,
          0.773,
          0.375,
          0.831,
          0.674,
          0.756,
          0.464,
          0.75,
          0.745,
          0.749,
          0.905,
          0.327,
          0.675,
          0.616,
          0.936,
          0.395,
          0.577,
          0.487,
          0.822,
          0.68,
          0.904,
          0.87,
          0.696,
          0.708,
          0.702,
          null,
          0.508,
          0.398,
          0.52,
          0.854,
          0.442,
          0.349,
          0.589,
          0.669,
          0.934,
          0.768,
          0.874,
          0.34,
          0.727,
          0.646,
          0.885,
          0.819,
          0.679,
          0.636,
          0.845,
          0.438,
          0.477,
          0.628,
          0.528,
          0.526,
          0.48,
          0.944,
          0.555,
          0.617,
          0.837,
          0.146,
          0.873,
          0.748,
          0.324,
          0.752,
          0.54,
          0.655,
          0.785,
          0.625,
          0.638,
          0.37,
          0.816,
          0.768,
          0.874,
          0.672,
          0.668,
          0.577,
          0.483,
          0.954,
          0.42,
          0.55,
          0.923,
          0.639,
          0.544,
          0.834,
          0.702,
          0.77,
          0.543,
          0.718,
          0.687,
          0.946,
          0.736,
          0.776,
          0.553,
          0.649,
          0.896,
          0.692,
          0.96,
          0.802,
          0.727,
          0.577,
          0.692,
          0.863,
          0.733,
          0.732,
          0.625,
          0.731,
          0.643,
          0.341,
          0.55,
          0.639,
          0.671,
          0.597,
          0.861,
          0.516,
          0.742,
          0.487,
          0.923,
          0.679,
          0.507,
          0.819,
          0.896,
          0.783,
          0.692,
          0.521,
          0.615,
          0.804,
          0.902,
          0.553,
          0.817,
          0.717,
          0.846,
          0.756,
          0.53,
          0.911,
          0.766,
          0.707,
          0.84,
          0.701,
          0.81,
          0.576,
          0.435,
          0.836,
          0.399,
          0.71,
          0.622,
          0.698,
          0.775,
          0.633,
          0.55,
          0.914,
          0.744,
          0.8,
          0.666,
          0.67,
          0.729,
          0.635,
          0.435,
          0.702,
          0.873,
          0.625,
          0.393,
          0.514,
          0.752,
          0.443,
          0.808,
          0.395,
          0.67,
          0.951,
          0.575,
          0.76,
          0.747,
          0.698,
          0.898,
          0.727,
          0.815,
          0.644,
          0.864,
          0.65,
          0.923,
          0.926,
          0.655,
          0.741,
          0.696,
          0.236,
          0.765,
          0.431,
          0.528,
          0.808,
          0.894,
          0.587,
          0.829,
          0.85,
          0.649,
          0.899,
          0.455,
          0.52,
          0.766,
          0.641,
          0.617,
          0.807,
          0.411,
          0.357,
          0.742,
          0.586,
          0.64,
          0.758,
          0.816,
          0.556,
          0.475,
          0.425,
          0.411,
          0.789,
          0.436,
          0.949,
          0.464,
          0.83,
          0.194,
          0.639,
          0.836,
          0.751,
          0.939,
          0.973,
          0.964,
          0.641,
          0.871,
          0.725,
          0.641,
          0.746,
          0.594,
          0.289,
          0.718,
          0.543,
          0.898,
          0.366,
          0.635,
          0.958,
          0.507,
          0.553,
          0.697,
          0.709,
          0.898,
          0.945,
          0.666,
          0.806,
          0.411,
          0.919,
          0.763,
          0.797,
          0.738,
          0.497,
          0.579,
          0.852,
          0.443,
          0.459,
          0.449,
          0.494,
          0.714,
          0.449,
          0.916,
          0.783,
          0.957,
          0.897,
          0.868,
          0.664,
          0.413,
          0.585,
          0.496,
          0.627,
          0.783,
          0.991,
          0.886,
          0.477,
          0.566,
          0.502,
          0.815,
          0.716,
          0.723,
          0.937,
          0.586,
          0.886,
          0.79,
          0.898,
          0.445,
          0.819,
          0.622,
          0.484,
          0.775,
          0.774,
          0.62,
          0.624,
          0.691,
          0.837,
          0.897,
          0.969,
          0.767,
          0.728,
          0.746,
          0.943,
          0.836,
          0.969,
          0.532,
          0.369,
          0.405,
          0.414,
          0.703,
          0.492,
          0.3,
          0.774,
          0.553,
          0.747,
          0.678,
          0.662,
          0.296,
          0.56,
          0.837
         ],
         "xaxis": "x",
         "y": [
          52,
          56,
          13,
          79,
          50,
          65,
          73,
          43,
          60,
          67,
          53,
          53,
          65,
          65,
          55,
          70,
          67,
          41,
          47,
          60,
          9,
          80,
          49,
          47,
          67,
          69,
          50,
          61,
          70,
          35,
          53,
          64,
          57,
          68,
          44,
          66,
          70,
          67,
          67,
          45,
          36,
          32,
          59,
          70,
          39,
          26,
          63,
          29,
          37,
          74,
          41,
          72,
          31,
          51,
          27,
          30,
          74,
          77,
          64,
          38,
          36,
          37,
          43,
          67,
          30,
          57,
          65,
          22,
          26,
          47,
          21,
          53,
          53,
          23,
          54,
          56,
          54,
          67,
          47,
          57,
          45,
          75,
          67,
          61,
          34,
          61,
          45,
          46,
          35,
          44,
          53,
          52,
          68,
          13,
          20,
          21,
          22,
          37,
          47,
          16,
          66,
          22,
          69,
          22,
          42,
          53,
          60,
          39,
          57,
          32,
          70,
          60,
          12,
          14,
          25,
          36,
          59,
          26,
          50,
          34,
          27,
          19,
          37,
          55,
          48,
          43,
          48,
          58,
          24,
          67,
          32,
          51,
          77,
          67,
          52,
          79,
          39,
          62,
          20,
          71,
          42,
          50,
          74,
          64,
          35,
          62,
          33,
          47,
          null,
          45,
          42,
          28,
          47,
          24,
          38,
          35,
          55,
          52,
          26,
          33,
          44,
          32,
          25,
          55,
          51,
          67,
          58,
          66,
          30,
          55,
          21,
          72,
          51,
          58,
          42,
          33,
          49,
          51,
          0,
          70,
          17,
          33,
          21,
          45,
          44,
          29,
          15,
          44,
          42,
          56,
          31,
          72,
          38,
          36,
          71,
          53,
          74,
          44,
          40,
          41,
          75,
          0,
          50,
          73,
          61,
          51,
          53,
          67,
          72,
          62,
          47,
          29,
          31,
          74,
          49,
          55,
          64,
          32,
          71,
          49,
          4,
          24,
          31,
          63,
          47,
          39,
          25,
          49,
          35,
          47,
          56,
          79,
          28,
          68,
          47,
          68,
          12,
          41,
          41,
          57,
          29,
          71,
          56,
          55,
          57,
          57,
          61,
          4,
          78,
          54,
          53,
          21,
          46,
          41,
          58,
          71,
          49,
          37,
          77,
          36,
          6,
          39,
          58,
          63,
          34,
          45,
          45,
          49,
          6,
          44,
          72,
          57,
          56,
          23,
          53,
          58,
          54,
          58,
          60,
          54,
          48,
          54,
          53,
          58,
          70,
          65,
          76,
          53,
          42,
          24,
          54,
          24,
          39,
          42,
          58,
          35,
          51,
          69,
          68,
          20,
          19,
          36,
          46,
          44,
          67,
          26,
          21,
          74,
          23,
          59,
          67,
          66,
          31,
          54,
          36,
          41,
          31,
          7,
          76,
          46,
          70,
          23,
          32,
          27,
          30,
          66,
          40,
          69,
          29,
          8,
          63,
          37,
          58,
          37,
          70,
          22,
          75,
          54,
          29,
          64,
          68,
          52,
          50,
          39,
          30,
          31,
          39,
          54,
          58,
          53,
          65,
          24,
          25,
          21,
          51,
          17,
          65,
          63,
          29,
          24,
          62,
          57,
          32,
          53,
          75,
          33,
          58,
          26,
          70,
          58,
          51,
          47,
          69,
          41,
          54,
          18,
          30,
          61,
          45,
          70,
          65,
          48,
          26,
          38,
          41,
          67,
          40,
          60,
          52,
          65,
          54,
          36,
          17,
          13,
          49,
          55,
          48,
          50,
          64,
          47,
          24,
          52,
          64,
          69,
          58,
          65,
          81,
          41,
          41,
          50,
          67,
          80,
          47,
          27,
          62,
          36,
          42,
          57,
          76,
          60,
          0,
          44,
          47,
          28,
          40,
          38,
          81,
          61,
          51,
          76,
          52,
          44,
          29,
          34
         ],
         "yaxis": "y"
        },
        {
         "alignmentgroup": "True",
         "bingroup": "x",
         "hovertemplate": "energy=%{x}<br>count=%{y}<extra></extra>",
         "legendgroup": "",
         "marker": {
          "color": "#636efa"
         },
         "name": "",
         "offsetgroup": "",
         "opacity": 0.5,
         "showlegend": false,
         "type": "histogram",
         "x": [
          0.504,
          0.531,
          0.665,
          0.699,
          0.603,
          0.505,
          0.505,
          0.831,
          0.533,
          0.551,
          0.694,
          0.833,
          0.693,
          0.804,
          0.495,
          0.843,
          0.543,
          0.817,
          0.49,
          0.665,
          0.637,
          0.715,
          0.766,
          0.872,
          0.0744,
          0.609,
          0.741,
          0.434,
          0.534,
          0.837,
          0.483,
          0.616,
          0.476,
          0.818,
          0.544,
          0.562,
          0.898,
          0.679,
          0.402,
          0.469,
          0.413,
          0.582,
          0.561,
          0.676,
          0.667,
          0.369,
          0.663,
          0.554,
          0.782,
          0.896,
          0.415,
          0.872,
          0.601,
          0.373,
          0.406,
          0.44,
          0.901,
          0.917,
          0.701,
          0.388,
          0.815,
          0.49,
          0.72,
          0.39,
          0.425,
          0.919,
          0.651,
          0.47,
          0.461,
          0.579,
          0.949,
          0.596,
          0.62,
          0.871,
          0.556,
          0.504,
          0.535,
          0.544,
          0.776,
          0.503,
          0.643,
          0.662,
          0.94,
          0.735,
          0.784,
          0.527,
          0.643,
          0.803,
          0.808,
          0.822,
          0.431,
          0.357,
          0.905,
          0.324,
          0.26,
          0.17,
          0.418,
          0.534,
          0.464,
          0.376,
          0.679,
          0.587,
          0.619,
          0.453,
          0.784,
          0.638,
          0.73,
          0.299,
          0.346,
          0.565,
          0.873,
          0.522,
          0.846,
          0.805,
          0.481,
          0.773,
          0.461,
          0.71,
          0.574,
          0.786,
          0.729,
          0.537,
          0.831,
          0.53,
          0.773,
          0.375,
          0.831,
          0.674,
          0.756,
          0.464,
          0.75,
          0.745,
          0.749,
          0.905,
          0.327,
          0.675,
          0.616,
          0.936,
          0.395,
          0.577,
          0.487,
          0.822,
          0.68,
          0.904,
          0.87,
          0.696,
          0.708,
          0.702,
          null,
          0.508,
          0.398,
          0.52,
          0.854,
          0.442,
          0.349,
          0.589,
          0.669,
          0.934,
          0.768,
          0.874,
          0.34,
          0.727,
          0.646,
          0.885,
          0.819,
          0.679,
          0.636,
          0.845,
          0.438,
          0.477,
          0.628,
          0.528,
          0.526,
          0.48,
          0.944,
          0.555,
          0.617,
          0.837,
          0.146,
          0.873,
          0.748,
          0.324,
          0.752,
          0.54,
          0.655,
          0.785,
          0.625,
          0.638,
          0.37,
          0.816,
          0.768,
          0.874,
          0.672,
          0.668,
          0.577,
          0.483,
          0.954,
          0.42,
          0.55,
          0.923,
          0.639,
          0.544,
          0.834,
          0.702,
          0.77,
          0.543,
          0.718,
          0.687,
          0.946,
          0.736,
          0.776,
          0.553,
          0.649,
          0.896,
          0.692,
          0.96,
          0.802,
          0.727,
          0.577,
          0.692,
          0.863,
          0.733,
          0.732,
          0.625,
          0.731,
          0.643,
          0.341,
          0.55,
          0.639,
          0.671,
          0.597,
          0.861,
          0.516,
          0.742,
          0.487,
          0.923,
          0.679,
          0.507,
          0.819,
          0.896,
          0.783,
          0.692,
          0.521,
          0.615,
          0.804,
          0.902,
          0.553,
          0.817,
          0.717,
          0.846,
          0.756,
          0.53,
          0.911,
          0.766,
          0.707,
          0.84,
          0.701,
          0.81,
          0.576,
          0.435,
          0.836,
          0.399,
          0.71,
          0.622,
          0.698,
          0.775,
          0.633,
          0.55,
          0.914,
          0.744,
          0.8,
          0.666,
          0.67,
          0.729,
          0.635,
          0.435,
          0.702,
          0.873,
          0.625,
          0.393,
          0.514,
          0.752,
          0.443,
          0.808,
          0.395,
          0.67,
          0.951,
          0.575,
          0.76,
          0.747,
          0.698,
          0.898,
          0.727,
          0.815,
          0.644,
          0.864,
          0.65,
          0.923,
          0.926,
          0.655,
          0.741,
          0.696,
          0.236,
          0.765,
          0.431,
          0.528,
          0.808,
          0.894,
          0.587,
          0.829,
          0.85,
          0.649,
          0.899,
          0.455,
          0.52,
          0.766,
          0.641,
          0.617,
          0.807,
          0.411,
          0.357,
          0.742,
          0.586,
          0.64,
          0.758,
          0.816,
          0.556,
          0.475,
          0.425,
          0.411,
          0.789,
          0.436,
          0.949,
          0.464,
          0.83,
          0.194,
          0.639,
          0.836,
          0.751,
          0.939,
          0.973,
          0.964,
          0.641,
          0.871,
          0.725,
          0.641,
          0.746,
          0.594,
          0.289,
          0.718,
          0.543,
          0.898,
          0.366,
          0.635,
          0.958,
          0.507,
          0.553,
          0.697,
          0.709,
          0.898,
          0.945,
          0.666,
          0.806,
          0.411,
          0.919,
          0.763,
          0.797,
          0.738,
          0.497,
          0.579,
          0.852,
          0.443,
          0.459,
          0.449,
          0.494,
          0.714,
          0.449,
          0.916,
          0.783,
          0.957,
          0.897,
          0.868,
          0.664,
          0.413,
          0.585,
          0.496,
          0.627,
          0.783,
          0.991,
          0.886,
          0.477,
          0.566,
          0.502,
          0.815,
          0.716,
          0.723,
          0.937,
          0.586,
          0.886,
          0.79,
          0.898,
          0.445,
          0.819,
          0.622,
          0.484,
          0.775,
          0.774,
          0.62,
          0.624,
          0.691,
          0.837,
          0.897,
          0.969,
          0.767,
          0.728,
          0.746,
          0.943,
          0.836,
          0.969,
          0.532,
          0.369,
          0.405,
          0.414,
          0.703,
          0.492,
          0.3,
          0.774,
          0.553,
          0.747,
          0.678,
          0.662,
          0.296,
          0.56,
          0.837
         ],
         "xaxis": "x3",
         "yaxis": "y3"
        },
        {
         "alignmentgroup": "True",
         "hovertemplate": "popularity=%{y}<extra></extra>",
         "legendgroup": "",
         "marker": {
          "color": "#636efa",
          "symbol": "circle"
         },
         "name": "",
         "offsetgroup": "",
         "scalegroup": "y",
         "showlegend": false,
         "type": "violin",
         "xaxis": "x2",
         "y": [
          52,
          56,
          13,
          79,
          50,
          65,
          73,
          43,
          60,
          67,
          53,
          53,
          65,
          65,
          55,
          70,
          67,
          41,
          47,
          60,
          9,
          80,
          49,
          47,
          67,
          69,
          50,
          61,
          70,
          35,
          53,
          64,
          57,
          68,
          44,
          66,
          70,
          67,
          67,
          45,
          36,
          32,
          59,
          70,
          39,
          26,
          63,
          29,
          37,
          74,
          41,
          72,
          31,
          51,
          27,
          30,
          74,
          77,
          64,
          38,
          36,
          37,
          43,
          67,
          30,
          57,
          65,
          22,
          26,
          47,
          21,
          53,
          53,
          23,
          54,
          56,
          54,
          67,
          47,
          57,
          45,
          75,
          67,
          61,
          34,
          61,
          45,
          46,
          35,
          44,
          53,
          52,
          68,
          13,
          20,
          21,
          22,
          37,
          47,
          16,
          66,
          22,
          69,
          22,
          42,
          53,
          60,
          39,
          57,
          32,
          70,
          60,
          12,
          14,
          25,
          36,
          59,
          26,
          50,
          34,
          27,
          19,
          37,
          55,
          48,
          43,
          48,
          58,
          24,
          67,
          32,
          51,
          77,
          67,
          52,
          79,
          39,
          62,
          20,
          71,
          42,
          50,
          74,
          64,
          35,
          62,
          33,
          47,
          null,
          45,
          42,
          28,
          47,
          24,
          38,
          35,
          55,
          52,
          26,
          33,
          44,
          32,
          25,
          55,
          51,
          67,
          58,
          66,
          30,
          55,
          21,
          72,
          51,
          58,
          42,
          33,
          49,
          51,
          0,
          70,
          17,
          33,
          21,
          45,
          44,
          29,
          15,
          44,
          42,
          56,
          31,
          72,
          38,
          36,
          71,
          53,
          74,
          44,
          40,
          41,
          75,
          0,
          50,
          73,
          61,
          51,
          53,
          67,
          72,
          62,
          47,
          29,
          31,
          74,
          49,
          55,
          64,
          32,
          71,
          49,
          4,
          24,
          31,
          63,
          47,
          39,
          25,
          49,
          35,
          47,
          56,
          79,
          28,
          68,
          47,
          68,
          12,
          41,
          41,
          57,
          29,
          71,
          56,
          55,
          57,
          57,
          61,
          4,
          78,
          54,
          53,
          21,
          46,
          41,
          58,
          71,
          49,
          37,
          77,
          36,
          6,
          39,
          58,
          63,
          34,
          45,
          45,
          49,
          6,
          44,
          72,
          57,
          56,
          23,
          53,
          58,
          54,
          58,
          60,
          54,
          48,
          54,
          53,
          58,
          70,
          65,
          76,
          53,
          42,
          24,
          54,
          24,
          39,
          42,
          58,
          35,
          51,
          69,
          68,
          20,
          19,
          36,
          46,
          44,
          67,
          26,
          21,
          74,
          23,
          59,
          67,
          66,
          31,
          54,
          36,
          41,
          31,
          7,
          76,
          46,
          70,
          23,
          32,
          27,
          30,
          66,
          40,
          69,
          29,
          8,
          63,
          37,
          58,
          37,
          70,
          22,
          75,
          54,
          29,
          64,
          68,
          52,
          50,
          39,
          30,
          31,
          39,
          54,
          58,
          53,
          65,
          24,
          25,
          21,
          51,
          17,
          65,
          63,
          29,
          24,
          62,
          57,
          32,
          53,
          75,
          33,
          58,
          26,
          70,
          58,
          51,
          47,
          69,
          41,
          54,
          18,
          30,
          61,
          45,
          70,
          65,
          48,
          26,
          38,
          41,
          67,
          40,
          60,
          52,
          65,
          54,
          36,
          17,
          13,
          49,
          55,
          48,
          50,
          64,
          47,
          24,
          52,
          64,
          69,
          58,
          65,
          81,
          41,
          41,
          50,
          67,
          80,
          47,
          27,
          62,
          36,
          42,
          57,
          76,
          60,
          0,
          44,
          47,
          28,
          40,
          38,
          81,
          61,
          51,
          76,
          52,
          44,
          29,
          34
         ],
         "yaxis": "y2"
        }
       ],
       "layout": {
        "barmode": "overlay",
        "legend": {
         "tracegroupgap": 0
        },
        "margin": {
         "t": 60
        },
        "template": {
         "data": {
          "bar": [
           {
            "error_x": {
             "color": "#2a3f5f"
            },
            "error_y": {
             "color": "#2a3f5f"
            },
            "marker": {
             "line": {
              "color": "#E5ECF6",
              "width": 0.5
             },
             "pattern": {
              "fillmode": "overlay",
              "size": 10,
              "solidity": 0.2
             }
            },
            "type": "bar"
           }
          ],
          "barpolar": [
           {
            "marker": {
             "line": {
              "color": "#E5ECF6",
              "width": 0.5
             },
             "pattern": {
              "fillmode": "overlay",
              "size": 10,
              "solidity": 0.2
             }
            },
            "type": "barpolar"
           }
          ],
          "carpet": [
           {
            "aaxis": {
             "endlinecolor": "#2a3f5f",
             "gridcolor": "white",
             "linecolor": "white",
             "minorgridcolor": "white",
             "startlinecolor": "#2a3f5f"
            },
            "baxis": {
             "endlinecolor": "#2a3f5f",
             "gridcolor": "white",
             "linecolor": "white",
             "minorgridcolor": "white",
             "startlinecolor": "#2a3f5f"
            },
            "type": "carpet"
           }
          ],
          "choropleth": [
           {
            "colorbar": {
             "outlinewidth": 0,
             "ticks": ""
            },
            "type": "choropleth"
           }
          ],
          "contour": [
           {
            "colorbar": {
             "outlinewidth": 0,
             "ticks": ""
            },
            "colorscale": [
             [
              0,
              "#0d0887"
             ],
             [
              0.1111111111111111,
              "#46039f"
             ],
             [
              0.2222222222222222,
              "#7201a8"
             ],
             [
              0.3333333333333333,
              "#9c179e"
             ],
             [
              0.4444444444444444,
              "#bd3786"
             ],
             [
              0.5555555555555556,
              "#d8576b"
             ],
             [
              0.6666666666666666,
              "#ed7953"
             ],
             [
              0.7777777777777778,
              "#fb9f3a"
             ],
             [
              0.8888888888888888,
              "#fdca26"
             ],
             [
              1,
              "#f0f921"
             ]
            ],
            "type": "contour"
           }
          ],
          "contourcarpet": [
           {
            "colorbar": {
             "outlinewidth": 0,
             "ticks": ""
            },
            "type": "contourcarpet"
           }
          ],
          "heatmap": [
           {
            "colorbar": {
             "outlinewidth": 0,
             "ticks": ""
            },
            "colorscale": [
             [
              0,
              "#0d0887"
             ],
             [
              0.1111111111111111,
              "#46039f"
             ],
             [
              0.2222222222222222,
              "#7201a8"
             ],
             [
              0.3333333333333333,
              "#9c179e"
             ],
             [
              0.4444444444444444,
              "#bd3786"
             ],
             [
              0.5555555555555556,
              "#d8576b"
             ],
             [
              0.6666666666666666,
              "#ed7953"
             ],
             [
              0.7777777777777778,
              "#fb9f3a"
             ],
             [
              0.8888888888888888,
              "#fdca26"
             ],
             [
              1,
              "#f0f921"
             ]
            ],
            "type": "heatmap"
           }
          ],
          "heatmapgl": [
           {
            "colorbar": {
             "outlinewidth": 0,
             "ticks": ""
            },
            "colorscale": [
             [
              0,
              "#0d0887"
             ],
             [
              0.1111111111111111,
              "#46039f"
             ],
             [
              0.2222222222222222,
              "#7201a8"
             ],
             [
              0.3333333333333333,
              "#9c179e"
             ],
             [
              0.4444444444444444,
              "#bd3786"
             ],
             [
              0.5555555555555556,
              "#d8576b"
             ],
             [
              0.6666666666666666,
              "#ed7953"
             ],
             [
              0.7777777777777778,
              "#fb9f3a"
             ],
             [
              0.8888888888888888,
              "#fdca26"
             ],
             [
              1,
              "#f0f921"
             ]
            ],
            "type": "heatmapgl"
           }
          ],
          "histogram": [
           {
            "marker": {
             "pattern": {
              "fillmode": "overlay",
              "size": 10,
              "solidity": 0.2
             }
            },
            "type": "histogram"
           }
          ],
          "histogram2d": [
           {
            "colorbar": {
             "outlinewidth": 0,
             "ticks": ""
            },
            "colorscale": [
             [
              0,
              "#0d0887"
             ],
             [
              0.1111111111111111,
              "#46039f"
             ],
             [
              0.2222222222222222,
              "#7201a8"
             ],
             [
              0.3333333333333333,
              "#9c179e"
             ],
             [
              0.4444444444444444,
              "#bd3786"
             ],
             [
              0.5555555555555556,
              "#d8576b"
             ],
             [
              0.6666666666666666,
              "#ed7953"
             ],
             [
              0.7777777777777778,
              "#fb9f3a"
             ],
             [
              0.8888888888888888,
              "#fdca26"
             ],
             [
              1,
              "#f0f921"
             ]
            ],
            "type": "histogram2d"
           }
          ],
          "histogram2dcontour": [
           {
            "colorbar": {
             "outlinewidth": 0,
             "ticks": ""
            },
            "colorscale": [
             [
              0,
              "#0d0887"
             ],
             [
              0.1111111111111111,
              "#46039f"
             ],
             [
              0.2222222222222222,
              "#7201a8"
             ],
             [
              0.3333333333333333,
              "#9c179e"
             ],
             [
              0.4444444444444444,
              "#bd3786"
             ],
             [
              0.5555555555555556,
              "#d8576b"
             ],
             [
              0.6666666666666666,
              "#ed7953"
             ],
             [
              0.7777777777777778,
              "#fb9f3a"
             ],
             [
              0.8888888888888888,
              "#fdca26"
             ],
             [
              1,
              "#f0f921"
             ]
            ],
            "type": "histogram2dcontour"
           }
          ],
          "mesh3d": [
           {
            "colorbar": {
             "outlinewidth": 0,
             "ticks": ""
            },
            "type": "mesh3d"
           }
          ],
          "parcoords": [
           {
            "line": {
             "colorbar": {
              "outlinewidth": 0,
              "ticks": ""
             }
            },
            "type": "parcoords"
           }
          ],
          "pie": [
           {
            "automargin": true,
            "type": "pie"
           }
          ],
          "scatter": [
           {
            "marker": {
             "colorbar": {
              "outlinewidth": 0,
              "ticks": ""
             }
            },
            "type": "scatter"
           }
          ],
          "scatter3d": [
           {
            "line": {
             "colorbar": {
              "outlinewidth": 0,
              "ticks": ""
             }
            },
            "marker": {
             "colorbar": {
              "outlinewidth": 0,
              "ticks": ""
             }
            },
            "type": "scatter3d"
           }
          ],
          "scattercarpet": [
           {
            "marker": {
             "colorbar": {
              "outlinewidth": 0,
              "ticks": ""
             }
            },
            "type": "scattercarpet"
           }
          ],
          "scattergeo": [
           {
            "marker": {
             "colorbar": {
              "outlinewidth": 0,
              "ticks": ""
             }
            },
            "type": "scattergeo"
           }
          ],
          "scattergl": [
           {
            "marker": {
             "colorbar": {
              "outlinewidth": 0,
              "ticks": ""
             }
            },
            "type": "scattergl"
           }
          ],
          "scattermapbox": [
           {
            "marker": {
             "colorbar": {
              "outlinewidth": 0,
              "ticks": ""
             }
            },
            "type": "scattermapbox"
           }
          ],
          "scatterpolar": [
           {
            "marker": {
             "colorbar": {
              "outlinewidth": 0,
              "ticks": ""
             }
            },
            "type": "scatterpolar"
           }
          ],
          "scatterpolargl": [
           {
            "marker": {
             "colorbar": {
              "outlinewidth": 0,
              "ticks": ""
             }
            },
            "type": "scatterpolargl"
           }
          ],
          "scatterternary": [
           {
            "marker": {
             "colorbar": {
              "outlinewidth": 0,
              "ticks": ""
             }
            },
            "type": "scatterternary"
           }
          ],
          "surface": [
           {
            "colorbar": {
             "outlinewidth": 0,
             "ticks": ""
            },
            "colorscale": [
             [
              0,
              "#0d0887"
             ],
             [
              0.1111111111111111,
              "#46039f"
             ],
             [
              0.2222222222222222,
              "#7201a8"
             ],
             [
              0.3333333333333333,
              "#9c179e"
             ],
             [
              0.4444444444444444,
              "#bd3786"
             ],
             [
              0.5555555555555556,
              "#d8576b"
             ],
             [
              0.6666666666666666,
              "#ed7953"
             ],
             [
              0.7777777777777778,
              "#fb9f3a"
             ],
             [
              0.8888888888888888,
              "#fdca26"
             ],
             [
              1,
              "#f0f921"
             ]
            ],
            "type": "surface"
           }
          ],
          "table": [
           {
            "cells": {
             "fill": {
              "color": "#EBF0F8"
             },
             "line": {
              "color": "white"
             }
            },
            "header": {
             "fill": {
              "color": "#C8D4E3"
             },
             "line": {
              "color": "white"
             }
            },
            "type": "table"
           }
          ]
         },
         "layout": {
          "annotationdefaults": {
           "arrowcolor": "#2a3f5f",
           "arrowhead": 0,
           "arrowwidth": 1
          },
          "autotypenumbers": "strict",
          "coloraxis": {
           "colorbar": {
            "outlinewidth": 0,
            "ticks": ""
           }
          },
          "colorscale": {
           "diverging": [
            [
             0,
             "#8e0152"
            ],
            [
             0.1,
             "#c51b7d"
            ],
            [
             0.2,
             "#de77ae"
            ],
            [
             0.3,
             "#f1b6da"
            ],
            [
             0.4,
             "#fde0ef"
            ],
            [
             0.5,
             "#f7f7f7"
            ],
            [
             0.6,
             "#e6f5d0"
            ],
            [
             0.7,
             "#b8e186"
            ],
            [
             0.8,
             "#7fbc41"
            ],
            [
             0.9,
             "#4d9221"
            ],
            [
             1,
             "#276419"
            ]
           ],
           "sequential": [
            [
             0,
             "#0d0887"
            ],
            [
             0.1111111111111111,
             "#46039f"
            ],
            [
             0.2222222222222222,
             "#7201a8"
            ],
            [
             0.3333333333333333,
             "#9c179e"
            ],
            [
             0.4444444444444444,
             "#bd3786"
            ],
            [
             0.5555555555555556,
             "#d8576b"
            ],
            [
             0.6666666666666666,
             "#ed7953"
            ],
            [
             0.7777777777777778,
             "#fb9f3a"
            ],
            [
             0.8888888888888888,
             "#fdca26"
            ],
            [
             1,
             "#f0f921"
            ]
           ],
           "sequentialminus": [
            [
             0,
             "#0d0887"
            ],
            [
             0.1111111111111111,
             "#46039f"
            ],
            [
             0.2222222222222222,
             "#7201a8"
            ],
            [
             0.3333333333333333,
             "#9c179e"
            ],
            [
             0.4444444444444444,
             "#bd3786"
            ],
            [
             0.5555555555555556,
             "#d8576b"
            ],
            [
             0.6666666666666666,
             "#ed7953"
            ],
            [
             0.7777777777777778,
             "#fb9f3a"
            ],
            [
             0.8888888888888888,
             "#fdca26"
            ],
            [
             1,
             "#f0f921"
            ]
           ]
          },
          "colorway": [
           "#636efa",
           "#EF553B",
           "#00cc96",
           "#ab63fa",
           "#FFA15A",
           "#19d3f3",
           "#FF6692",
           "#B6E880",
           "#FF97FF",
           "#FECB52"
          ],
          "font": {
           "color": "#2a3f5f"
          },
          "geo": {
           "bgcolor": "white",
           "lakecolor": "white",
           "landcolor": "#E5ECF6",
           "showlakes": true,
           "showland": true,
           "subunitcolor": "white"
          },
          "hoverlabel": {
           "align": "left"
          },
          "hovermode": "closest",
          "mapbox": {
           "style": "light"
          },
          "paper_bgcolor": "white",
          "plot_bgcolor": "#E5ECF6",
          "polar": {
           "angularaxis": {
            "gridcolor": "white",
            "linecolor": "white",
            "ticks": ""
           },
           "bgcolor": "#E5ECF6",
           "radialaxis": {
            "gridcolor": "white",
            "linecolor": "white",
            "ticks": ""
           }
          },
          "scene": {
           "xaxis": {
            "backgroundcolor": "#E5ECF6",
            "gridcolor": "white",
            "gridwidth": 2,
            "linecolor": "white",
            "showbackground": true,
            "ticks": "",
            "zerolinecolor": "white"
           },
           "yaxis": {
            "backgroundcolor": "#E5ECF6",
            "gridcolor": "white",
            "gridwidth": 2,
            "linecolor": "white",
            "showbackground": true,
            "ticks": "",
            "zerolinecolor": "white"
           },
           "zaxis": {
            "backgroundcolor": "#E5ECF6",
            "gridcolor": "white",
            "gridwidth": 2,
            "linecolor": "white",
            "showbackground": true,
            "ticks": "",
            "zerolinecolor": "white"
           }
          },
          "shapedefaults": {
           "line": {
            "color": "#2a3f5f"
           }
          },
          "ternary": {
           "aaxis": {
            "gridcolor": "white",
            "linecolor": "white",
            "ticks": ""
           },
           "baxis": {
            "gridcolor": "white",
            "linecolor": "white",
            "ticks": ""
           },
           "bgcolor": "#E5ECF6",
           "caxis": {
            "gridcolor": "white",
            "linecolor": "white",
            "ticks": ""
           }
          },
          "title": {
           "x": 0.05
          },
          "xaxis": {
           "automargin": true,
           "gridcolor": "white",
           "linecolor": "white",
           "ticks": "",
           "title": {
            "standoff": 15
           },
           "zerolinecolor": "white",
           "zerolinewidth": 2
          },
          "yaxis": {
           "automargin": true,
           "gridcolor": "white",
           "linecolor": "white",
           "ticks": "",
           "title": {
            "standoff": 15
           },
           "zerolinecolor": "white",
           "zerolinewidth": 2
          }
         }
        },
        "xaxis": {
         "anchor": "y",
         "domain": [
          0,
          0.8358
         ],
         "title": {
          "text": "energy"
         }
        },
        "xaxis2": {
         "anchor": "y2",
         "domain": [
          0.8408,
          1
         ],
         "matches": "x2",
         "showgrid": false,
         "showline": false,
         "showticklabels": false,
         "ticks": ""
        },
        "xaxis3": {
         "anchor": "y3",
         "domain": [
          0,
          0.8358
         ],
         "matches": "x",
         "showgrid": true,
         "showticklabels": false
        },
        "xaxis4": {
         "anchor": "y4",
         "domain": [
          0.8408,
          1
         ],
         "matches": "x2",
         "showgrid": false,
         "showline": false,
         "showticklabels": false,
         "ticks": ""
        },
        "yaxis": {
         "anchor": "x",
         "domain": [
          0,
          0.7326
         ],
         "title": {
          "text": "popularity"
         }
        },
        "yaxis2": {
         "anchor": "x2",
         "domain": [
          0,
          0.7326
         ],
         "matches": "y",
         "showgrid": true,
         "showticklabels": false
        },
        "yaxis3": {
         "anchor": "x3",
         "domain": [
          0.7426,
          1
         ],
         "matches": "y3",
         "showgrid": true,
         "showline": false,
         "showticklabels": false,
         "ticks": ""
        },
        "yaxis4": {
         "anchor": "x4",
         "domain": [
          0.7426,
          1
         ],
         "matches": "y3",
         "showgrid": true,
         "showline": false,
         "showticklabels": false,
         "ticks": ""
        }
       }
      }
     },
     "metadata": {},
     "output_type": "display_data"
    }
   ],
   "source": [
    "fig = px.scatter(df_99, x='energy', y='popularity', marginal_x='histogram', marginal_y='violin')\n",
    "fig.show()"
   ]
  },
  {
   "cell_type": "code",
   "execution_count": 57,
   "metadata": {},
   "outputs": [
    {
     "data": {
      "application/vnd.plotly.v1+json": {
       "config": {
        "plotlyServerURL": "https://plot.ly"
       },
       "data": [
        {
         "hovertemplate": "energy=%{x}<br>popularity=%{y}<extra></extra>",
         "legendgroup": "",
         "marker": {
          "color": "#636efa",
          "symbol": "circle"
         },
         "mode": "markers",
         "name": "",
         "orientation": "v",
         "showlegend": false,
         "type": "scatter",
         "x": [
          0.563,
          0.85,
          0.325,
          0.378,
          0.641,
          0.594,
          0.347,
          0.728,
          0.652,
          0.545,
          0.521,
          0.488,
          0.888,
          0.406,
          0.496,
          0.407,
          0.446,
          0.697,
          0.678,
          0.438,
          0.64,
          0.959,
          0.695,
          0.425,
          0.659,
          0.779,
          0.883,
          0.617,
          0.544,
          0.88,
          0.884,
          0.803,
          0.323,
          0.75,
          0.596,
          0.879,
          0.59,
          0.837,
          0.593,
          0.711,
          0.495,
          0.847,
          0.717,
          0.667,
          0.582,
          0.938,
          0.611,
          0.919,
          0.758,
          0.86,
          0.497,
          0.903,
          0.937,
          0.45,
          0.871,
          0.666,
          0.916,
          0.755,
          0.704,
          0.837,
          0.876,
          0.421,
          0.769,
          0.889,
          0.842,
          0.634,
          0.621,
          0.446,
          0.79,
          0.628,
          0.877,
          0.477,
          0.814,
          0.871,
          0.991,
          0.439,
          0.812,
          0.949,
          0.91,
          0.435,
          0.586,
          0.231,
          0.498,
          0.589,
          0.59,
          0.795,
          0.826,
          0.98,
          0.633,
          0.712,
          0.911,
          0.534,
          0.821,
          0.9,
          0.579,
          0.709,
          0.414,
          0.826,
          0.468,
          0.922,
          0.73,
          0.484,
          0.884,
          0.853,
          0.851,
          0.837,
          0.683,
          0.657,
          0.853,
          0.955,
          0.706,
          0.819,
          0.742,
          0.931,
          0.722,
          0.903,
          0.125,
          0.476,
          0.534,
          0.386,
          0.947,
          0.852,
          0.49,
          0.558,
          0.901,
          0.709,
          0.779,
          0.937,
          0.902,
          0.85,
          0.59,
          0.477,
          0.923,
          0.564,
          0.775,
          0.777,
          0.876,
          0.896,
          0.978,
          0.955,
          0.924,
          0.92,
          0.934,
          0.938,
          0.773,
          0.888,
          0.917,
          0.239,
          0.843,
          0.578,
          0.756,
          0.0736,
          0.566,
          0.913,
          0.447,
          0.471,
          0.573,
          0.936,
          0.449,
          0.883,
          0.323,
          0.295,
          0.932,
          0.99,
          0.801,
          0.949,
          0.96,
          0.782,
          0.841,
          0.88,
          0.0513,
          0.496,
          0.627,
          0.594,
          0.743
         ],
         "xaxis": "x",
         "y": [
          45,
          72,
          56,
          59,
          48,
          36,
          19,
          43,
          14,
          50,
          49,
          64,
          46,
          13,
          53,
          55,
          60,
          41,
          37,
          62,
          47,
          36,
          61,
          50,
          68,
          45,
          35,
          41,
          54,
          10,
          24,
          56,
          21,
          46,
          50,
          58,
          15,
          59,
          34,
          49,
          62,
          46,
          41,
          21,
          54,
          53,
          21,
          48,
          60,
          28,
          47,
          65,
          68,
          26,
          63,
          35,
          44,
          50,
          41,
          34,
          48,
          41,
          72,
          61,
          39,
          46,
          43,
          38,
          51,
          48,
          46,
          45,
          13,
          19,
          47,
          47,
          68,
          38,
          51,
          41,
          43,
          58,
          52,
          37,
          54,
          58,
          65,
          46,
          38,
          27,
          64,
          43,
          73,
          33,
          39,
          39,
          37,
          62,
          52,
          61,
          27,
          64,
          75,
          44,
          49,
          35,
          55,
          28,
          24,
          53,
          52,
          51,
          45,
          72,
          46,
          68,
          43,
          63,
          67,
          62,
          42,
          56,
          63,
          66,
          53,
          60,
          64,
          41,
          45,
          64,
          50,
          44,
          65,
          61,
          71,
          60,
          65,
          51,
          65,
          58,
          54,
          65,
          41,
          60,
          36,
          57,
          46,
          50,
          4,
          65,
          48,
          48,
          63,
          37,
          68,
          23,
          63,
          46,
          6,
          47,
          42,
          62,
          1,
          4,
          0,
          26,
          68,
          60,
          70,
          70,
          52,
          42,
          48,
          28,
          45
         ],
         "yaxis": "y"
        },
        {
         "alignmentgroup": "True",
         "bingroup": "x",
         "hovertemplate": "energy=%{x}<br>count=%{y}<extra></extra>",
         "legendgroup": "",
         "marker": {
          "color": "#636efa"
         },
         "name": "",
         "offsetgroup": "",
         "opacity": 0.5,
         "showlegend": false,
         "type": "histogram",
         "x": [
          0.563,
          0.85,
          0.325,
          0.378,
          0.641,
          0.594,
          0.347,
          0.728,
          0.652,
          0.545,
          0.521,
          0.488,
          0.888,
          0.406,
          0.496,
          0.407,
          0.446,
          0.697,
          0.678,
          0.438,
          0.64,
          0.959,
          0.695,
          0.425,
          0.659,
          0.779,
          0.883,
          0.617,
          0.544,
          0.88,
          0.884,
          0.803,
          0.323,
          0.75,
          0.596,
          0.879,
          0.59,
          0.837,
          0.593,
          0.711,
          0.495,
          0.847,
          0.717,
          0.667,
          0.582,
          0.938,
          0.611,
          0.919,
          0.758,
          0.86,
          0.497,
          0.903,
          0.937,
          0.45,
          0.871,
          0.666,
          0.916,
          0.755,
          0.704,
          0.837,
          0.876,
          0.421,
          0.769,
          0.889,
          0.842,
          0.634,
          0.621,
          0.446,
          0.79,
          0.628,
          0.877,
          0.477,
          0.814,
          0.871,
          0.991,
          0.439,
          0.812,
          0.949,
          0.91,
          0.435,
          0.586,
          0.231,
          0.498,
          0.589,
          0.59,
          0.795,
          0.826,
          0.98,
          0.633,
          0.712,
          0.911,
          0.534,
          0.821,
          0.9,
          0.579,
          0.709,
          0.414,
          0.826,
          0.468,
          0.922,
          0.73,
          0.484,
          0.884,
          0.853,
          0.851,
          0.837,
          0.683,
          0.657,
          0.853,
          0.955,
          0.706,
          0.819,
          0.742,
          0.931,
          0.722,
          0.903,
          0.125,
          0.476,
          0.534,
          0.386,
          0.947,
          0.852,
          0.49,
          0.558,
          0.901,
          0.709,
          0.779,
          0.937,
          0.902,
          0.85,
          0.59,
          0.477,
          0.923,
          0.564,
          0.775,
          0.777,
          0.876,
          0.896,
          0.978,
          0.955,
          0.924,
          0.92,
          0.934,
          0.938,
          0.773,
          0.888,
          0.917,
          0.239,
          0.843,
          0.578,
          0.756,
          0.0736,
          0.566,
          0.913,
          0.447,
          0.471,
          0.573,
          0.936,
          0.449,
          0.883,
          0.323,
          0.295,
          0.932,
          0.99,
          0.801,
          0.949,
          0.96,
          0.782,
          0.841,
          0.88,
          0.0513,
          0.496,
          0.627,
          0.594,
          0.743
         ],
         "xaxis": "x3",
         "yaxis": "y3"
        },
        {
         "alignmentgroup": "True",
         "hovertemplate": "popularity=%{y}<extra></extra>",
         "legendgroup": "",
         "marker": {
          "color": "#636efa",
          "symbol": "circle"
         },
         "name": "",
         "offsetgroup": "",
         "scalegroup": "y",
         "showlegend": false,
         "type": "violin",
         "xaxis": "x2",
         "y": [
          45,
          72,
          56,
          59,
          48,
          36,
          19,
          43,
          14,
          50,
          49,
          64,
          46,
          13,
          53,
          55,
          60,
          41,
          37,
          62,
          47,
          36,
          61,
          50,
          68,
          45,
          35,
          41,
          54,
          10,
          24,
          56,
          21,
          46,
          50,
          58,
          15,
          59,
          34,
          49,
          62,
          46,
          41,
          21,
          54,
          53,
          21,
          48,
          60,
          28,
          47,
          65,
          68,
          26,
          63,
          35,
          44,
          50,
          41,
          34,
          48,
          41,
          72,
          61,
          39,
          46,
          43,
          38,
          51,
          48,
          46,
          45,
          13,
          19,
          47,
          47,
          68,
          38,
          51,
          41,
          43,
          58,
          52,
          37,
          54,
          58,
          65,
          46,
          38,
          27,
          64,
          43,
          73,
          33,
          39,
          39,
          37,
          62,
          52,
          61,
          27,
          64,
          75,
          44,
          49,
          35,
          55,
          28,
          24,
          53,
          52,
          51,
          45,
          72,
          46,
          68,
          43,
          63,
          67,
          62,
          42,
          56,
          63,
          66,
          53,
          60,
          64,
          41,
          45,
          64,
          50,
          44,
          65,
          61,
          71,
          60,
          65,
          51,
          65,
          58,
          54,
          65,
          41,
          60,
          36,
          57,
          46,
          50,
          4,
          65,
          48,
          48,
          63,
          37,
          68,
          23,
          63,
          46,
          6,
          47,
          42,
          62,
          1,
          4,
          0,
          26,
          68,
          60,
          70,
          70,
          52,
          42,
          48,
          28,
          45
         ],
         "yaxis": "y2"
        }
       ],
       "layout": {
        "barmode": "overlay",
        "legend": {
         "tracegroupgap": 0
        },
        "margin": {
         "t": 60
        },
        "template": {
         "data": {
          "bar": [
           {
            "error_x": {
             "color": "#2a3f5f"
            },
            "error_y": {
             "color": "#2a3f5f"
            },
            "marker": {
             "line": {
              "color": "#E5ECF6",
              "width": 0.5
             },
             "pattern": {
              "fillmode": "overlay",
              "size": 10,
              "solidity": 0.2
             }
            },
            "type": "bar"
           }
          ],
          "barpolar": [
           {
            "marker": {
             "line": {
              "color": "#E5ECF6",
              "width": 0.5
             },
             "pattern": {
              "fillmode": "overlay",
              "size": 10,
              "solidity": 0.2
             }
            },
            "type": "barpolar"
           }
          ],
          "carpet": [
           {
            "aaxis": {
             "endlinecolor": "#2a3f5f",
             "gridcolor": "white",
             "linecolor": "white",
             "minorgridcolor": "white",
             "startlinecolor": "#2a3f5f"
            },
            "baxis": {
             "endlinecolor": "#2a3f5f",
             "gridcolor": "white",
             "linecolor": "white",
             "minorgridcolor": "white",
             "startlinecolor": "#2a3f5f"
            },
            "type": "carpet"
           }
          ],
          "choropleth": [
           {
            "colorbar": {
             "outlinewidth": 0,
             "ticks": ""
            },
            "type": "choropleth"
           }
          ],
          "contour": [
           {
            "colorbar": {
             "outlinewidth": 0,
             "ticks": ""
            },
            "colorscale": [
             [
              0,
              "#0d0887"
             ],
             [
              0.1111111111111111,
              "#46039f"
             ],
             [
              0.2222222222222222,
              "#7201a8"
             ],
             [
              0.3333333333333333,
              "#9c179e"
             ],
             [
              0.4444444444444444,
              "#bd3786"
             ],
             [
              0.5555555555555556,
              "#d8576b"
             ],
             [
              0.6666666666666666,
              "#ed7953"
             ],
             [
              0.7777777777777778,
              "#fb9f3a"
             ],
             [
              0.8888888888888888,
              "#fdca26"
             ],
             [
              1,
              "#f0f921"
             ]
            ],
            "type": "contour"
           }
          ],
          "contourcarpet": [
           {
            "colorbar": {
             "outlinewidth": 0,
             "ticks": ""
            },
            "type": "contourcarpet"
           }
          ],
          "heatmap": [
           {
            "colorbar": {
             "outlinewidth": 0,
             "ticks": ""
            },
            "colorscale": [
             [
              0,
              "#0d0887"
             ],
             [
              0.1111111111111111,
              "#46039f"
             ],
             [
              0.2222222222222222,
              "#7201a8"
             ],
             [
              0.3333333333333333,
              "#9c179e"
             ],
             [
              0.4444444444444444,
              "#bd3786"
             ],
             [
              0.5555555555555556,
              "#d8576b"
             ],
             [
              0.6666666666666666,
              "#ed7953"
             ],
             [
              0.7777777777777778,
              "#fb9f3a"
             ],
             [
              0.8888888888888888,
              "#fdca26"
             ],
             [
              1,
              "#f0f921"
             ]
            ],
            "type": "heatmap"
           }
          ],
          "heatmapgl": [
           {
            "colorbar": {
             "outlinewidth": 0,
             "ticks": ""
            },
            "colorscale": [
             [
              0,
              "#0d0887"
             ],
             [
              0.1111111111111111,
              "#46039f"
             ],
             [
              0.2222222222222222,
              "#7201a8"
             ],
             [
              0.3333333333333333,
              "#9c179e"
             ],
             [
              0.4444444444444444,
              "#bd3786"
             ],
             [
              0.5555555555555556,
              "#d8576b"
             ],
             [
              0.6666666666666666,
              "#ed7953"
             ],
             [
              0.7777777777777778,
              "#fb9f3a"
             ],
             [
              0.8888888888888888,
              "#fdca26"
             ],
             [
              1,
              "#f0f921"
             ]
            ],
            "type": "heatmapgl"
           }
          ],
          "histogram": [
           {
            "marker": {
             "pattern": {
              "fillmode": "overlay",
              "size": 10,
              "solidity": 0.2
             }
            },
            "type": "histogram"
           }
          ],
          "histogram2d": [
           {
            "colorbar": {
             "outlinewidth": 0,
             "ticks": ""
            },
            "colorscale": [
             [
              0,
              "#0d0887"
             ],
             [
              0.1111111111111111,
              "#46039f"
             ],
             [
              0.2222222222222222,
              "#7201a8"
             ],
             [
              0.3333333333333333,
              "#9c179e"
             ],
             [
              0.4444444444444444,
              "#bd3786"
             ],
             [
              0.5555555555555556,
              "#d8576b"
             ],
             [
              0.6666666666666666,
              "#ed7953"
             ],
             [
              0.7777777777777778,
              "#fb9f3a"
             ],
             [
              0.8888888888888888,
              "#fdca26"
             ],
             [
              1,
              "#f0f921"
             ]
            ],
            "type": "histogram2d"
           }
          ],
          "histogram2dcontour": [
           {
            "colorbar": {
             "outlinewidth": 0,
             "ticks": ""
            },
            "colorscale": [
             [
              0,
              "#0d0887"
             ],
             [
              0.1111111111111111,
              "#46039f"
             ],
             [
              0.2222222222222222,
              "#7201a8"
             ],
             [
              0.3333333333333333,
              "#9c179e"
             ],
             [
              0.4444444444444444,
              "#bd3786"
             ],
             [
              0.5555555555555556,
              "#d8576b"
             ],
             [
              0.6666666666666666,
              "#ed7953"
             ],
             [
              0.7777777777777778,
              "#fb9f3a"
             ],
             [
              0.8888888888888888,
              "#fdca26"
             ],
             [
              1,
              "#f0f921"
             ]
            ],
            "type": "histogram2dcontour"
           }
          ],
          "mesh3d": [
           {
            "colorbar": {
             "outlinewidth": 0,
             "ticks": ""
            },
            "type": "mesh3d"
           }
          ],
          "parcoords": [
           {
            "line": {
             "colorbar": {
              "outlinewidth": 0,
              "ticks": ""
             }
            },
            "type": "parcoords"
           }
          ],
          "pie": [
           {
            "automargin": true,
            "type": "pie"
           }
          ],
          "scatter": [
           {
            "marker": {
             "colorbar": {
              "outlinewidth": 0,
              "ticks": ""
             }
            },
            "type": "scatter"
           }
          ],
          "scatter3d": [
           {
            "line": {
             "colorbar": {
              "outlinewidth": 0,
              "ticks": ""
             }
            },
            "marker": {
             "colorbar": {
              "outlinewidth": 0,
              "ticks": ""
             }
            },
            "type": "scatter3d"
           }
          ],
          "scattercarpet": [
           {
            "marker": {
             "colorbar": {
              "outlinewidth": 0,
              "ticks": ""
             }
            },
            "type": "scattercarpet"
           }
          ],
          "scattergeo": [
           {
            "marker": {
             "colorbar": {
              "outlinewidth": 0,
              "ticks": ""
             }
            },
            "type": "scattergeo"
           }
          ],
          "scattergl": [
           {
            "marker": {
             "colorbar": {
              "outlinewidth": 0,
              "ticks": ""
             }
            },
            "type": "scattergl"
           }
          ],
          "scattermapbox": [
           {
            "marker": {
             "colorbar": {
              "outlinewidth": 0,
              "ticks": ""
             }
            },
            "type": "scattermapbox"
           }
          ],
          "scatterpolar": [
           {
            "marker": {
             "colorbar": {
              "outlinewidth": 0,
              "ticks": ""
             }
            },
            "type": "scatterpolar"
           }
          ],
          "scatterpolargl": [
           {
            "marker": {
             "colorbar": {
              "outlinewidth": 0,
              "ticks": ""
             }
            },
            "type": "scatterpolargl"
           }
          ],
          "scatterternary": [
           {
            "marker": {
             "colorbar": {
              "outlinewidth": 0,
              "ticks": ""
             }
            },
            "type": "scatterternary"
           }
          ],
          "surface": [
           {
            "colorbar": {
             "outlinewidth": 0,
             "ticks": ""
            },
            "colorscale": [
             [
              0,
              "#0d0887"
             ],
             [
              0.1111111111111111,
              "#46039f"
             ],
             [
              0.2222222222222222,
              "#7201a8"
             ],
             [
              0.3333333333333333,
              "#9c179e"
             ],
             [
              0.4444444444444444,
              "#bd3786"
             ],
             [
              0.5555555555555556,
              "#d8576b"
             ],
             [
              0.6666666666666666,
              "#ed7953"
             ],
             [
              0.7777777777777778,
              "#fb9f3a"
             ],
             [
              0.8888888888888888,
              "#fdca26"
             ],
             [
              1,
              "#f0f921"
             ]
            ],
            "type": "surface"
           }
          ],
          "table": [
           {
            "cells": {
             "fill": {
              "color": "#EBF0F8"
             },
             "line": {
              "color": "white"
             }
            },
            "header": {
             "fill": {
              "color": "#C8D4E3"
             },
             "line": {
              "color": "white"
             }
            },
            "type": "table"
           }
          ]
         },
         "layout": {
          "annotationdefaults": {
           "arrowcolor": "#2a3f5f",
           "arrowhead": 0,
           "arrowwidth": 1
          },
          "autotypenumbers": "strict",
          "coloraxis": {
           "colorbar": {
            "outlinewidth": 0,
            "ticks": ""
           }
          },
          "colorscale": {
           "diverging": [
            [
             0,
             "#8e0152"
            ],
            [
             0.1,
             "#c51b7d"
            ],
            [
             0.2,
             "#de77ae"
            ],
            [
             0.3,
             "#f1b6da"
            ],
            [
             0.4,
             "#fde0ef"
            ],
            [
             0.5,
             "#f7f7f7"
            ],
            [
             0.6,
             "#e6f5d0"
            ],
            [
             0.7,
             "#b8e186"
            ],
            [
             0.8,
             "#7fbc41"
            ],
            [
             0.9,
             "#4d9221"
            ],
            [
             1,
             "#276419"
            ]
           ],
           "sequential": [
            [
             0,
             "#0d0887"
            ],
            [
             0.1111111111111111,
             "#46039f"
            ],
            [
             0.2222222222222222,
             "#7201a8"
            ],
            [
             0.3333333333333333,
             "#9c179e"
            ],
            [
             0.4444444444444444,
             "#bd3786"
            ],
            [
             0.5555555555555556,
             "#d8576b"
            ],
            [
             0.6666666666666666,
             "#ed7953"
            ],
            [
             0.7777777777777778,
             "#fb9f3a"
            ],
            [
             0.8888888888888888,
             "#fdca26"
            ],
            [
             1,
             "#f0f921"
            ]
           ],
           "sequentialminus": [
            [
             0,
             "#0d0887"
            ],
            [
             0.1111111111111111,
             "#46039f"
            ],
            [
             0.2222222222222222,
             "#7201a8"
            ],
            [
             0.3333333333333333,
             "#9c179e"
            ],
            [
             0.4444444444444444,
             "#bd3786"
            ],
            [
             0.5555555555555556,
             "#d8576b"
            ],
            [
             0.6666666666666666,
             "#ed7953"
            ],
            [
             0.7777777777777778,
             "#fb9f3a"
            ],
            [
             0.8888888888888888,
             "#fdca26"
            ],
            [
             1,
             "#f0f921"
            ]
           ]
          },
          "colorway": [
           "#636efa",
           "#EF553B",
           "#00cc96",
           "#ab63fa",
           "#FFA15A",
           "#19d3f3",
           "#FF6692",
           "#B6E880",
           "#FF97FF",
           "#FECB52"
          ],
          "font": {
           "color": "#2a3f5f"
          },
          "geo": {
           "bgcolor": "white",
           "lakecolor": "white",
           "landcolor": "#E5ECF6",
           "showlakes": true,
           "showland": true,
           "subunitcolor": "white"
          },
          "hoverlabel": {
           "align": "left"
          },
          "hovermode": "closest",
          "mapbox": {
           "style": "light"
          },
          "paper_bgcolor": "white",
          "plot_bgcolor": "#E5ECF6",
          "polar": {
           "angularaxis": {
            "gridcolor": "white",
            "linecolor": "white",
            "ticks": ""
           },
           "bgcolor": "#E5ECF6",
           "radialaxis": {
            "gridcolor": "white",
            "linecolor": "white",
            "ticks": ""
           }
          },
          "scene": {
           "xaxis": {
            "backgroundcolor": "#E5ECF6",
            "gridcolor": "white",
            "gridwidth": 2,
            "linecolor": "white",
            "showbackground": true,
            "ticks": "",
            "zerolinecolor": "white"
           },
           "yaxis": {
            "backgroundcolor": "#E5ECF6",
            "gridcolor": "white",
            "gridwidth": 2,
            "linecolor": "white",
            "showbackground": true,
            "ticks": "",
            "zerolinecolor": "white"
           },
           "zaxis": {
            "backgroundcolor": "#E5ECF6",
            "gridcolor": "white",
            "gridwidth": 2,
            "linecolor": "white",
            "showbackground": true,
            "ticks": "",
            "zerolinecolor": "white"
           }
          },
          "shapedefaults": {
           "line": {
            "color": "#2a3f5f"
           }
          },
          "ternary": {
           "aaxis": {
            "gridcolor": "white",
            "linecolor": "white",
            "ticks": ""
           },
           "baxis": {
            "gridcolor": "white",
            "linecolor": "white",
            "ticks": ""
           },
           "bgcolor": "#E5ECF6",
           "caxis": {
            "gridcolor": "white",
            "linecolor": "white",
            "ticks": ""
           }
          },
          "title": {
           "x": 0.05
          },
          "xaxis": {
           "automargin": true,
           "gridcolor": "white",
           "linecolor": "white",
           "ticks": "",
           "title": {
            "standoff": 15
           },
           "zerolinecolor": "white",
           "zerolinewidth": 2
          },
          "yaxis": {
           "automargin": true,
           "gridcolor": "white",
           "linecolor": "white",
           "ticks": "",
           "title": {
            "standoff": 15
           },
           "zerolinecolor": "white",
           "zerolinewidth": 2
          }
         }
        },
        "xaxis": {
         "anchor": "y",
         "domain": [
          0,
          0.8358
         ],
         "title": {
          "text": "energy"
         }
        },
        "xaxis2": {
         "anchor": "y2",
         "domain": [
          0.8408,
          1
         ],
         "matches": "x2",
         "showgrid": false,
         "showline": false,
         "showticklabels": false,
         "ticks": ""
        },
        "xaxis3": {
         "anchor": "y3",
         "domain": [
          0,
          0.8358
         ],
         "matches": "x",
         "showgrid": true,
         "showticklabels": false
        },
        "xaxis4": {
         "anchor": "y4",
         "domain": [
          0.8408,
          1
         ],
         "matches": "x2",
         "showgrid": false,
         "showline": false,
         "showticklabels": false,
         "ticks": ""
        },
        "yaxis": {
         "anchor": "x",
         "domain": [
          0,
          0.7326
         ],
         "title": {
          "text": "popularity"
         }
        },
        "yaxis2": {
         "anchor": "x2",
         "domain": [
          0,
          0.7326
         ],
         "matches": "y",
         "showgrid": true,
         "showticklabels": false
        },
        "yaxis3": {
         "anchor": "x3",
         "domain": [
          0.7426,
          1
         ],
         "matches": "y3",
         "showgrid": true,
         "showline": false,
         "showticklabels": false,
         "ticks": ""
        },
        "yaxis4": {
         "anchor": "x4",
         "domain": [
          0.7426,
          1
         ],
         "matches": "y3",
         "showgrid": true,
         "showline": false,
         "showticklabels": false,
         "ticks": ""
        }
       }
      }
     },
     "metadata": {},
     "output_type": "display_data"
    }
   ],
   "source": [
    "fig = px.scatter(samples_for_year, x='energy', y='popularity', marginal_x='histogram', marginal_y='violin')\n",
    "fig.show()"
   ]
  },
  {
   "cell_type": "code",
   "execution_count": 58,
   "metadata": {},
   "outputs": [
    {
     "data": {
      "application/vnd.plotly.v1+json": {
       "config": {
        "plotlyServerURL": "https://plot.ly"
       },
       "data": [
        {
         "hovertemplate": "energy=%{x}<br>bill_popularity=%{y}<extra></extra>",
         "legendgroup": "",
         "marker": {
          "color": "#636efa",
          "symbol": "circle"
         },
         "mode": "markers",
         "name": "",
         "orientation": "v",
         "showlegend": false,
         "type": "scatter",
         "x": [
          0.504,
          0.531,
          0.665,
          0.699,
          0.603,
          0.505,
          0.505,
          0.831,
          0.533,
          0.551,
          0.694,
          0.833,
          0.693,
          0.804,
          0.495,
          0.843,
          0.543,
          0.817,
          0.49,
          0.665,
          0.637,
          0.715,
          0.766,
          0.872,
          0.0744,
          0.609,
          0.741,
          0.434,
          0.534,
          0.837,
          0.483,
          0.616,
          0.476,
          0.818,
          0.544,
          0.562,
          0.898,
          0.679,
          0.402,
          0.469,
          0.413,
          0.582,
          0.561,
          0.676,
          0.667,
          0.369,
          0.663,
          0.554,
          0.782,
          0.896,
          0.415,
          0.872,
          0.601,
          0.373,
          0.406,
          0.44,
          0.901,
          0.917,
          0.701,
          0.388,
          0.815,
          0.49,
          0.72,
          0.39,
          0.425,
          0.919,
          0.651,
          0.47,
          0.461,
          0.579,
          0.949,
          0.596,
          0.62,
          0.871,
          0.556,
          0.504,
          0.535,
          0.544,
          0.776,
          0.503,
          0.643,
          0.662,
          0.94,
          0.735,
          0.784,
          0.527,
          0.643,
          0.803,
          0.808,
          0.822,
          0.431,
          0.357,
          0.905,
          0.324,
          0.26,
          0.17,
          0.418,
          0.534,
          0.464,
          0.376,
          0.679,
          0.587,
          0.619,
          0.453,
          0.784,
          0.638,
          0.73,
          0.299,
          0.346,
          0.565,
          0.873,
          0.522,
          0.846,
          0.805,
          0.481,
          0.773,
          0.461,
          0.71,
          0.574,
          0.786,
          0.729,
          0.537,
          0.831,
          0.53,
          0.773,
          0.375,
          0.831,
          0.674,
          0.756,
          0.464,
          0.75,
          0.745,
          0.749,
          0.905,
          0.327,
          0.675,
          0.616,
          0.936,
          0.395,
          0.577,
          0.487,
          0.822,
          0.68,
          0.904,
          0.87,
          0.696,
          0.708,
          0.702,
          null,
          0.508,
          0.398,
          0.52,
          0.854,
          0.442,
          0.349,
          0.589,
          0.669,
          0.934,
          0.768,
          0.874,
          0.34,
          0.727,
          0.646,
          0.885,
          0.819,
          0.679,
          0.636,
          0.845,
          0.438,
          0.477,
          0.628,
          0.528,
          0.526,
          0.48,
          0.944,
          0.555,
          0.617,
          0.837,
          0.146,
          0.873,
          0.748,
          0.324,
          0.752,
          0.54,
          0.655,
          0.785,
          0.625,
          0.638,
          0.37,
          0.816,
          0.768,
          0.874,
          0.672,
          0.668,
          0.577,
          0.483,
          0.954,
          0.42,
          0.55,
          0.923,
          0.639,
          0.544,
          0.834,
          0.702,
          0.77,
          0.543,
          0.718,
          0.687,
          0.946,
          0.736,
          0.776,
          0.553,
          0.649,
          0.896,
          0.692,
          0.96,
          0.802,
          0.727,
          0.577,
          0.692,
          0.863,
          0.733,
          0.732,
          0.625,
          0.731,
          0.643,
          0.341,
          0.55,
          0.639,
          0.671,
          0.597,
          0.861,
          0.516,
          0.742,
          0.487,
          0.923,
          0.679,
          0.507,
          0.819,
          0.896,
          0.783,
          0.692,
          0.521,
          0.615,
          0.804,
          0.902,
          0.553,
          0.817,
          0.717,
          0.846,
          0.756,
          0.53,
          0.911,
          0.766,
          0.707,
          0.84,
          0.701,
          0.81,
          0.576,
          0.435,
          0.836,
          0.399,
          0.71,
          0.622,
          0.698,
          0.775,
          0.633,
          0.55,
          0.914,
          0.744,
          0.8,
          0.666,
          0.67,
          0.729,
          0.635,
          0.435,
          0.702,
          0.873,
          0.625,
          0.393,
          0.514,
          0.752,
          0.443,
          0.808,
          0.395,
          0.67,
          0.951,
          0.575,
          0.76,
          0.747,
          0.698,
          0.898,
          0.727,
          0.815,
          0.644,
          0.864,
          0.65,
          0.923,
          0.926,
          0.655,
          0.741,
          0.696,
          0.236,
          0.765,
          0.431,
          0.528,
          0.808,
          0.894,
          0.587,
          0.829,
          0.85,
          0.649,
          0.899,
          0.455,
          0.52,
          0.766,
          0.641,
          0.617,
          0.807,
          0.411,
          0.357,
          0.742,
          0.586,
          0.64,
          0.758,
          0.816,
          0.556,
          0.475,
          0.425,
          0.411,
          0.789,
          0.436,
          0.949,
          0.464,
          0.83,
          0.194,
          0.639,
          0.836,
          0.751,
          0.939,
          0.973,
          0.964,
          0.641,
          0.871,
          0.725,
          0.641,
          0.746,
          0.594,
          0.289,
          0.718,
          0.543,
          0.898,
          0.366,
          0.635,
          0.958,
          0.507,
          0.553,
          0.697,
          0.709,
          0.898,
          0.945,
          0.666,
          0.806,
          0.411,
          0.919,
          0.763,
          0.797,
          0.738,
          0.497,
          0.579,
          0.852,
          0.443,
          0.459,
          0.449,
          0.494,
          0.714,
          0.449,
          0.916,
          0.783,
          0.957,
          0.897,
          0.868,
          0.664,
          0.413,
          0.585,
          0.496,
          0.627,
          0.783,
          0.991,
          0.886,
          0.477,
          0.566,
          0.502,
          0.815,
          0.716,
          0.723,
          0.937,
          0.586,
          0.886,
          0.79,
          0.898,
          0.445,
          0.819,
          0.622,
          0.484,
          0.775,
          0.774,
          0.62,
          0.624,
          0.691,
          0.837,
          0.897,
          0.969,
          0.767,
          0.728,
          0.746,
          0.943,
          0.836,
          0.969,
          0.532,
          0.369,
          0.405,
          0.414,
          0.703,
          0.492,
          0.3,
          0.774,
          0.553,
          0.747,
          0.678,
          0.662,
          0.296,
          0.56,
          0.837
         ],
         "xaxis": "x",
         "y": [
          100,
          99,
          98,
          97,
          96,
          95,
          94,
          93,
          92,
          91,
          90,
          89,
          88,
          87,
          86,
          85,
          84,
          83,
          82,
          81,
          80,
          79,
          78,
          77,
          76,
          75,
          74,
          73,
          72,
          71,
          70,
          69,
          68,
          67,
          66,
          65,
          64,
          63,
          62,
          61,
          60,
          59,
          58,
          57,
          56,
          55,
          54,
          53,
          52,
          51,
          50,
          49,
          48,
          47,
          46,
          45,
          44,
          43,
          42,
          41,
          40,
          39,
          38,
          37,
          36,
          35,
          34,
          33,
          32,
          31,
          30,
          29,
          28,
          27,
          26,
          25,
          24,
          23,
          22,
          21,
          20,
          19,
          18,
          17,
          16,
          15,
          14,
          13,
          12,
          11,
          10,
          9,
          8,
          7,
          6,
          5,
          4,
          3,
          2,
          1,
          26,
          15,
          14,
          13,
          11,
          9,
          61,
          25,
          26,
          25,
          21,
          17,
          16,
          12,
          11,
          10,
          6,
          74,
          44,
          8,
          5,
          1,
          36,
          32,
          30,
          26,
          24,
          21,
          16,
          27,
          23,
          16,
          10,
          4,
          87,
          34,
          21,
          16,
          12,
          7,
          61,
          24,
          22,
          20,
          15,
          11,
          7,
          3,
          2,
          81,
          18,
          17,
          13,
          71,
          69,
          64,
          51,
          35,
          25,
          23,
          20,
          14,
          9,
          3,
          2,
          81,
          19,
          12,
          11,
          7,
          6,
          5,
          40,
          22,
          13,
          10,
          9,
          4,
          33,
          18,
          15,
          12,
          8,
          7,
          6,
          4,
          3,
          2,
          23,
          19,
          18,
          13,
          10,
          6,
          4,
          70,
          47,
          24,
          19,
          15,
          8,
          2,
          79,
          29,
          20,
          11,
          9,
          4,
          3,
          11,
          10,
          9,
          8,
          4,
          2,
          17,
          14,
          6,
          5,
          3,
          2,
          1,
          21,
          20,
          18,
          16,
          15,
          11,
          5,
          4,
          69,
          26,
          22,
          20,
          14,
          10,
          9,
          31,
          30,
          23,
          20,
          17,
          15,
          32,
          26,
          21,
          20,
          14,
          12,
          26,
          23,
          21,
          6,
          34,
          31,
          23,
          21,
          20,
          17,
          16,
          6,
          4,
          38,
          25,
          21,
          19,
          7,
          5,
          2,
          67,
          40,
          37,
          35,
          27,
          22,
          19,
          4,
          38,
          35,
          30,
          24,
          23,
          22,
          49,
          33,
          24,
          23,
          21,
          6,
          4,
          3,
          2,
          31,
          20,
          18,
          16,
          15,
          23,
          21,
          7,
          4,
          2,
          84,
          38,
          35,
          20,
          19,
          17,
          72,
          30,
          24,
          19,
          9,
          19,
          15,
          6,
          4,
          2,
          38,
          29,
          26,
          20,
          19,
          5,
          46,
          41,
          35,
          20,
          19,
          96,
          38,
          26,
          24,
          22,
          20,
          19,
          17,
          13,
          10,
          39,
          31,
          28,
          25,
          15,
          14,
          6,
          3,
          27,
          22,
          14,
          13,
          2,
          20,
          19,
          17,
          10,
          25,
          20,
          17,
          5,
          45,
          32,
          30,
          26,
          21,
          19,
          17,
          1,
          30,
          28,
          27,
          18,
          16,
          12,
          9,
          7,
          5,
          1,
          41,
          32,
          19,
          18,
          17,
          13,
          43,
          20,
          18,
          17,
          7,
          27,
          22,
          18,
          17,
          3,
          41,
          29,
          27,
          16,
          11,
          9,
          6,
          65,
          30,
          22,
          16,
          10,
          8,
          7,
          2,
          17,
          15,
          12,
          11,
          10,
          7,
          6,
          2,
          47,
          34,
          19,
          11,
          8,
          7,
          55,
          12,
          4,
          3,
          56,
          22,
          18,
          15,
          12,
          5,
          4
         ],
         "yaxis": "y"
        },
        {
         "alignmentgroup": "True",
         "bingroup": "x",
         "hovertemplate": "energy=%{x}<br>count=%{y}<extra></extra>",
         "legendgroup": "",
         "marker": {
          "color": "#636efa"
         },
         "name": "",
         "offsetgroup": "",
         "opacity": 0.5,
         "showlegend": false,
         "type": "histogram",
         "x": [
          0.504,
          0.531,
          0.665,
          0.699,
          0.603,
          0.505,
          0.505,
          0.831,
          0.533,
          0.551,
          0.694,
          0.833,
          0.693,
          0.804,
          0.495,
          0.843,
          0.543,
          0.817,
          0.49,
          0.665,
          0.637,
          0.715,
          0.766,
          0.872,
          0.0744,
          0.609,
          0.741,
          0.434,
          0.534,
          0.837,
          0.483,
          0.616,
          0.476,
          0.818,
          0.544,
          0.562,
          0.898,
          0.679,
          0.402,
          0.469,
          0.413,
          0.582,
          0.561,
          0.676,
          0.667,
          0.369,
          0.663,
          0.554,
          0.782,
          0.896,
          0.415,
          0.872,
          0.601,
          0.373,
          0.406,
          0.44,
          0.901,
          0.917,
          0.701,
          0.388,
          0.815,
          0.49,
          0.72,
          0.39,
          0.425,
          0.919,
          0.651,
          0.47,
          0.461,
          0.579,
          0.949,
          0.596,
          0.62,
          0.871,
          0.556,
          0.504,
          0.535,
          0.544,
          0.776,
          0.503,
          0.643,
          0.662,
          0.94,
          0.735,
          0.784,
          0.527,
          0.643,
          0.803,
          0.808,
          0.822,
          0.431,
          0.357,
          0.905,
          0.324,
          0.26,
          0.17,
          0.418,
          0.534,
          0.464,
          0.376,
          0.679,
          0.587,
          0.619,
          0.453,
          0.784,
          0.638,
          0.73,
          0.299,
          0.346,
          0.565,
          0.873,
          0.522,
          0.846,
          0.805,
          0.481,
          0.773,
          0.461,
          0.71,
          0.574,
          0.786,
          0.729,
          0.537,
          0.831,
          0.53,
          0.773,
          0.375,
          0.831,
          0.674,
          0.756,
          0.464,
          0.75,
          0.745,
          0.749,
          0.905,
          0.327,
          0.675,
          0.616,
          0.936,
          0.395,
          0.577,
          0.487,
          0.822,
          0.68,
          0.904,
          0.87,
          0.696,
          0.708,
          0.702,
          null,
          0.508,
          0.398,
          0.52,
          0.854,
          0.442,
          0.349,
          0.589,
          0.669,
          0.934,
          0.768,
          0.874,
          0.34,
          0.727,
          0.646,
          0.885,
          0.819,
          0.679,
          0.636,
          0.845,
          0.438,
          0.477,
          0.628,
          0.528,
          0.526,
          0.48,
          0.944,
          0.555,
          0.617,
          0.837,
          0.146,
          0.873,
          0.748,
          0.324,
          0.752,
          0.54,
          0.655,
          0.785,
          0.625,
          0.638,
          0.37,
          0.816,
          0.768,
          0.874,
          0.672,
          0.668,
          0.577,
          0.483,
          0.954,
          0.42,
          0.55,
          0.923,
          0.639,
          0.544,
          0.834,
          0.702,
          0.77,
          0.543,
          0.718,
          0.687,
          0.946,
          0.736,
          0.776,
          0.553,
          0.649,
          0.896,
          0.692,
          0.96,
          0.802,
          0.727,
          0.577,
          0.692,
          0.863,
          0.733,
          0.732,
          0.625,
          0.731,
          0.643,
          0.341,
          0.55,
          0.639,
          0.671,
          0.597,
          0.861,
          0.516,
          0.742,
          0.487,
          0.923,
          0.679,
          0.507,
          0.819,
          0.896,
          0.783,
          0.692,
          0.521,
          0.615,
          0.804,
          0.902,
          0.553,
          0.817,
          0.717,
          0.846,
          0.756,
          0.53,
          0.911,
          0.766,
          0.707,
          0.84,
          0.701,
          0.81,
          0.576,
          0.435,
          0.836,
          0.399,
          0.71,
          0.622,
          0.698,
          0.775,
          0.633,
          0.55,
          0.914,
          0.744,
          0.8,
          0.666,
          0.67,
          0.729,
          0.635,
          0.435,
          0.702,
          0.873,
          0.625,
          0.393,
          0.514,
          0.752,
          0.443,
          0.808,
          0.395,
          0.67,
          0.951,
          0.575,
          0.76,
          0.747,
          0.698,
          0.898,
          0.727,
          0.815,
          0.644,
          0.864,
          0.65,
          0.923,
          0.926,
          0.655,
          0.741,
          0.696,
          0.236,
          0.765,
          0.431,
          0.528,
          0.808,
          0.894,
          0.587,
          0.829,
          0.85,
          0.649,
          0.899,
          0.455,
          0.52,
          0.766,
          0.641,
          0.617,
          0.807,
          0.411,
          0.357,
          0.742,
          0.586,
          0.64,
          0.758,
          0.816,
          0.556,
          0.475,
          0.425,
          0.411,
          0.789,
          0.436,
          0.949,
          0.464,
          0.83,
          0.194,
          0.639,
          0.836,
          0.751,
          0.939,
          0.973,
          0.964,
          0.641,
          0.871,
          0.725,
          0.641,
          0.746,
          0.594,
          0.289,
          0.718,
          0.543,
          0.898,
          0.366,
          0.635,
          0.958,
          0.507,
          0.553,
          0.697,
          0.709,
          0.898,
          0.945,
          0.666,
          0.806,
          0.411,
          0.919,
          0.763,
          0.797,
          0.738,
          0.497,
          0.579,
          0.852,
          0.443,
          0.459,
          0.449,
          0.494,
          0.714,
          0.449,
          0.916,
          0.783,
          0.957,
          0.897,
          0.868,
          0.664,
          0.413,
          0.585,
          0.496,
          0.627,
          0.783,
          0.991,
          0.886,
          0.477,
          0.566,
          0.502,
          0.815,
          0.716,
          0.723,
          0.937,
          0.586,
          0.886,
          0.79,
          0.898,
          0.445,
          0.819,
          0.622,
          0.484,
          0.775,
          0.774,
          0.62,
          0.624,
          0.691,
          0.837,
          0.897,
          0.969,
          0.767,
          0.728,
          0.746,
          0.943,
          0.836,
          0.969,
          0.532,
          0.369,
          0.405,
          0.414,
          0.703,
          0.492,
          0.3,
          0.774,
          0.553,
          0.747,
          0.678,
          0.662,
          0.296,
          0.56,
          0.837
         ],
         "xaxis": "x3",
         "yaxis": "y3"
        },
        {
         "alignmentgroup": "True",
         "hovertemplate": "bill_popularity=%{y}<extra></extra>",
         "legendgroup": "",
         "marker": {
          "color": "#636efa",
          "symbol": "circle"
         },
         "name": "",
         "offsetgroup": "",
         "scalegroup": "y",
         "showlegend": false,
         "type": "violin",
         "xaxis": "x2",
         "y": [
          100,
          99,
          98,
          97,
          96,
          95,
          94,
          93,
          92,
          91,
          90,
          89,
          88,
          87,
          86,
          85,
          84,
          83,
          82,
          81,
          80,
          79,
          78,
          77,
          76,
          75,
          74,
          73,
          72,
          71,
          70,
          69,
          68,
          67,
          66,
          65,
          64,
          63,
          62,
          61,
          60,
          59,
          58,
          57,
          56,
          55,
          54,
          53,
          52,
          51,
          50,
          49,
          48,
          47,
          46,
          45,
          44,
          43,
          42,
          41,
          40,
          39,
          38,
          37,
          36,
          35,
          34,
          33,
          32,
          31,
          30,
          29,
          28,
          27,
          26,
          25,
          24,
          23,
          22,
          21,
          20,
          19,
          18,
          17,
          16,
          15,
          14,
          13,
          12,
          11,
          10,
          9,
          8,
          7,
          6,
          5,
          4,
          3,
          2,
          1,
          26,
          15,
          14,
          13,
          11,
          9,
          61,
          25,
          26,
          25,
          21,
          17,
          16,
          12,
          11,
          10,
          6,
          74,
          44,
          8,
          5,
          1,
          36,
          32,
          30,
          26,
          24,
          21,
          16,
          27,
          23,
          16,
          10,
          4,
          87,
          34,
          21,
          16,
          12,
          7,
          61,
          24,
          22,
          20,
          15,
          11,
          7,
          3,
          2,
          81,
          18,
          17,
          13,
          71,
          69,
          64,
          51,
          35,
          25,
          23,
          20,
          14,
          9,
          3,
          2,
          81,
          19,
          12,
          11,
          7,
          6,
          5,
          40,
          22,
          13,
          10,
          9,
          4,
          33,
          18,
          15,
          12,
          8,
          7,
          6,
          4,
          3,
          2,
          23,
          19,
          18,
          13,
          10,
          6,
          4,
          70,
          47,
          24,
          19,
          15,
          8,
          2,
          79,
          29,
          20,
          11,
          9,
          4,
          3,
          11,
          10,
          9,
          8,
          4,
          2,
          17,
          14,
          6,
          5,
          3,
          2,
          1,
          21,
          20,
          18,
          16,
          15,
          11,
          5,
          4,
          69,
          26,
          22,
          20,
          14,
          10,
          9,
          31,
          30,
          23,
          20,
          17,
          15,
          32,
          26,
          21,
          20,
          14,
          12,
          26,
          23,
          21,
          6,
          34,
          31,
          23,
          21,
          20,
          17,
          16,
          6,
          4,
          38,
          25,
          21,
          19,
          7,
          5,
          2,
          67,
          40,
          37,
          35,
          27,
          22,
          19,
          4,
          38,
          35,
          30,
          24,
          23,
          22,
          49,
          33,
          24,
          23,
          21,
          6,
          4,
          3,
          2,
          31,
          20,
          18,
          16,
          15,
          23,
          21,
          7,
          4,
          2,
          84,
          38,
          35,
          20,
          19,
          17,
          72,
          30,
          24,
          19,
          9,
          19,
          15,
          6,
          4,
          2,
          38,
          29,
          26,
          20,
          19,
          5,
          46,
          41,
          35,
          20,
          19,
          96,
          38,
          26,
          24,
          22,
          20,
          19,
          17,
          13,
          10,
          39,
          31,
          28,
          25,
          15,
          14,
          6,
          3,
          27,
          22,
          14,
          13,
          2,
          20,
          19,
          17,
          10,
          25,
          20,
          17,
          5,
          45,
          32,
          30,
          26,
          21,
          19,
          17,
          1,
          30,
          28,
          27,
          18,
          16,
          12,
          9,
          7,
          5,
          1,
          41,
          32,
          19,
          18,
          17,
          13,
          43,
          20,
          18,
          17,
          7,
          27,
          22,
          18,
          17,
          3,
          41,
          29,
          27,
          16,
          11,
          9,
          6,
          65,
          30,
          22,
          16,
          10,
          8,
          7,
          2,
          17,
          15,
          12,
          11,
          10,
          7,
          6,
          2,
          47,
          34,
          19,
          11,
          8,
          7,
          55,
          12,
          4,
          3,
          56,
          22,
          18,
          15,
          12,
          5,
          4
         ],
         "yaxis": "y2"
        }
       ],
       "layout": {
        "barmode": "overlay",
        "legend": {
         "tracegroupgap": 0
        },
        "margin": {
         "t": 60
        },
        "template": {
         "data": {
          "bar": [
           {
            "error_x": {
             "color": "#2a3f5f"
            },
            "error_y": {
             "color": "#2a3f5f"
            },
            "marker": {
             "line": {
              "color": "#E5ECF6",
              "width": 0.5
             },
             "pattern": {
              "fillmode": "overlay",
              "size": 10,
              "solidity": 0.2
             }
            },
            "type": "bar"
           }
          ],
          "barpolar": [
           {
            "marker": {
             "line": {
              "color": "#E5ECF6",
              "width": 0.5
             },
             "pattern": {
              "fillmode": "overlay",
              "size": 10,
              "solidity": 0.2
             }
            },
            "type": "barpolar"
           }
          ],
          "carpet": [
           {
            "aaxis": {
             "endlinecolor": "#2a3f5f",
             "gridcolor": "white",
             "linecolor": "white",
             "minorgridcolor": "white",
             "startlinecolor": "#2a3f5f"
            },
            "baxis": {
             "endlinecolor": "#2a3f5f",
             "gridcolor": "white",
             "linecolor": "white",
             "minorgridcolor": "white",
             "startlinecolor": "#2a3f5f"
            },
            "type": "carpet"
           }
          ],
          "choropleth": [
           {
            "colorbar": {
             "outlinewidth": 0,
             "ticks": ""
            },
            "type": "choropleth"
           }
          ],
          "contour": [
           {
            "colorbar": {
             "outlinewidth": 0,
             "ticks": ""
            },
            "colorscale": [
             [
              0,
              "#0d0887"
             ],
             [
              0.1111111111111111,
              "#46039f"
             ],
             [
              0.2222222222222222,
              "#7201a8"
             ],
             [
              0.3333333333333333,
              "#9c179e"
             ],
             [
              0.4444444444444444,
              "#bd3786"
             ],
             [
              0.5555555555555556,
              "#d8576b"
             ],
             [
              0.6666666666666666,
              "#ed7953"
             ],
             [
              0.7777777777777778,
              "#fb9f3a"
             ],
             [
              0.8888888888888888,
              "#fdca26"
             ],
             [
              1,
              "#f0f921"
             ]
            ],
            "type": "contour"
           }
          ],
          "contourcarpet": [
           {
            "colorbar": {
             "outlinewidth": 0,
             "ticks": ""
            },
            "type": "contourcarpet"
           }
          ],
          "heatmap": [
           {
            "colorbar": {
             "outlinewidth": 0,
             "ticks": ""
            },
            "colorscale": [
             [
              0,
              "#0d0887"
             ],
             [
              0.1111111111111111,
              "#46039f"
             ],
             [
              0.2222222222222222,
              "#7201a8"
             ],
             [
              0.3333333333333333,
              "#9c179e"
             ],
             [
              0.4444444444444444,
              "#bd3786"
             ],
             [
              0.5555555555555556,
              "#d8576b"
             ],
             [
              0.6666666666666666,
              "#ed7953"
             ],
             [
              0.7777777777777778,
              "#fb9f3a"
             ],
             [
              0.8888888888888888,
              "#fdca26"
             ],
             [
              1,
              "#f0f921"
             ]
            ],
            "type": "heatmap"
           }
          ],
          "heatmapgl": [
           {
            "colorbar": {
             "outlinewidth": 0,
             "ticks": ""
            },
            "colorscale": [
             [
              0,
              "#0d0887"
             ],
             [
              0.1111111111111111,
              "#46039f"
             ],
             [
              0.2222222222222222,
              "#7201a8"
             ],
             [
              0.3333333333333333,
              "#9c179e"
             ],
             [
              0.4444444444444444,
              "#bd3786"
             ],
             [
              0.5555555555555556,
              "#d8576b"
             ],
             [
              0.6666666666666666,
              "#ed7953"
             ],
             [
              0.7777777777777778,
              "#fb9f3a"
             ],
             [
              0.8888888888888888,
              "#fdca26"
             ],
             [
              1,
              "#f0f921"
             ]
            ],
            "type": "heatmapgl"
           }
          ],
          "histogram": [
           {
            "marker": {
             "pattern": {
              "fillmode": "overlay",
              "size": 10,
              "solidity": 0.2
             }
            },
            "type": "histogram"
           }
          ],
          "histogram2d": [
           {
            "colorbar": {
             "outlinewidth": 0,
             "ticks": ""
            },
            "colorscale": [
             [
              0,
              "#0d0887"
             ],
             [
              0.1111111111111111,
              "#46039f"
             ],
             [
              0.2222222222222222,
              "#7201a8"
             ],
             [
              0.3333333333333333,
              "#9c179e"
             ],
             [
              0.4444444444444444,
              "#bd3786"
             ],
             [
              0.5555555555555556,
              "#d8576b"
             ],
             [
              0.6666666666666666,
              "#ed7953"
             ],
             [
              0.7777777777777778,
              "#fb9f3a"
             ],
             [
              0.8888888888888888,
              "#fdca26"
             ],
             [
              1,
              "#f0f921"
             ]
            ],
            "type": "histogram2d"
           }
          ],
          "histogram2dcontour": [
           {
            "colorbar": {
             "outlinewidth": 0,
             "ticks": ""
            },
            "colorscale": [
             [
              0,
              "#0d0887"
             ],
             [
              0.1111111111111111,
              "#46039f"
             ],
             [
              0.2222222222222222,
              "#7201a8"
             ],
             [
              0.3333333333333333,
              "#9c179e"
             ],
             [
              0.4444444444444444,
              "#bd3786"
             ],
             [
              0.5555555555555556,
              "#d8576b"
             ],
             [
              0.6666666666666666,
              "#ed7953"
             ],
             [
              0.7777777777777778,
              "#fb9f3a"
             ],
             [
              0.8888888888888888,
              "#fdca26"
             ],
             [
              1,
              "#f0f921"
             ]
            ],
            "type": "histogram2dcontour"
           }
          ],
          "mesh3d": [
           {
            "colorbar": {
             "outlinewidth": 0,
             "ticks": ""
            },
            "type": "mesh3d"
           }
          ],
          "parcoords": [
           {
            "line": {
             "colorbar": {
              "outlinewidth": 0,
              "ticks": ""
             }
            },
            "type": "parcoords"
           }
          ],
          "pie": [
           {
            "automargin": true,
            "type": "pie"
           }
          ],
          "scatter": [
           {
            "marker": {
             "colorbar": {
              "outlinewidth": 0,
              "ticks": ""
             }
            },
            "type": "scatter"
           }
          ],
          "scatter3d": [
           {
            "line": {
             "colorbar": {
              "outlinewidth": 0,
              "ticks": ""
             }
            },
            "marker": {
             "colorbar": {
              "outlinewidth": 0,
              "ticks": ""
             }
            },
            "type": "scatter3d"
           }
          ],
          "scattercarpet": [
           {
            "marker": {
             "colorbar": {
              "outlinewidth": 0,
              "ticks": ""
             }
            },
            "type": "scattercarpet"
           }
          ],
          "scattergeo": [
           {
            "marker": {
             "colorbar": {
              "outlinewidth": 0,
              "ticks": ""
             }
            },
            "type": "scattergeo"
           }
          ],
          "scattergl": [
           {
            "marker": {
             "colorbar": {
              "outlinewidth": 0,
              "ticks": ""
             }
            },
            "type": "scattergl"
           }
          ],
          "scattermapbox": [
           {
            "marker": {
             "colorbar": {
              "outlinewidth": 0,
              "ticks": ""
             }
            },
            "type": "scattermapbox"
           }
          ],
          "scatterpolar": [
           {
            "marker": {
             "colorbar": {
              "outlinewidth": 0,
              "ticks": ""
             }
            },
            "type": "scatterpolar"
           }
          ],
          "scatterpolargl": [
           {
            "marker": {
             "colorbar": {
              "outlinewidth": 0,
              "ticks": ""
             }
            },
            "type": "scatterpolargl"
           }
          ],
          "scatterternary": [
           {
            "marker": {
             "colorbar": {
              "outlinewidth": 0,
              "ticks": ""
             }
            },
            "type": "scatterternary"
           }
          ],
          "surface": [
           {
            "colorbar": {
             "outlinewidth": 0,
             "ticks": ""
            },
            "colorscale": [
             [
              0,
              "#0d0887"
             ],
             [
              0.1111111111111111,
              "#46039f"
             ],
             [
              0.2222222222222222,
              "#7201a8"
             ],
             [
              0.3333333333333333,
              "#9c179e"
             ],
             [
              0.4444444444444444,
              "#bd3786"
             ],
             [
              0.5555555555555556,
              "#d8576b"
             ],
             [
              0.6666666666666666,
              "#ed7953"
             ],
             [
              0.7777777777777778,
              "#fb9f3a"
             ],
             [
              0.8888888888888888,
              "#fdca26"
             ],
             [
              1,
              "#f0f921"
             ]
            ],
            "type": "surface"
           }
          ],
          "table": [
           {
            "cells": {
             "fill": {
              "color": "#EBF0F8"
             },
             "line": {
              "color": "white"
             }
            },
            "header": {
             "fill": {
              "color": "#C8D4E3"
             },
             "line": {
              "color": "white"
             }
            },
            "type": "table"
           }
          ]
         },
         "layout": {
          "annotationdefaults": {
           "arrowcolor": "#2a3f5f",
           "arrowhead": 0,
           "arrowwidth": 1
          },
          "autotypenumbers": "strict",
          "coloraxis": {
           "colorbar": {
            "outlinewidth": 0,
            "ticks": ""
           }
          },
          "colorscale": {
           "diverging": [
            [
             0,
             "#8e0152"
            ],
            [
             0.1,
             "#c51b7d"
            ],
            [
             0.2,
             "#de77ae"
            ],
            [
             0.3,
             "#f1b6da"
            ],
            [
             0.4,
             "#fde0ef"
            ],
            [
             0.5,
             "#f7f7f7"
            ],
            [
             0.6,
             "#e6f5d0"
            ],
            [
             0.7,
             "#b8e186"
            ],
            [
             0.8,
             "#7fbc41"
            ],
            [
             0.9,
             "#4d9221"
            ],
            [
             1,
             "#276419"
            ]
           ],
           "sequential": [
            [
             0,
             "#0d0887"
            ],
            [
             0.1111111111111111,
             "#46039f"
            ],
            [
             0.2222222222222222,
             "#7201a8"
            ],
            [
             0.3333333333333333,
             "#9c179e"
            ],
            [
             0.4444444444444444,
             "#bd3786"
            ],
            [
             0.5555555555555556,
             "#d8576b"
            ],
            [
             0.6666666666666666,
             "#ed7953"
            ],
            [
             0.7777777777777778,
             "#fb9f3a"
            ],
            [
             0.8888888888888888,
             "#fdca26"
            ],
            [
             1,
             "#f0f921"
            ]
           ],
           "sequentialminus": [
            [
             0,
             "#0d0887"
            ],
            [
             0.1111111111111111,
             "#46039f"
            ],
            [
             0.2222222222222222,
             "#7201a8"
            ],
            [
             0.3333333333333333,
             "#9c179e"
            ],
            [
             0.4444444444444444,
             "#bd3786"
            ],
            [
             0.5555555555555556,
             "#d8576b"
            ],
            [
             0.6666666666666666,
             "#ed7953"
            ],
            [
             0.7777777777777778,
             "#fb9f3a"
            ],
            [
             0.8888888888888888,
             "#fdca26"
            ],
            [
             1,
             "#f0f921"
            ]
           ]
          },
          "colorway": [
           "#636efa",
           "#EF553B",
           "#00cc96",
           "#ab63fa",
           "#FFA15A",
           "#19d3f3",
           "#FF6692",
           "#B6E880",
           "#FF97FF",
           "#FECB52"
          ],
          "font": {
           "color": "#2a3f5f"
          },
          "geo": {
           "bgcolor": "white",
           "lakecolor": "white",
           "landcolor": "#E5ECF6",
           "showlakes": true,
           "showland": true,
           "subunitcolor": "white"
          },
          "hoverlabel": {
           "align": "left"
          },
          "hovermode": "closest",
          "mapbox": {
           "style": "light"
          },
          "paper_bgcolor": "white",
          "plot_bgcolor": "#E5ECF6",
          "polar": {
           "angularaxis": {
            "gridcolor": "white",
            "linecolor": "white",
            "ticks": ""
           },
           "bgcolor": "#E5ECF6",
           "radialaxis": {
            "gridcolor": "white",
            "linecolor": "white",
            "ticks": ""
           }
          },
          "scene": {
           "xaxis": {
            "backgroundcolor": "#E5ECF6",
            "gridcolor": "white",
            "gridwidth": 2,
            "linecolor": "white",
            "showbackground": true,
            "ticks": "",
            "zerolinecolor": "white"
           },
           "yaxis": {
            "backgroundcolor": "#E5ECF6",
            "gridcolor": "white",
            "gridwidth": 2,
            "linecolor": "white",
            "showbackground": true,
            "ticks": "",
            "zerolinecolor": "white"
           },
           "zaxis": {
            "backgroundcolor": "#E5ECF6",
            "gridcolor": "white",
            "gridwidth": 2,
            "linecolor": "white",
            "showbackground": true,
            "ticks": "",
            "zerolinecolor": "white"
           }
          },
          "shapedefaults": {
           "line": {
            "color": "#2a3f5f"
           }
          },
          "ternary": {
           "aaxis": {
            "gridcolor": "white",
            "linecolor": "white",
            "ticks": ""
           },
           "baxis": {
            "gridcolor": "white",
            "linecolor": "white",
            "ticks": ""
           },
           "bgcolor": "#E5ECF6",
           "caxis": {
            "gridcolor": "white",
            "linecolor": "white",
            "ticks": ""
           }
          },
          "title": {
           "x": 0.05
          },
          "xaxis": {
           "automargin": true,
           "gridcolor": "white",
           "linecolor": "white",
           "ticks": "",
           "title": {
            "standoff": 15
           },
           "zerolinecolor": "white",
           "zerolinewidth": 2
          },
          "yaxis": {
           "automargin": true,
           "gridcolor": "white",
           "linecolor": "white",
           "ticks": "",
           "title": {
            "standoff": 15
           },
           "zerolinecolor": "white",
           "zerolinewidth": 2
          }
         }
        },
        "xaxis": {
         "anchor": "y",
         "domain": [
          0,
          0.8358
         ],
         "title": {
          "text": "energy"
         }
        },
        "xaxis2": {
         "anchor": "y2",
         "domain": [
          0.8408,
          1
         ],
         "matches": "x2",
         "showgrid": false,
         "showline": false,
         "showticklabels": false,
         "ticks": ""
        },
        "xaxis3": {
         "anchor": "y3",
         "domain": [
          0,
          0.8358
         ],
         "matches": "x",
         "showgrid": true,
         "showticklabels": false
        },
        "xaxis4": {
         "anchor": "y4",
         "domain": [
          0.8408,
          1
         ],
         "matches": "x2",
         "showgrid": false,
         "showline": false,
         "showticklabels": false,
         "ticks": ""
        },
        "yaxis": {
         "anchor": "x",
         "domain": [
          0,
          0.7326
         ],
         "title": {
          "text": "bill_popularity"
         }
        },
        "yaxis2": {
         "anchor": "x2",
         "domain": [
          0,
          0.7326
         ],
         "matches": "y",
         "showgrid": true,
         "showticklabels": false
        },
        "yaxis3": {
         "anchor": "x3",
         "domain": [
          0.7426,
          1
         ],
         "matches": "y3",
         "showgrid": true,
         "showline": false,
         "showticklabels": false,
         "ticks": ""
        },
        "yaxis4": {
         "anchor": "x4",
         "domain": [
          0.7426,
          1
         ],
         "matches": "y3",
         "showgrid": true,
         "showline": false,
         "showticklabels": false,
         "ticks": ""
        }
       }
      }
     },
     "metadata": {},
     "output_type": "display_data"
    }
   ],
   "source": [
    "fig = px.scatter(df_99, x='energy', y='bill_popularity', marginal_x='histogram', marginal_y='violin')\n",
    "fig.show()"
   ]
  },
  {
   "cell_type": "code",
   "execution_count": 60,
   "metadata": {},
   "outputs": [],
   "source": [
    "df_99_full =  sample_year.merge(attributes, \"left\", on=[\"SongID\"])"
   ]
  },
  {
   "cell_type": "code",
   "execution_count": 71,
   "metadata": {},
   "outputs": [],
   "source": [
    "df_interval_attr = df_99_full.loc[:, [\"SongID\", \"danceability\", \"energy\", \"liveness\", \"acousticness\", \"instrumentalness\", \"loudness\", \"explicit\", \"tempo\", \"duration\",\"valence\", \"popularity\", \"bill_popularity\"]].drop_duplicates(subset=[\"SongID\"])"
   ]
  },
  {
   "cell_type": "code",
   "execution_count": 72,
   "metadata": {},
   "outputs": [
    {
     "data": {
      "application/vnd.plotly.v1+json": {
       "config": {
        "plotlyServerURL": "https://plot.ly"
       },
       "data": [
        {
         "coloraxis": "coloraxis",
         "hovertemplate": "x: %{x}<br>y: %{y}<br>color: %{z}<extra></extra>",
         "name": "0",
         "type": "heatmap",
         "x": [
          "danceability",
          "energy",
          "liveness",
          "acousticness",
          "instrumentalness",
          "loudness",
          "explicit",
          "tempo",
          "duration",
          "valence",
          "popularity",
          "bill_popularity"
         ],
         "xaxis": "x",
         "y": [
          "danceability",
          "energy",
          "liveness",
          "acousticness",
          "instrumentalness",
          "loudness",
          "explicit",
          "tempo",
          "duration",
          "valence",
          "popularity",
          "bill_popularity"
         ],
         "yaxis": "y",
         "z": [
          [
           1,
           0.09520655074719091,
           -0.07597966333496667,
           -0.22600100334953582,
           -0.09296584865570838,
           0.14878396713430908,
           0.3868222994286723,
           -0.2243160697502584,
           0.08672765634217496,
           0.45436817669452845,
           0.009145194783711705,
           -0.04420071185694323
          ],
          [
           0.09520655074719091,
           1,
           0.1481800447072589,
           -0.5104110065409743,
           -0.04477811393588449,
           0.6763258010738185,
           0.1267839394811368,
           0.14251500855863306,
           -0.21589248649792964,
           0.5100117336571648,
           0.20699369522190372,
           -0.10729651560644018
          ],
          [
           -0.07597966333496667,
           0.1481800447072589,
           1,
           0.005521401287747817,
           -0.05137039189923537,
           0.06512854804803431,
           0.036437469565572304,
           0.0014737695909186588,
           -0.007771529365860821,
           0.03279505519190113,
           0.10848636252930584,
           0.015900347590850968
          ],
          [
           -0.22600100334953582,
           -0.5104110065409743,
           0.005521401287747817,
           1,
           -0.0957351068182728,
           -0.4295533077800555,
           -0.18004145293429322,
           0.015481552132612387,
           0.07807681018012089,
           -0.30584501503991035,
           -0.09790877341909379,
           0.045301332089607134
          ],
          [
           -0.09296584865570838,
           -0.04477811393588449,
           -0.05137039189923537,
           -0.0957351068182728,
           1,
           -0.08493655606799254,
           -0.05072109236076609,
           -0.03385225142076836,
           0.018951940949958192,
           -0.034602219045028214,
           -0.014417497455282573,
           -0.01922654215007358
          ],
          [
           0.14878396713430908,
           0.6763258010738185,
           0.06512854804803431,
           -0.4295533077800555,
           -0.08493655606799254,
           1,
           0.11569112349731435,
           0.039835369408378306,
           -0.12919063154057414,
           0.30489038966688753,
           0.11635020937050054,
           -0.07573567937263091
          ],
          [
           0.3868222994286723,
           0.1267839394811368,
           0.036437469565572304,
           -0.18004145293429322,
           -0.05072109236076609,
           0.11569112349731435,
           1,
           -0.16507828944928862,
           0.056181059349116366,
           0.15466528289983128,
           0.12389625054057708,
           -0.06677088542664937
          ],
          [
           -0.2243160697502584,
           0.14251500855863306,
           0.0014737695909186588,
           0.015481552132612387,
           -0.03385225142076836,
           0.039835369408378306,
           -0.16507828944928862,
           1,
           -0.1541146295478582,
           0.05673725449850443,
           0.003020275834633602,
           0.029282669250700038
          ],
          [
           0.08672765634217496,
           -0.21589248649792964,
           -0.007771529365860821,
           0.07807681018012089,
           0.018951940949958192,
           -0.12919063154057414,
           0.056181059349116366,
           -0.1541146295478582,
           1,
           -0.25990619365835466,
           0.0629769417013756,
           0.11001357817196229
          ],
          [
           0.45436817669452845,
           0.5100117336571648,
           0.03279505519190113,
           -0.30584501503991035,
           -0.034602219045028214,
           0.30489038966688753,
           0.15466528289983128,
           0.05673725449850443,
           -0.25990619365835466,
           1,
           0.11735369862925167,
           -0.12225187152760437
          ],
          [
           0.009145194783711705,
           0.20699369522190372,
           0.10848636252930584,
           -0.09790877341909379,
           -0.014417497455282573,
           0.11635020937050054,
           0.12389625054057708,
           0.003020275834633602,
           0.0629769417013756,
           0.11735369862925167,
           1,
           0.2042223884787411
          ],
          [
           -0.04420071185694323,
           -0.10729651560644018,
           0.015900347590850968,
           0.045301332089607134,
           -0.01922654215007358,
           -0.07573567937263091,
           -0.06677088542664937,
           0.029282669250700038,
           0.11001357817196229,
           -0.12225187152760437,
           0.2042223884787411,
           1
          ]
         ]
        }
       ],
       "layout": {
        "coloraxis": {
         "colorscale": [
          [
           0,
           "#0d0887"
          ],
          [
           0.1111111111111111,
           "#46039f"
          ],
          [
           0.2222222222222222,
           "#7201a8"
          ],
          [
           0.3333333333333333,
           "#9c179e"
          ],
          [
           0.4444444444444444,
           "#bd3786"
          ],
          [
           0.5555555555555556,
           "#d8576b"
          ],
          [
           0.6666666666666666,
           "#ed7953"
          ],
          [
           0.7777777777777778,
           "#fb9f3a"
          ],
          [
           0.8888888888888888,
           "#fdca26"
          ],
          [
           1,
           "#f0f921"
          ]
         ]
        },
        "margin": {
         "t": 60
        },
        "template": {
         "data": {
          "bar": [
           {
            "error_x": {
             "color": "#2a3f5f"
            },
            "error_y": {
             "color": "#2a3f5f"
            },
            "marker": {
             "line": {
              "color": "#E5ECF6",
              "width": 0.5
             },
             "pattern": {
              "fillmode": "overlay",
              "size": 10,
              "solidity": 0.2
             }
            },
            "type": "bar"
           }
          ],
          "barpolar": [
           {
            "marker": {
             "line": {
              "color": "#E5ECF6",
              "width": 0.5
             },
             "pattern": {
              "fillmode": "overlay",
              "size": 10,
              "solidity": 0.2
             }
            },
            "type": "barpolar"
           }
          ],
          "carpet": [
           {
            "aaxis": {
             "endlinecolor": "#2a3f5f",
             "gridcolor": "white",
             "linecolor": "white",
             "minorgridcolor": "white",
             "startlinecolor": "#2a3f5f"
            },
            "baxis": {
             "endlinecolor": "#2a3f5f",
             "gridcolor": "white",
             "linecolor": "white",
             "minorgridcolor": "white",
             "startlinecolor": "#2a3f5f"
            },
            "type": "carpet"
           }
          ],
          "choropleth": [
           {
            "colorbar": {
             "outlinewidth": 0,
             "ticks": ""
            },
            "type": "choropleth"
           }
          ],
          "contour": [
           {
            "colorbar": {
             "outlinewidth": 0,
             "ticks": ""
            },
            "colorscale": [
             [
              0,
              "#0d0887"
             ],
             [
              0.1111111111111111,
              "#46039f"
             ],
             [
              0.2222222222222222,
              "#7201a8"
             ],
             [
              0.3333333333333333,
              "#9c179e"
             ],
             [
              0.4444444444444444,
              "#bd3786"
             ],
             [
              0.5555555555555556,
              "#d8576b"
             ],
             [
              0.6666666666666666,
              "#ed7953"
             ],
             [
              0.7777777777777778,
              "#fb9f3a"
             ],
             [
              0.8888888888888888,
              "#fdca26"
             ],
             [
              1,
              "#f0f921"
             ]
            ],
            "type": "contour"
           }
          ],
          "contourcarpet": [
           {
            "colorbar": {
             "outlinewidth": 0,
             "ticks": ""
            },
            "type": "contourcarpet"
           }
          ],
          "heatmap": [
           {
            "colorbar": {
             "outlinewidth": 0,
             "ticks": ""
            },
            "colorscale": [
             [
              0,
              "#0d0887"
             ],
             [
              0.1111111111111111,
              "#46039f"
             ],
             [
              0.2222222222222222,
              "#7201a8"
             ],
             [
              0.3333333333333333,
              "#9c179e"
             ],
             [
              0.4444444444444444,
              "#bd3786"
             ],
             [
              0.5555555555555556,
              "#d8576b"
             ],
             [
              0.6666666666666666,
              "#ed7953"
             ],
             [
              0.7777777777777778,
              "#fb9f3a"
             ],
             [
              0.8888888888888888,
              "#fdca26"
             ],
             [
              1,
              "#f0f921"
             ]
            ],
            "type": "heatmap"
           }
          ],
          "heatmapgl": [
           {
            "colorbar": {
             "outlinewidth": 0,
             "ticks": ""
            },
            "colorscale": [
             [
              0,
              "#0d0887"
             ],
             [
              0.1111111111111111,
              "#46039f"
             ],
             [
              0.2222222222222222,
              "#7201a8"
             ],
             [
              0.3333333333333333,
              "#9c179e"
             ],
             [
              0.4444444444444444,
              "#bd3786"
             ],
             [
              0.5555555555555556,
              "#d8576b"
             ],
             [
              0.6666666666666666,
              "#ed7953"
             ],
             [
              0.7777777777777778,
              "#fb9f3a"
             ],
             [
              0.8888888888888888,
              "#fdca26"
             ],
             [
              1,
              "#f0f921"
             ]
            ],
            "type": "heatmapgl"
           }
          ],
          "histogram": [
           {
            "marker": {
             "pattern": {
              "fillmode": "overlay",
              "size": 10,
              "solidity": 0.2
             }
            },
            "type": "histogram"
           }
          ],
          "histogram2d": [
           {
            "colorbar": {
             "outlinewidth": 0,
             "ticks": ""
            },
            "colorscale": [
             [
              0,
              "#0d0887"
             ],
             [
              0.1111111111111111,
              "#46039f"
             ],
             [
              0.2222222222222222,
              "#7201a8"
             ],
             [
              0.3333333333333333,
              "#9c179e"
             ],
             [
              0.4444444444444444,
              "#bd3786"
             ],
             [
              0.5555555555555556,
              "#d8576b"
             ],
             [
              0.6666666666666666,
              "#ed7953"
             ],
             [
              0.7777777777777778,
              "#fb9f3a"
             ],
             [
              0.8888888888888888,
              "#fdca26"
             ],
             [
              1,
              "#f0f921"
             ]
            ],
            "type": "histogram2d"
           }
          ],
          "histogram2dcontour": [
           {
            "colorbar": {
             "outlinewidth": 0,
             "ticks": ""
            },
            "colorscale": [
             [
              0,
              "#0d0887"
             ],
             [
              0.1111111111111111,
              "#46039f"
             ],
             [
              0.2222222222222222,
              "#7201a8"
             ],
             [
              0.3333333333333333,
              "#9c179e"
             ],
             [
              0.4444444444444444,
              "#bd3786"
             ],
             [
              0.5555555555555556,
              "#d8576b"
             ],
             [
              0.6666666666666666,
              "#ed7953"
             ],
             [
              0.7777777777777778,
              "#fb9f3a"
             ],
             [
              0.8888888888888888,
              "#fdca26"
             ],
             [
              1,
              "#f0f921"
             ]
            ],
            "type": "histogram2dcontour"
           }
          ],
          "mesh3d": [
           {
            "colorbar": {
             "outlinewidth": 0,
             "ticks": ""
            },
            "type": "mesh3d"
           }
          ],
          "parcoords": [
           {
            "line": {
             "colorbar": {
              "outlinewidth": 0,
              "ticks": ""
             }
            },
            "type": "parcoords"
           }
          ],
          "pie": [
           {
            "automargin": true,
            "type": "pie"
           }
          ],
          "scatter": [
           {
            "marker": {
             "colorbar": {
              "outlinewidth": 0,
              "ticks": ""
             }
            },
            "type": "scatter"
           }
          ],
          "scatter3d": [
           {
            "line": {
             "colorbar": {
              "outlinewidth": 0,
              "ticks": ""
             }
            },
            "marker": {
             "colorbar": {
              "outlinewidth": 0,
              "ticks": ""
             }
            },
            "type": "scatter3d"
           }
          ],
          "scattercarpet": [
           {
            "marker": {
             "colorbar": {
              "outlinewidth": 0,
              "ticks": ""
             }
            },
            "type": "scattercarpet"
           }
          ],
          "scattergeo": [
           {
            "marker": {
             "colorbar": {
              "outlinewidth": 0,
              "ticks": ""
             }
            },
            "type": "scattergeo"
           }
          ],
          "scattergl": [
           {
            "marker": {
             "colorbar": {
              "outlinewidth": 0,
              "ticks": ""
             }
            },
            "type": "scattergl"
           }
          ],
          "scattermapbox": [
           {
            "marker": {
             "colorbar": {
              "outlinewidth": 0,
              "ticks": ""
             }
            },
            "type": "scattermapbox"
           }
          ],
          "scatterpolar": [
           {
            "marker": {
             "colorbar": {
              "outlinewidth": 0,
              "ticks": ""
             }
            },
            "type": "scatterpolar"
           }
          ],
          "scatterpolargl": [
           {
            "marker": {
             "colorbar": {
              "outlinewidth": 0,
              "ticks": ""
             }
            },
            "type": "scatterpolargl"
           }
          ],
          "scatterternary": [
           {
            "marker": {
             "colorbar": {
              "outlinewidth": 0,
              "ticks": ""
             }
            },
            "type": "scatterternary"
           }
          ],
          "surface": [
           {
            "colorbar": {
             "outlinewidth": 0,
             "ticks": ""
            },
            "colorscale": [
             [
              0,
              "#0d0887"
             ],
             [
              0.1111111111111111,
              "#46039f"
             ],
             [
              0.2222222222222222,
              "#7201a8"
             ],
             [
              0.3333333333333333,
              "#9c179e"
             ],
             [
              0.4444444444444444,
              "#bd3786"
             ],
             [
              0.5555555555555556,
              "#d8576b"
             ],
             [
              0.6666666666666666,
              "#ed7953"
             ],
             [
              0.7777777777777778,
              "#fb9f3a"
             ],
             [
              0.8888888888888888,
              "#fdca26"
             ],
             [
              1,
              "#f0f921"
             ]
            ],
            "type": "surface"
           }
          ],
          "table": [
           {
            "cells": {
             "fill": {
              "color": "#EBF0F8"
             },
             "line": {
              "color": "white"
             }
            },
            "header": {
             "fill": {
              "color": "#C8D4E3"
             },
             "line": {
              "color": "white"
             }
            },
            "type": "table"
           }
          ]
         },
         "layout": {
          "annotationdefaults": {
           "arrowcolor": "#2a3f5f",
           "arrowhead": 0,
           "arrowwidth": 1
          },
          "autotypenumbers": "strict",
          "coloraxis": {
           "colorbar": {
            "outlinewidth": 0,
            "ticks": ""
           }
          },
          "colorscale": {
           "diverging": [
            [
             0,
             "#8e0152"
            ],
            [
             0.1,
             "#c51b7d"
            ],
            [
             0.2,
             "#de77ae"
            ],
            [
             0.3,
             "#f1b6da"
            ],
            [
             0.4,
             "#fde0ef"
            ],
            [
             0.5,
             "#f7f7f7"
            ],
            [
             0.6,
             "#e6f5d0"
            ],
            [
             0.7,
             "#b8e186"
            ],
            [
             0.8,
             "#7fbc41"
            ],
            [
             0.9,
             "#4d9221"
            ],
            [
             1,
             "#276419"
            ]
           ],
           "sequential": [
            [
             0,
             "#0d0887"
            ],
            [
             0.1111111111111111,
             "#46039f"
            ],
            [
             0.2222222222222222,
             "#7201a8"
            ],
            [
             0.3333333333333333,
             "#9c179e"
            ],
            [
             0.4444444444444444,
             "#bd3786"
            ],
            [
             0.5555555555555556,
             "#d8576b"
            ],
            [
             0.6666666666666666,
             "#ed7953"
            ],
            [
             0.7777777777777778,
             "#fb9f3a"
            ],
            [
             0.8888888888888888,
             "#fdca26"
            ],
            [
             1,
             "#f0f921"
            ]
           ],
           "sequentialminus": [
            [
             0,
             "#0d0887"
            ],
            [
             0.1111111111111111,
             "#46039f"
            ],
            [
             0.2222222222222222,
             "#7201a8"
            ],
            [
             0.3333333333333333,
             "#9c179e"
            ],
            [
             0.4444444444444444,
             "#bd3786"
            ],
            [
             0.5555555555555556,
             "#d8576b"
            ],
            [
             0.6666666666666666,
             "#ed7953"
            ],
            [
             0.7777777777777778,
             "#fb9f3a"
            ],
            [
             0.8888888888888888,
             "#fdca26"
            ],
            [
             1,
             "#f0f921"
            ]
           ]
          },
          "colorway": [
           "#636efa",
           "#EF553B",
           "#00cc96",
           "#ab63fa",
           "#FFA15A",
           "#19d3f3",
           "#FF6692",
           "#B6E880",
           "#FF97FF",
           "#FECB52"
          ],
          "font": {
           "color": "#2a3f5f"
          },
          "geo": {
           "bgcolor": "white",
           "lakecolor": "white",
           "landcolor": "#E5ECF6",
           "showlakes": true,
           "showland": true,
           "subunitcolor": "white"
          },
          "hoverlabel": {
           "align": "left"
          },
          "hovermode": "closest",
          "mapbox": {
           "style": "light"
          },
          "paper_bgcolor": "white",
          "plot_bgcolor": "#E5ECF6",
          "polar": {
           "angularaxis": {
            "gridcolor": "white",
            "linecolor": "white",
            "ticks": ""
           },
           "bgcolor": "#E5ECF6",
           "radialaxis": {
            "gridcolor": "white",
            "linecolor": "white",
            "ticks": ""
           }
          },
          "scene": {
           "xaxis": {
            "backgroundcolor": "#E5ECF6",
            "gridcolor": "white",
            "gridwidth": 2,
            "linecolor": "white",
            "showbackground": true,
            "ticks": "",
            "zerolinecolor": "white"
           },
           "yaxis": {
            "backgroundcolor": "#E5ECF6",
            "gridcolor": "white",
            "gridwidth": 2,
            "linecolor": "white",
            "showbackground": true,
            "ticks": "",
            "zerolinecolor": "white"
           },
           "zaxis": {
            "backgroundcolor": "#E5ECF6",
            "gridcolor": "white",
            "gridwidth": 2,
            "linecolor": "white",
            "showbackground": true,
            "ticks": "",
            "zerolinecolor": "white"
           }
          },
          "shapedefaults": {
           "line": {
            "color": "#2a3f5f"
           }
          },
          "ternary": {
           "aaxis": {
            "gridcolor": "white",
            "linecolor": "white",
            "ticks": ""
           },
           "baxis": {
            "gridcolor": "white",
            "linecolor": "white",
            "ticks": ""
           },
           "bgcolor": "#E5ECF6",
           "caxis": {
            "gridcolor": "white",
            "linecolor": "white",
            "ticks": ""
           }
          },
          "title": {
           "x": 0.05
          },
          "xaxis": {
           "automargin": true,
           "gridcolor": "white",
           "linecolor": "white",
           "ticks": "",
           "title": {
            "standoff": 15
           },
           "zerolinecolor": "white",
           "zerolinewidth": 2
          },
          "yaxis": {
           "automargin": true,
           "gridcolor": "white",
           "linecolor": "white",
           "ticks": "",
           "title": {
            "standoff": 15
           },
           "zerolinecolor": "white",
           "zerolinewidth": 2
          }
         }
        },
        "xaxis": {
         "anchor": "y",
         "constrain": "domain",
         "domain": [
          0,
          1
         ],
         "scaleanchor": "y"
        },
        "yaxis": {
         "anchor": "x",
         "autorange": "reversed",
         "constrain": "domain",
         "domain": [
          0,
          1
         ]
        }
       }
      }
     },
     "metadata": {},
     "output_type": "display_data"
    }
   ],
   "source": [
    "fig = px.imshow(df_interval_attr.corr())\n",
    "fig.show()"
   ]
  },
  {
   "cell_type": "code",
   "execution_count": 73,
   "metadata": {},
   "outputs": [
    {
     "data": {
      "application/vnd.plotly.v1+json": {
       "config": {
        "plotlyServerURL": "https://plot.ly"
       },
       "data": [
        {
         "coloraxis": "coloraxis",
         "hovertemplate": "x: %{x}<br>y: %{y}<br>color: %{z}<extra></extra>",
         "name": "0",
         "type": "heatmap",
         "x": [
          "danceability",
          "energy",
          "liveness",
          "acousticness",
          "instrumentalness",
          "loudness",
          "explicit",
          "tempo",
          "duration",
          "valence",
          "popularity"
         ],
         "xaxis": "x",
         "y": [
          "danceability",
          "energy",
          "liveness",
          "acousticness",
          "instrumentalness",
          "loudness",
          "explicit",
          "tempo",
          "duration",
          "valence",
          "popularity"
         ],
         "yaxis": "y",
         "z": [
          [
           1,
           0.020363085990827482,
           -0.10659049546426858,
           -0.21676116335804735,
           -0.023037611830502482,
           0.04638462834122178,
           0.34649979868753716,
           -0.19392825065153527,
           0.04049139467847835,
           0.5401250515134082,
           0.024188134626358115
          ],
          [
           0.020363085990827482,
           1,
           0.21203815548027455,
           -0.6761355321941044,
           0.04565185198695202,
           0.7683792363263151,
           0.11336317657994135,
           0.14161999025554536,
           -0.08620045045944288,
           0.40291447264866925,
           0.037590624756205185
          ],
          [
           -0.10659049546426858,
           0.21203815548027455,
           1,
           -0.04859566715827896,
           0.014425901779698392,
           0.13651449209505848,
           0.07503090842441663,
           -0.03109582596537794,
           0.00723563252813243,
           0.04165872941059641,
           -0.024074058776927528
          ],
          [
           -0.21676116335804735,
           -0.6761355321941044,
           -0.04859566715827896,
           1,
           -0.054241912724820686,
           -0.5451056640722594,
           -0.1863101067001118,
           -0.06818829824320026,
           0.11171243347942467,
           -0.3162570307434302,
           0.03018271018753704
          ],
          [
           -0.023037611830502482,
           0.04565185198695202,
           0.014425901779698392,
           -0.054241912724820686,
           1,
           0.0028380314448178475,
           -0.005829578247809113,
           0.048510825107403205,
           0.001641531119945397,
           -0.022549848333277785,
           -0.037405057095870685
          ],
          [
           0.04638462834122178,
           0.7683792363263151,
           0.13651449209505848,
           -0.5451056640722594,
           0.0028380314448178475,
           1,
           0.17072830186088644,
           0.05256007419805709,
           -0.06977582108792896,
           0.297007046035001,
           0.04119371876552954
          ],
          [
           0.34649979868753716,
           0.11336317657994135,
           0.07503090842441663,
           -0.1863101067001118,
           -0.005829578247809113,
           0.17072830186088644,
           1,
           0.004828904171700882,
           -0.03867421528896282,
           0.16191037494418964,
           0.16329732737764782
          ],
          [
           -0.19392825065153527,
           0.14161999025554536,
           -0.03109582596537794,
           -0.06818829824320026,
           0.048510825107403205,
           0.05256007419805709,
           0.004828904171700882,
           1,
           -0.11898261482939286,
           0.09488066752915769,
           -0.09893579826126529
          ],
          [
           0.04049139467847835,
           -0.08620045045944288,
           0.00723563252813243,
           0.11171243347942467,
           0.001641531119945397,
           -0.06977582108792896,
           -0.03867421528896282,
           -0.11898261482939286,
           1,
           -0.16534512137142104,
           0.024805891599297695
          ],
          [
           0.5401250515134082,
           0.40291447264866925,
           0.04165872941059641,
           -0.3162570307434302,
           -0.022549848333277785,
           0.297007046035001,
           0.16191037494418964,
           0.09488066752915769,
           -0.16534512137142104,
           1,
           -0.01890566909822027
          ],
          [
           0.024188134626358115,
           0.037590624756205185,
           -0.024074058776927528,
           0.03018271018753704,
           -0.037405057095870685,
           0.04119371876552954,
           0.16329732737764782,
           -0.09893579826126529,
           0.024805891599297695,
           -0.01890566909822027,
           1
          ]
         ]
        }
       ],
       "layout": {
        "coloraxis": {
         "colorscale": [
          [
           0,
           "#0d0887"
          ],
          [
           0.1111111111111111,
           "#46039f"
          ],
          [
           0.2222222222222222,
           "#7201a8"
          ],
          [
           0.3333333333333333,
           "#9c179e"
          ],
          [
           0.4444444444444444,
           "#bd3786"
          ],
          [
           0.5555555555555556,
           "#d8576b"
          ],
          [
           0.6666666666666666,
           "#ed7953"
          ],
          [
           0.7777777777777778,
           "#fb9f3a"
          ],
          [
           0.8888888888888888,
           "#fdca26"
          ],
          [
           1,
           "#f0f921"
          ]
         ]
        },
        "margin": {
         "t": 60
        },
        "template": {
         "data": {
          "bar": [
           {
            "error_x": {
             "color": "#2a3f5f"
            },
            "error_y": {
             "color": "#2a3f5f"
            },
            "marker": {
             "line": {
              "color": "#E5ECF6",
              "width": 0.5
             },
             "pattern": {
              "fillmode": "overlay",
              "size": 10,
              "solidity": 0.2
             }
            },
            "type": "bar"
           }
          ],
          "barpolar": [
           {
            "marker": {
             "line": {
              "color": "#E5ECF6",
              "width": 0.5
             },
             "pattern": {
              "fillmode": "overlay",
              "size": 10,
              "solidity": 0.2
             }
            },
            "type": "barpolar"
           }
          ],
          "carpet": [
           {
            "aaxis": {
             "endlinecolor": "#2a3f5f",
             "gridcolor": "white",
             "linecolor": "white",
             "minorgridcolor": "white",
             "startlinecolor": "#2a3f5f"
            },
            "baxis": {
             "endlinecolor": "#2a3f5f",
             "gridcolor": "white",
             "linecolor": "white",
             "minorgridcolor": "white",
             "startlinecolor": "#2a3f5f"
            },
            "type": "carpet"
           }
          ],
          "choropleth": [
           {
            "colorbar": {
             "outlinewidth": 0,
             "ticks": ""
            },
            "type": "choropleth"
           }
          ],
          "contour": [
           {
            "colorbar": {
             "outlinewidth": 0,
             "ticks": ""
            },
            "colorscale": [
             [
              0,
              "#0d0887"
             ],
             [
              0.1111111111111111,
              "#46039f"
             ],
             [
              0.2222222222222222,
              "#7201a8"
             ],
             [
              0.3333333333333333,
              "#9c179e"
             ],
             [
              0.4444444444444444,
              "#bd3786"
             ],
             [
              0.5555555555555556,
              "#d8576b"
             ],
             [
              0.6666666666666666,
              "#ed7953"
             ],
             [
              0.7777777777777778,
              "#fb9f3a"
             ],
             [
              0.8888888888888888,
              "#fdca26"
             ],
             [
              1,
              "#f0f921"
             ]
            ],
            "type": "contour"
           }
          ],
          "contourcarpet": [
           {
            "colorbar": {
             "outlinewidth": 0,
             "ticks": ""
            },
            "type": "contourcarpet"
           }
          ],
          "heatmap": [
           {
            "colorbar": {
             "outlinewidth": 0,
             "ticks": ""
            },
            "colorscale": [
             [
              0,
              "#0d0887"
             ],
             [
              0.1111111111111111,
              "#46039f"
             ],
             [
              0.2222222222222222,
              "#7201a8"
             ],
             [
              0.3333333333333333,
              "#9c179e"
             ],
             [
              0.4444444444444444,
              "#bd3786"
             ],
             [
              0.5555555555555556,
              "#d8576b"
             ],
             [
              0.6666666666666666,
              "#ed7953"
             ],
             [
              0.7777777777777778,
              "#fb9f3a"
             ],
             [
              0.8888888888888888,
              "#fdca26"
             ],
             [
              1,
              "#f0f921"
             ]
            ],
            "type": "heatmap"
           }
          ],
          "heatmapgl": [
           {
            "colorbar": {
             "outlinewidth": 0,
             "ticks": ""
            },
            "colorscale": [
             [
              0,
              "#0d0887"
             ],
             [
              0.1111111111111111,
              "#46039f"
             ],
             [
              0.2222222222222222,
              "#7201a8"
             ],
             [
              0.3333333333333333,
              "#9c179e"
             ],
             [
              0.4444444444444444,
              "#bd3786"
             ],
             [
              0.5555555555555556,
              "#d8576b"
             ],
             [
              0.6666666666666666,
              "#ed7953"
             ],
             [
              0.7777777777777778,
              "#fb9f3a"
             ],
             [
              0.8888888888888888,
              "#fdca26"
             ],
             [
              1,
              "#f0f921"
             ]
            ],
            "type": "heatmapgl"
           }
          ],
          "histogram": [
           {
            "marker": {
             "pattern": {
              "fillmode": "overlay",
              "size": 10,
              "solidity": 0.2
             }
            },
            "type": "histogram"
           }
          ],
          "histogram2d": [
           {
            "colorbar": {
             "outlinewidth": 0,
             "ticks": ""
            },
            "colorscale": [
             [
              0,
              "#0d0887"
             ],
             [
              0.1111111111111111,
              "#46039f"
             ],
             [
              0.2222222222222222,
              "#7201a8"
             ],
             [
              0.3333333333333333,
              "#9c179e"
             ],
             [
              0.4444444444444444,
              "#bd3786"
             ],
             [
              0.5555555555555556,
              "#d8576b"
             ],
             [
              0.6666666666666666,
              "#ed7953"
             ],
             [
              0.7777777777777778,
              "#fb9f3a"
             ],
             [
              0.8888888888888888,
              "#fdca26"
             ],
             [
              1,
              "#f0f921"
             ]
            ],
            "type": "histogram2d"
           }
          ],
          "histogram2dcontour": [
           {
            "colorbar": {
             "outlinewidth": 0,
             "ticks": ""
            },
            "colorscale": [
             [
              0,
              "#0d0887"
             ],
             [
              0.1111111111111111,
              "#46039f"
             ],
             [
              0.2222222222222222,
              "#7201a8"
             ],
             [
              0.3333333333333333,
              "#9c179e"
             ],
             [
              0.4444444444444444,
              "#bd3786"
             ],
             [
              0.5555555555555556,
              "#d8576b"
             ],
             [
              0.6666666666666666,
              "#ed7953"
             ],
             [
              0.7777777777777778,
              "#fb9f3a"
             ],
             [
              0.8888888888888888,
              "#fdca26"
             ],
             [
              1,
              "#f0f921"
             ]
            ],
            "type": "histogram2dcontour"
           }
          ],
          "mesh3d": [
           {
            "colorbar": {
             "outlinewidth": 0,
             "ticks": ""
            },
            "type": "mesh3d"
           }
          ],
          "parcoords": [
           {
            "line": {
             "colorbar": {
              "outlinewidth": 0,
              "ticks": ""
             }
            },
            "type": "parcoords"
           }
          ],
          "pie": [
           {
            "automargin": true,
            "type": "pie"
           }
          ],
          "scatter": [
           {
            "marker": {
             "colorbar": {
              "outlinewidth": 0,
              "ticks": ""
             }
            },
            "type": "scatter"
           }
          ],
          "scatter3d": [
           {
            "line": {
             "colorbar": {
              "outlinewidth": 0,
              "ticks": ""
             }
            },
            "marker": {
             "colorbar": {
              "outlinewidth": 0,
              "ticks": ""
             }
            },
            "type": "scatter3d"
           }
          ],
          "scattercarpet": [
           {
            "marker": {
             "colorbar": {
              "outlinewidth": 0,
              "ticks": ""
             }
            },
            "type": "scattercarpet"
           }
          ],
          "scattergeo": [
           {
            "marker": {
             "colorbar": {
              "outlinewidth": 0,
              "ticks": ""
             }
            },
            "type": "scattergeo"
           }
          ],
          "scattergl": [
           {
            "marker": {
             "colorbar": {
              "outlinewidth": 0,
              "ticks": ""
             }
            },
            "type": "scattergl"
           }
          ],
          "scattermapbox": [
           {
            "marker": {
             "colorbar": {
              "outlinewidth": 0,
              "ticks": ""
             }
            },
            "type": "scattermapbox"
           }
          ],
          "scatterpolar": [
           {
            "marker": {
             "colorbar": {
              "outlinewidth": 0,
              "ticks": ""
             }
            },
            "type": "scatterpolar"
           }
          ],
          "scatterpolargl": [
           {
            "marker": {
             "colorbar": {
              "outlinewidth": 0,
              "ticks": ""
             }
            },
            "type": "scatterpolargl"
           }
          ],
          "scatterternary": [
           {
            "marker": {
             "colorbar": {
              "outlinewidth": 0,
              "ticks": ""
             }
            },
            "type": "scatterternary"
           }
          ],
          "surface": [
           {
            "colorbar": {
             "outlinewidth": 0,
             "ticks": ""
            },
            "colorscale": [
             [
              0,
              "#0d0887"
             ],
             [
              0.1111111111111111,
              "#46039f"
             ],
             [
              0.2222222222222222,
              "#7201a8"
             ],
             [
              0.3333333333333333,
              "#9c179e"
             ],
             [
              0.4444444444444444,
              "#bd3786"
             ],
             [
              0.5555555555555556,
              "#d8576b"
             ],
             [
              0.6666666666666666,
              "#ed7953"
             ],
             [
              0.7777777777777778,
              "#fb9f3a"
             ],
             [
              0.8888888888888888,
              "#fdca26"
             ],
             [
              1,
              "#f0f921"
             ]
            ],
            "type": "surface"
           }
          ],
          "table": [
           {
            "cells": {
             "fill": {
              "color": "#EBF0F8"
             },
             "line": {
              "color": "white"
             }
            },
            "header": {
             "fill": {
              "color": "#C8D4E3"
             },
             "line": {
              "color": "white"
             }
            },
            "type": "table"
           }
          ]
         },
         "layout": {
          "annotationdefaults": {
           "arrowcolor": "#2a3f5f",
           "arrowhead": 0,
           "arrowwidth": 1
          },
          "autotypenumbers": "strict",
          "coloraxis": {
           "colorbar": {
            "outlinewidth": 0,
            "ticks": ""
           }
          },
          "colorscale": {
           "diverging": [
            [
             0,
             "#8e0152"
            ],
            [
             0.1,
             "#c51b7d"
            ],
            [
             0.2,
             "#de77ae"
            ],
            [
             0.3,
             "#f1b6da"
            ],
            [
             0.4,
             "#fde0ef"
            ],
            [
             0.5,
             "#f7f7f7"
            ],
            [
             0.6,
             "#e6f5d0"
            ],
            [
             0.7,
             "#b8e186"
            ],
            [
             0.8,
             "#7fbc41"
            ],
            [
             0.9,
             "#4d9221"
            ],
            [
             1,
             "#276419"
            ]
           ],
           "sequential": [
            [
             0,
             "#0d0887"
            ],
            [
             0.1111111111111111,
             "#46039f"
            ],
            [
             0.2222222222222222,
             "#7201a8"
            ],
            [
             0.3333333333333333,
             "#9c179e"
            ],
            [
             0.4444444444444444,
             "#bd3786"
            ],
            [
             0.5555555555555556,
             "#d8576b"
            ],
            [
             0.6666666666666666,
             "#ed7953"
            ],
            [
             0.7777777777777778,
             "#fb9f3a"
            ],
            [
             0.8888888888888888,
             "#fdca26"
            ],
            [
             1,
             "#f0f921"
            ]
           ],
           "sequentialminus": [
            [
             0,
             "#0d0887"
            ],
            [
             0.1111111111111111,
             "#46039f"
            ],
            [
             0.2222222222222222,
             "#7201a8"
            ],
            [
             0.3333333333333333,
             "#9c179e"
            ],
            [
             0.4444444444444444,
             "#bd3786"
            ],
            [
             0.5555555555555556,
             "#d8576b"
            ],
            [
             0.6666666666666666,
             "#ed7953"
            ],
            [
             0.7777777777777778,
             "#fb9f3a"
            ],
            [
             0.8888888888888888,
             "#fdca26"
            ],
            [
             1,
             "#f0f921"
            ]
           ]
          },
          "colorway": [
           "#636efa",
           "#EF553B",
           "#00cc96",
           "#ab63fa",
           "#FFA15A",
           "#19d3f3",
           "#FF6692",
           "#B6E880",
           "#FF97FF",
           "#FECB52"
          ],
          "font": {
           "color": "#2a3f5f"
          },
          "geo": {
           "bgcolor": "white",
           "lakecolor": "white",
           "landcolor": "#E5ECF6",
           "showlakes": true,
           "showland": true,
           "subunitcolor": "white"
          },
          "hoverlabel": {
           "align": "left"
          },
          "hovermode": "closest",
          "mapbox": {
           "style": "light"
          },
          "paper_bgcolor": "white",
          "plot_bgcolor": "#E5ECF6",
          "polar": {
           "angularaxis": {
            "gridcolor": "white",
            "linecolor": "white",
            "ticks": ""
           },
           "bgcolor": "#E5ECF6",
           "radialaxis": {
            "gridcolor": "white",
            "linecolor": "white",
            "ticks": ""
           }
          },
          "scene": {
           "xaxis": {
            "backgroundcolor": "#E5ECF6",
            "gridcolor": "white",
            "gridwidth": 2,
            "linecolor": "white",
            "showbackground": true,
            "ticks": "",
            "zerolinecolor": "white"
           },
           "yaxis": {
            "backgroundcolor": "#E5ECF6",
            "gridcolor": "white",
            "gridwidth": 2,
            "linecolor": "white",
            "showbackground": true,
            "ticks": "",
            "zerolinecolor": "white"
           },
           "zaxis": {
            "backgroundcolor": "#E5ECF6",
            "gridcolor": "white",
            "gridwidth": 2,
            "linecolor": "white",
            "showbackground": true,
            "ticks": "",
            "zerolinecolor": "white"
           }
          },
          "shapedefaults": {
           "line": {
            "color": "#2a3f5f"
           }
          },
          "ternary": {
           "aaxis": {
            "gridcolor": "white",
            "linecolor": "white",
            "ticks": ""
           },
           "baxis": {
            "gridcolor": "white",
            "linecolor": "white",
            "ticks": ""
           },
           "bgcolor": "#E5ECF6",
           "caxis": {
            "gridcolor": "white",
            "linecolor": "white",
            "ticks": ""
           }
          },
          "title": {
           "x": 0.05
          },
          "xaxis": {
           "automargin": true,
           "gridcolor": "white",
           "linecolor": "white",
           "ticks": "",
           "title": {
            "standoff": 15
           },
           "zerolinecolor": "white",
           "zerolinewidth": 2
          },
          "yaxis": {
           "automargin": true,
           "gridcolor": "white",
           "linecolor": "white",
           "ticks": "",
           "title": {
            "standoff": 15
           },
           "zerolinecolor": "white",
           "zerolinewidth": 2
          }
         }
        },
        "xaxis": {
         "anchor": "y",
         "constrain": "domain",
         "domain": [
          0,
          1
         ],
         "scaleanchor": "y"
        },
        "yaxis": {
         "anchor": "x",
         "autorange": "reversed",
         "constrain": "domain",
         "domain": [
          0,
          1
         ]
        }
       }
      }
     },
     "metadata": {},
     "output_type": "display_data"
    }
   ],
   "source": [
    "fig = px.imshow(samples_for_year.loc[:, [\"SongID\", \"danceability\", \"energy\", \"liveness\", \"acousticness\", \"instrumentalness\", \"loudness\", \"explicit\", \"tempo\", \"duration\",\"valence\", \"popularity\",]].corr())\n",
    "fig.show()"
   ]
  },
  {
   "cell_type": "code",
   "execution_count": 86,
   "metadata": {},
   "outputs": [
    {
     "data": {
      "application/vnd.plotly.v1+json": {
       "config": {
        "plotlyServerURL": "https://plot.ly"
       },
       "data": [
        {
         "alignmentgroup": "True",
         "hovertemplate": "genre_super=%{x}<br>SongID=%{y}<extra></extra>",
         "legendgroup": "",
         "marker": {
          "color": "#636efa",
          "pattern": {
           "shape": ""
          }
         },
         "name": "",
         "offsetgroup": "",
         "orientation": "v",
         "showlegend": false,
         "textposition": "auto",
         "type": "bar",
         "x": [
          "country",
          "pop",
          "r&b",
          "rap",
          "rock",
          "electronic",
          "indie",
          "metal",
          "christian",
          "empty",
          "latin",
          "missing",
          "soundtrack",
          "jazz"
         ],
         "xaxis": "x",
         "y": [
          105,
          87,
          85,
          63,
          51,
          6,
          5,
          4,
          2,
          2,
          2,
          2,
          2,
          1
         ],
         "yaxis": "y"
        }
       ],
       "layout": {
        "barmode": "relative",
        "legend": {
         "tracegroupgap": 0
        },
        "template": {
         "data": {
          "bar": [
           {
            "error_x": {
             "color": "#2a3f5f"
            },
            "error_y": {
             "color": "#2a3f5f"
            },
            "marker": {
             "line": {
              "color": "#E5ECF6",
              "width": 0.5
             },
             "pattern": {
              "fillmode": "overlay",
              "size": 10,
              "solidity": 0.2
             }
            },
            "type": "bar"
           }
          ],
          "barpolar": [
           {
            "marker": {
             "line": {
              "color": "#E5ECF6",
              "width": 0.5
             },
             "pattern": {
              "fillmode": "overlay",
              "size": 10,
              "solidity": 0.2
             }
            },
            "type": "barpolar"
           }
          ],
          "carpet": [
           {
            "aaxis": {
             "endlinecolor": "#2a3f5f",
             "gridcolor": "white",
             "linecolor": "white",
             "minorgridcolor": "white",
             "startlinecolor": "#2a3f5f"
            },
            "baxis": {
             "endlinecolor": "#2a3f5f",
             "gridcolor": "white",
             "linecolor": "white",
             "minorgridcolor": "white",
             "startlinecolor": "#2a3f5f"
            },
            "type": "carpet"
           }
          ],
          "choropleth": [
           {
            "colorbar": {
             "outlinewidth": 0,
             "ticks": ""
            },
            "type": "choropleth"
           }
          ],
          "contour": [
           {
            "colorbar": {
             "outlinewidth": 0,
             "ticks": ""
            },
            "colorscale": [
             [
              0,
              "#0d0887"
             ],
             [
              0.1111111111111111,
              "#46039f"
             ],
             [
              0.2222222222222222,
              "#7201a8"
             ],
             [
              0.3333333333333333,
              "#9c179e"
             ],
             [
              0.4444444444444444,
              "#bd3786"
             ],
             [
              0.5555555555555556,
              "#d8576b"
             ],
             [
              0.6666666666666666,
              "#ed7953"
             ],
             [
              0.7777777777777778,
              "#fb9f3a"
             ],
             [
              0.8888888888888888,
              "#fdca26"
             ],
             [
              1,
              "#f0f921"
             ]
            ],
            "type": "contour"
           }
          ],
          "contourcarpet": [
           {
            "colorbar": {
             "outlinewidth": 0,
             "ticks": ""
            },
            "type": "contourcarpet"
           }
          ],
          "heatmap": [
           {
            "colorbar": {
             "outlinewidth": 0,
             "ticks": ""
            },
            "colorscale": [
             [
              0,
              "#0d0887"
             ],
             [
              0.1111111111111111,
              "#46039f"
             ],
             [
              0.2222222222222222,
              "#7201a8"
             ],
             [
              0.3333333333333333,
              "#9c179e"
             ],
             [
              0.4444444444444444,
              "#bd3786"
             ],
             [
              0.5555555555555556,
              "#d8576b"
             ],
             [
              0.6666666666666666,
              "#ed7953"
             ],
             [
              0.7777777777777778,
              "#fb9f3a"
             ],
             [
              0.8888888888888888,
              "#fdca26"
             ],
             [
              1,
              "#f0f921"
             ]
            ],
            "type": "heatmap"
           }
          ],
          "heatmapgl": [
           {
            "colorbar": {
             "outlinewidth": 0,
             "ticks": ""
            },
            "colorscale": [
             [
              0,
              "#0d0887"
             ],
             [
              0.1111111111111111,
              "#46039f"
             ],
             [
              0.2222222222222222,
              "#7201a8"
             ],
             [
              0.3333333333333333,
              "#9c179e"
             ],
             [
              0.4444444444444444,
              "#bd3786"
             ],
             [
              0.5555555555555556,
              "#d8576b"
             ],
             [
              0.6666666666666666,
              "#ed7953"
             ],
             [
              0.7777777777777778,
              "#fb9f3a"
             ],
             [
              0.8888888888888888,
              "#fdca26"
             ],
             [
              1,
              "#f0f921"
             ]
            ],
            "type": "heatmapgl"
           }
          ],
          "histogram": [
           {
            "marker": {
             "pattern": {
              "fillmode": "overlay",
              "size": 10,
              "solidity": 0.2
             }
            },
            "type": "histogram"
           }
          ],
          "histogram2d": [
           {
            "colorbar": {
             "outlinewidth": 0,
             "ticks": ""
            },
            "colorscale": [
             [
              0,
              "#0d0887"
             ],
             [
              0.1111111111111111,
              "#46039f"
             ],
             [
              0.2222222222222222,
              "#7201a8"
             ],
             [
              0.3333333333333333,
              "#9c179e"
             ],
             [
              0.4444444444444444,
              "#bd3786"
             ],
             [
              0.5555555555555556,
              "#d8576b"
             ],
             [
              0.6666666666666666,
              "#ed7953"
             ],
             [
              0.7777777777777778,
              "#fb9f3a"
             ],
             [
              0.8888888888888888,
              "#fdca26"
             ],
             [
              1,
              "#f0f921"
             ]
            ],
            "type": "histogram2d"
           }
          ],
          "histogram2dcontour": [
           {
            "colorbar": {
             "outlinewidth": 0,
             "ticks": ""
            },
            "colorscale": [
             [
              0,
              "#0d0887"
             ],
             [
              0.1111111111111111,
              "#46039f"
             ],
             [
              0.2222222222222222,
              "#7201a8"
             ],
             [
              0.3333333333333333,
              "#9c179e"
             ],
             [
              0.4444444444444444,
              "#bd3786"
             ],
             [
              0.5555555555555556,
              "#d8576b"
             ],
             [
              0.6666666666666666,
              "#ed7953"
             ],
             [
              0.7777777777777778,
              "#fb9f3a"
             ],
             [
              0.8888888888888888,
              "#fdca26"
             ],
             [
              1,
              "#f0f921"
             ]
            ],
            "type": "histogram2dcontour"
           }
          ],
          "mesh3d": [
           {
            "colorbar": {
             "outlinewidth": 0,
             "ticks": ""
            },
            "type": "mesh3d"
           }
          ],
          "parcoords": [
           {
            "line": {
             "colorbar": {
              "outlinewidth": 0,
              "ticks": ""
             }
            },
            "type": "parcoords"
           }
          ],
          "pie": [
           {
            "automargin": true,
            "type": "pie"
           }
          ],
          "scatter": [
           {
            "marker": {
             "colorbar": {
              "outlinewidth": 0,
              "ticks": ""
             }
            },
            "type": "scatter"
           }
          ],
          "scatter3d": [
           {
            "line": {
             "colorbar": {
              "outlinewidth": 0,
              "ticks": ""
             }
            },
            "marker": {
             "colorbar": {
              "outlinewidth": 0,
              "ticks": ""
             }
            },
            "type": "scatter3d"
           }
          ],
          "scattercarpet": [
           {
            "marker": {
             "colorbar": {
              "outlinewidth": 0,
              "ticks": ""
             }
            },
            "type": "scattercarpet"
           }
          ],
          "scattergeo": [
           {
            "marker": {
             "colorbar": {
              "outlinewidth": 0,
              "ticks": ""
             }
            },
            "type": "scattergeo"
           }
          ],
          "scattergl": [
           {
            "marker": {
             "colorbar": {
              "outlinewidth": 0,
              "ticks": ""
             }
            },
            "type": "scattergl"
           }
          ],
          "scattermapbox": [
           {
            "marker": {
             "colorbar": {
              "outlinewidth": 0,
              "ticks": ""
             }
            },
            "type": "scattermapbox"
           }
          ],
          "scatterpolar": [
           {
            "marker": {
             "colorbar": {
              "outlinewidth": 0,
              "ticks": ""
             }
            },
            "type": "scatterpolar"
           }
          ],
          "scatterpolargl": [
           {
            "marker": {
             "colorbar": {
              "outlinewidth": 0,
              "ticks": ""
             }
            },
            "type": "scatterpolargl"
           }
          ],
          "scatterternary": [
           {
            "marker": {
             "colorbar": {
              "outlinewidth": 0,
              "ticks": ""
             }
            },
            "type": "scatterternary"
           }
          ],
          "surface": [
           {
            "colorbar": {
             "outlinewidth": 0,
             "ticks": ""
            },
            "colorscale": [
             [
              0,
              "#0d0887"
             ],
             [
              0.1111111111111111,
              "#46039f"
             ],
             [
              0.2222222222222222,
              "#7201a8"
             ],
             [
              0.3333333333333333,
              "#9c179e"
             ],
             [
              0.4444444444444444,
              "#bd3786"
             ],
             [
              0.5555555555555556,
              "#d8576b"
             ],
             [
              0.6666666666666666,
              "#ed7953"
             ],
             [
              0.7777777777777778,
              "#fb9f3a"
             ],
             [
              0.8888888888888888,
              "#fdca26"
             ],
             [
              1,
              "#f0f921"
             ]
            ],
            "type": "surface"
           }
          ],
          "table": [
           {
            "cells": {
             "fill": {
              "color": "#EBF0F8"
             },
             "line": {
              "color": "white"
             }
            },
            "header": {
             "fill": {
              "color": "#C8D4E3"
             },
             "line": {
              "color": "white"
             }
            },
            "type": "table"
           }
          ]
         },
         "layout": {
          "annotationdefaults": {
           "arrowcolor": "#2a3f5f",
           "arrowhead": 0,
           "arrowwidth": 1
          },
          "autotypenumbers": "strict",
          "coloraxis": {
           "colorbar": {
            "outlinewidth": 0,
            "ticks": ""
           }
          },
          "colorscale": {
           "diverging": [
            [
             0,
             "#8e0152"
            ],
            [
             0.1,
             "#c51b7d"
            ],
            [
             0.2,
             "#de77ae"
            ],
            [
             0.3,
             "#f1b6da"
            ],
            [
             0.4,
             "#fde0ef"
            ],
            [
             0.5,
             "#f7f7f7"
            ],
            [
             0.6,
             "#e6f5d0"
            ],
            [
             0.7,
             "#b8e186"
            ],
            [
             0.8,
             "#7fbc41"
            ],
            [
             0.9,
             "#4d9221"
            ],
            [
             1,
             "#276419"
            ]
           ],
           "sequential": [
            [
             0,
             "#0d0887"
            ],
            [
             0.1111111111111111,
             "#46039f"
            ],
            [
             0.2222222222222222,
             "#7201a8"
            ],
            [
             0.3333333333333333,
             "#9c179e"
            ],
            [
             0.4444444444444444,
             "#bd3786"
            ],
            [
             0.5555555555555556,
             "#d8576b"
            ],
            [
             0.6666666666666666,
             "#ed7953"
            ],
            [
             0.7777777777777778,
             "#fb9f3a"
            ],
            [
             0.8888888888888888,
             "#fdca26"
            ],
            [
             1,
             "#f0f921"
            ]
           ],
           "sequentialminus": [
            [
             0,
             "#0d0887"
            ],
            [
             0.1111111111111111,
             "#46039f"
            ],
            [
             0.2222222222222222,
             "#7201a8"
            ],
            [
             0.3333333333333333,
             "#9c179e"
            ],
            [
             0.4444444444444444,
             "#bd3786"
            ],
            [
             0.5555555555555556,
             "#d8576b"
            ],
            [
             0.6666666666666666,
             "#ed7953"
            ],
            [
             0.7777777777777778,
             "#fb9f3a"
            ],
            [
             0.8888888888888888,
             "#fdca26"
            ],
            [
             1,
             "#f0f921"
            ]
           ]
          },
          "colorway": [
           "#636efa",
           "#EF553B",
           "#00cc96",
           "#ab63fa",
           "#FFA15A",
           "#19d3f3",
           "#FF6692",
           "#B6E880",
           "#FF97FF",
           "#FECB52"
          ],
          "font": {
           "color": "#2a3f5f"
          },
          "geo": {
           "bgcolor": "white",
           "lakecolor": "white",
           "landcolor": "#E5ECF6",
           "showlakes": true,
           "showland": true,
           "subunitcolor": "white"
          },
          "hoverlabel": {
           "align": "left"
          },
          "hovermode": "closest",
          "mapbox": {
           "style": "light"
          },
          "paper_bgcolor": "white",
          "plot_bgcolor": "#E5ECF6",
          "polar": {
           "angularaxis": {
            "gridcolor": "white",
            "linecolor": "white",
            "ticks": ""
           },
           "bgcolor": "#E5ECF6",
           "radialaxis": {
            "gridcolor": "white",
            "linecolor": "white",
            "ticks": ""
           }
          },
          "scene": {
           "xaxis": {
            "backgroundcolor": "#E5ECF6",
            "gridcolor": "white",
            "gridwidth": 2,
            "linecolor": "white",
            "showbackground": true,
            "ticks": "",
            "zerolinecolor": "white"
           },
           "yaxis": {
            "backgroundcolor": "#E5ECF6",
            "gridcolor": "white",
            "gridwidth": 2,
            "linecolor": "white",
            "showbackground": true,
            "ticks": "",
            "zerolinecolor": "white"
           },
           "zaxis": {
            "backgroundcolor": "#E5ECF6",
            "gridcolor": "white",
            "gridwidth": 2,
            "linecolor": "white",
            "showbackground": true,
            "ticks": "",
            "zerolinecolor": "white"
           }
          },
          "shapedefaults": {
           "line": {
            "color": "#2a3f5f"
           }
          },
          "ternary": {
           "aaxis": {
            "gridcolor": "white",
            "linecolor": "white",
            "ticks": ""
           },
           "baxis": {
            "gridcolor": "white",
            "linecolor": "white",
            "ticks": ""
           },
           "bgcolor": "#E5ECF6",
           "caxis": {
            "gridcolor": "white",
            "linecolor": "white",
            "ticks": ""
           }
          },
          "title": {
           "x": 0.05
          },
          "xaxis": {
           "automargin": true,
           "gridcolor": "white",
           "linecolor": "white",
           "ticks": "",
           "title": {
            "standoff": 15
           },
           "zerolinecolor": "white",
           "zerolinewidth": 2
          },
          "yaxis": {
           "automargin": true,
           "gridcolor": "white",
           "linecolor": "white",
           "ticks": "",
           "title": {
            "standoff": 15
           },
           "zerolinecolor": "white",
           "zerolinewidth": 2
          }
         }
        },
        "title": {
         "text": "# of Unique Songs"
        },
        "xaxis": {
         "anchor": "y",
         "domain": [
          0,
          1
         ],
         "title": {
          "text": "genre_super"
         }
        },
        "yaxis": {
         "anchor": "x",
         "domain": [
          0,
          1
         ],
         "title": {
          "text": "SongID"
         }
        }
       }
      }
     },
     "metadata": {},
     "output_type": "display_data"
    }
   ],
   "source": [
    "fig = px.bar(df_99_full.drop_duplicates(\"SongID\").groupby(\"genre_super\", as_index=False).count().sort_values(\"SongID\", ascending=False), x=\"genre_super\", y=\"SongID\", title=\"# of Unique Songs\")\n",
    "fig.show()"
   ]
  },
  {
   "cell_type": "code",
   "execution_count": 96,
   "metadata": {},
   "outputs": [
    {
     "data": {
      "application/vnd.plotly.v1+json": {
       "config": {
        "plotlyServerURL": "https://plot.ly"
       },
       "data": [
        {
         "domain": {
          "x": [
           0,
           1
          ],
          "y": [
           0,
           1
          ]
         },
         "hovertemplate": "genre_super=%{label}<br>Week Position=%{value}<extra></extra>",
         "labels": [
          "christian",
          "country",
          "electronic",
          "indie",
          "jazz",
          "latin",
          "metal",
          "other",
          "pop",
          "r&b",
          "rap",
          "rock",
          "soundtrack"
         ],
         "legendgroup": "",
         "name": "",
         "showlegend": true,
         "type": "pie",
         "values": [
          1057,
          76247,
          4811,
          2141,
          89,
          492,
          3140,
          1503,
          47116,
          49759,
          40344,
          33360,
          2541
         ]
        }
       ],
       "layout": {
        "legend": {
         "tracegroupgap": 0
        },
        "template": {
         "data": {
          "bar": [
           {
            "error_x": {
             "color": "#2a3f5f"
            },
            "error_y": {
             "color": "#2a3f5f"
            },
            "marker": {
             "line": {
              "color": "#E5ECF6",
              "width": 0.5
             },
             "pattern": {
              "fillmode": "overlay",
              "size": 10,
              "solidity": 0.2
             }
            },
            "type": "bar"
           }
          ],
          "barpolar": [
           {
            "marker": {
             "line": {
              "color": "#E5ECF6",
              "width": 0.5
             },
             "pattern": {
              "fillmode": "overlay",
              "size": 10,
              "solidity": 0.2
             }
            },
            "type": "barpolar"
           }
          ],
          "carpet": [
           {
            "aaxis": {
             "endlinecolor": "#2a3f5f",
             "gridcolor": "white",
             "linecolor": "white",
             "minorgridcolor": "white",
             "startlinecolor": "#2a3f5f"
            },
            "baxis": {
             "endlinecolor": "#2a3f5f",
             "gridcolor": "white",
             "linecolor": "white",
             "minorgridcolor": "white",
             "startlinecolor": "#2a3f5f"
            },
            "type": "carpet"
           }
          ],
          "choropleth": [
           {
            "colorbar": {
             "outlinewidth": 0,
             "ticks": ""
            },
            "type": "choropleth"
           }
          ],
          "contour": [
           {
            "colorbar": {
             "outlinewidth": 0,
             "ticks": ""
            },
            "colorscale": [
             [
              0,
              "#0d0887"
             ],
             [
              0.1111111111111111,
              "#46039f"
             ],
             [
              0.2222222222222222,
              "#7201a8"
             ],
             [
              0.3333333333333333,
              "#9c179e"
             ],
             [
              0.4444444444444444,
              "#bd3786"
             ],
             [
              0.5555555555555556,
              "#d8576b"
             ],
             [
              0.6666666666666666,
              "#ed7953"
             ],
             [
              0.7777777777777778,
              "#fb9f3a"
             ],
             [
              0.8888888888888888,
              "#fdca26"
             ],
             [
              1,
              "#f0f921"
             ]
            ],
            "type": "contour"
           }
          ],
          "contourcarpet": [
           {
            "colorbar": {
             "outlinewidth": 0,
             "ticks": ""
            },
            "type": "contourcarpet"
           }
          ],
          "heatmap": [
           {
            "colorbar": {
             "outlinewidth": 0,
             "ticks": ""
            },
            "colorscale": [
             [
              0,
              "#0d0887"
             ],
             [
              0.1111111111111111,
              "#46039f"
             ],
             [
              0.2222222222222222,
              "#7201a8"
             ],
             [
              0.3333333333333333,
              "#9c179e"
             ],
             [
              0.4444444444444444,
              "#bd3786"
             ],
             [
              0.5555555555555556,
              "#d8576b"
             ],
             [
              0.6666666666666666,
              "#ed7953"
             ],
             [
              0.7777777777777778,
              "#fb9f3a"
             ],
             [
              0.8888888888888888,
              "#fdca26"
             ],
             [
              1,
              "#f0f921"
             ]
            ],
            "type": "heatmap"
           }
          ],
          "heatmapgl": [
           {
            "colorbar": {
             "outlinewidth": 0,
             "ticks": ""
            },
            "colorscale": [
             [
              0,
              "#0d0887"
             ],
             [
              0.1111111111111111,
              "#46039f"
             ],
             [
              0.2222222222222222,
              "#7201a8"
             ],
             [
              0.3333333333333333,
              "#9c179e"
             ],
             [
              0.4444444444444444,
              "#bd3786"
             ],
             [
              0.5555555555555556,
              "#d8576b"
             ],
             [
              0.6666666666666666,
              "#ed7953"
             ],
             [
              0.7777777777777778,
              "#fb9f3a"
             ],
             [
              0.8888888888888888,
              "#fdca26"
             ],
             [
              1,
              "#f0f921"
             ]
            ],
            "type": "heatmapgl"
           }
          ],
          "histogram": [
           {
            "marker": {
             "pattern": {
              "fillmode": "overlay",
              "size": 10,
              "solidity": 0.2
             }
            },
            "type": "histogram"
           }
          ],
          "histogram2d": [
           {
            "colorbar": {
             "outlinewidth": 0,
             "ticks": ""
            },
            "colorscale": [
             [
              0,
              "#0d0887"
             ],
             [
              0.1111111111111111,
              "#46039f"
             ],
             [
              0.2222222222222222,
              "#7201a8"
             ],
             [
              0.3333333333333333,
              "#9c179e"
             ],
             [
              0.4444444444444444,
              "#bd3786"
             ],
             [
              0.5555555555555556,
              "#d8576b"
             ],
             [
              0.6666666666666666,
              "#ed7953"
             ],
             [
              0.7777777777777778,
              "#fb9f3a"
             ],
             [
              0.8888888888888888,
              "#fdca26"
             ],
             [
              1,
              "#f0f921"
             ]
            ],
            "type": "histogram2d"
           }
          ],
          "histogram2dcontour": [
           {
            "colorbar": {
             "outlinewidth": 0,
             "ticks": ""
            },
            "colorscale": [
             [
              0,
              "#0d0887"
             ],
             [
              0.1111111111111111,
              "#46039f"
             ],
             [
              0.2222222222222222,
              "#7201a8"
             ],
             [
              0.3333333333333333,
              "#9c179e"
             ],
             [
              0.4444444444444444,
              "#bd3786"
             ],
             [
              0.5555555555555556,
              "#d8576b"
             ],
             [
              0.6666666666666666,
              "#ed7953"
             ],
             [
              0.7777777777777778,
              "#fb9f3a"
             ],
             [
              0.8888888888888888,
              "#fdca26"
             ],
             [
              1,
              "#f0f921"
             ]
            ],
            "type": "histogram2dcontour"
           }
          ],
          "mesh3d": [
           {
            "colorbar": {
             "outlinewidth": 0,
             "ticks": ""
            },
            "type": "mesh3d"
           }
          ],
          "parcoords": [
           {
            "line": {
             "colorbar": {
              "outlinewidth": 0,
              "ticks": ""
             }
            },
            "type": "parcoords"
           }
          ],
          "pie": [
           {
            "automargin": true,
            "type": "pie"
           }
          ],
          "scatter": [
           {
            "marker": {
             "colorbar": {
              "outlinewidth": 0,
              "ticks": ""
             }
            },
            "type": "scatter"
           }
          ],
          "scatter3d": [
           {
            "line": {
             "colorbar": {
              "outlinewidth": 0,
              "ticks": ""
             }
            },
            "marker": {
             "colorbar": {
              "outlinewidth": 0,
              "ticks": ""
             }
            },
            "type": "scatter3d"
           }
          ],
          "scattercarpet": [
           {
            "marker": {
             "colorbar": {
              "outlinewidth": 0,
              "ticks": ""
             }
            },
            "type": "scattercarpet"
           }
          ],
          "scattergeo": [
           {
            "marker": {
             "colorbar": {
              "outlinewidth": 0,
              "ticks": ""
             }
            },
            "type": "scattergeo"
           }
          ],
          "scattergl": [
           {
            "marker": {
             "colorbar": {
              "outlinewidth": 0,
              "ticks": ""
             }
            },
            "type": "scattergl"
           }
          ],
          "scattermapbox": [
           {
            "marker": {
             "colorbar": {
              "outlinewidth": 0,
              "ticks": ""
             }
            },
            "type": "scattermapbox"
           }
          ],
          "scatterpolar": [
           {
            "marker": {
             "colorbar": {
              "outlinewidth": 0,
              "ticks": ""
             }
            },
            "type": "scatterpolar"
           }
          ],
          "scatterpolargl": [
           {
            "marker": {
             "colorbar": {
              "outlinewidth": 0,
              "ticks": ""
             }
            },
            "type": "scatterpolargl"
           }
          ],
          "scatterternary": [
           {
            "marker": {
             "colorbar": {
              "outlinewidth": 0,
              "ticks": ""
             }
            },
            "type": "scatterternary"
           }
          ],
          "surface": [
           {
            "colorbar": {
             "outlinewidth": 0,
             "ticks": ""
            },
            "colorscale": [
             [
              0,
              "#0d0887"
             ],
             [
              0.1111111111111111,
              "#46039f"
             ],
             [
              0.2222222222222222,
              "#7201a8"
             ],
             [
              0.3333333333333333,
              "#9c179e"
             ],
             [
              0.4444444444444444,
              "#bd3786"
             ],
             [
              0.5555555555555556,
              "#d8576b"
             ],
             [
              0.6666666666666666,
              "#ed7953"
             ],
             [
              0.7777777777777778,
              "#fb9f3a"
             ],
             [
              0.8888888888888888,
              "#fdca26"
             ],
             [
              1,
              "#f0f921"
             ]
            ],
            "type": "surface"
           }
          ],
          "table": [
           {
            "cells": {
             "fill": {
              "color": "#EBF0F8"
             },
             "line": {
              "color": "white"
             }
            },
            "header": {
             "fill": {
              "color": "#C8D4E3"
             },
             "line": {
              "color": "white"
             }
            },
            "type": "table"
           }
          ]
         },
         "layout": {
          "annotationdefaults": {
           "arrowcolor": "#2a3f5f",
           "arrowhead": 0,
           "arrowwidth": 1
          },
          "autotypenumbers": "strict",
          "coloraxis": {
           "colorbar": {
            "outlinewidth": 0,
            "ticks": ""
           }
          },
          "colorscale": {
           "diverging": [
            [
             0,
             "#8e0152"
            ],
            [
             0.1,
             "#c51b7d"
            ],
            [
             0.2,
             "#de77ae"
            ],
            [
             0.3,
             "#f1b6da"
            ],
            [
             0.4,
             "#fde0ef"
            ],
            [
             0.5,
             "#f7f7f7"
            ],
            [
             0.6,
             "#e6f5d0"
            ],
            [
             0.7,
             "#b8e186"
            ],
            [
             0.8,
             "#7fbc41"
            ],
            [
             0.9,
             "#4d9221"
            ],
            [
             1,
             "#276419"
            ]
           ],
           "sequential": [
            [
             0,
             "#0d0887"
            ],
            [
             0.1111111111111111,
             "#46039f"
            ],
            [
             0.2222222222222222,
             "#7201a8"
            ],
            [
             0.3333333333333333,
             "#9c179e"
            ],
            [
             0.4444444444444444,
             "#bd3786"
            ],
            [
             0.5555555555555556,
             "#d8576b"
            ],
            [
             0.6666666666666666,
             "#ed7953"
            ],
            [
             0.7777777777777778,
             "#fb9f3a"
            ],
            [
             0.8888888888888888,
             "#fdca26"
            ],
            [
             1,
             "#f0f921"
            ]
           ],
           "sequentialminus": [
            [
             0,
             "#0d0887"
            ],
            [
             0.1111111111111111,
             "#46039f"
            ],
            [
             0.2222222222222222,
             "#7201a8"
            ],
            [
             0.3333333333333333,
             "#9c179e"
            ],
            [
             0.4444444444444444,
             "#bd3786"
            ],
            [
             0.5555555555555556,
             "#d8576b"
            ],
            [
             0.6666666666666666,
             "#ed7953"
            ],
            [
             0.7777777777777778,
             "#fb9f3a"
            ],
            [
             0.8888888888888888,
             "#fdca26"
            ],
            [
             1,
             "#f0f921"
            ]
           ]
          },
          "colorway": [
           "#636efa",
           "#EF553B",
           "#00cc96",
           "#ab63fa",
           "#FFA15A",
           "#19d3f3",
           "#FF6692",
           "#B6E880",
           "#FF97FF",
           "#FECB52"
          ],
          "font": {
           "color": "#2a3f5f"
          },
          "geo": {
           "bgcolor": "white",
           "lakecolor": "white",
           "landcolor": "#E5ECF6",
           "showlakes": true,
           "showland": true,
           "subunitcolor": "white"
          },
          "hoverlabel": {
           "align": "left"
          },
          "hovermode": "closest",
          "mapbox": {
           "style": "light"
          },
          "paper_bgcolor": "white",
          "plot_bgcolor": "#E5ECF6",
          "polar": {
           "angularaxis": {
            "gridcolor": "white",
            "linecolor": "white",
            "ticks": ""
           },
           "bgcolor": "#E5ECF6",
           "radialaxis": {
            "gridcolor": "white",
            "linecolor": "white",
            "ticks": ""
           }
          },
          "scene": {
           "xaxis": {
            "backgroundcolor": "#E5ECF6",
            "gridcolor": "white",
            "gridwidth": 2,
            "linecolor": "white",
            "showbackground": true,
            "ticks": "",
            "zerolinecolor": "white"
           },
           "yaxis": {
            "backgroundcolor": "#E5ECF6",
            "gridcolor": "white",
            "gridwidth": 2,
            "linecolor": "white",
            "showbackground": true,
            "ticks": "",
            "zerolinecolor": "white"
           },
           "zaxis": {
            "backgroundcolor": "#E5ECF6",
            "gridcolor": "white",
            "gridwidth": 2,
            "linecolor": "white",
            "showbackground": true,
            "ticks": "",
            "zerolinecolor": "white"
           }
          },
          "shapedefaults": {
           "line": {
            "color": "#2a3f5f"
           }
          },
          "ternary": {
           "aaxis": {
            "gridcolor": "white",
            "linecolor": "white",
            "ticks": ""
           },
           "baxis": {
            "gridcolor": "white",
            "linecolor": "white",
            "ticks": ""
           },
           "bgcolor": "#E5ECF6",
           "caxis": {
            "gridcolor": "white",
            "linecolor": "white",
            "ticks": ""
           }
          },
          "title": {
           "x": 0.05
          },
          "xaxis": {
           "automargin": true,
           "gridcolor": "white",
           "linecolor": "white",
           "ticks": "",
           "title": {
            "standoff": 15
           },
           "zerolinecolor": "white",
           "zerolinewidth": 2
          },
          "yaxis": {
           "automargin": true,
           "gridcolor": "white",
           "linecolor": "white",
           "ticks": "",
           "title": {
            "standoff": 15
           },
           "zerolinecolor": "white",
           "zerolinewidth": 2
          }
         }
        },
        "title": {
         "text": "Genre % by Positions"
        }
       }
      }
     },
     "metadata": {},
     "output_type": "display_data"
    }
   ],
   "source": [
    "pie_df = df_99_full.assign(genre_super = lambda x: x.genre_super.apply(lambda g: \"other\" if g == \"missing\" or g == \"empty\" else g)).groupby(\"genre_super\", as_index=False).sum()\n",
    "\n",
    "fig = px.pie(pie_df, values=\"Week Position\", names=\"genre_super\", title=\"Genre % by Positions\")\n",
    "fig.show()"
   ]
  },
  {
   "cell_type": "code",
   "execution_count": null,
   "metadata": {},
   "outputs": [],
   "source": []
  },
  {
   "cell_type": "code",
   "execution_count": null,
   "metadata": {},
   "outputs": [],
   "source": []
  },
  {
   "cell_type": "code",
   "execution_count": null,
   "metadata": {},
   "outputs": [],
   "source": []
  },
  {
   "cell_type": "code",
   "execution_count": null,
   "metadata": {},
   "outputs": [],
   "source": []
  },
  {
   "cell_type": "code",
   "execution_count": null,
   "metadata": {},
   "outputs": [],
   "source": []
  },
  {
   "cell_type": "code",
   "execution_count": null,
   "metadata": {},
   "outputs": [],
   "source": []
  },
  {
   "cell_type": "code",
   "execution_count": null,
   "metadata": {},
   "outputs": [],
   "source": []
  },
  {
   "cell_type": "code",
   "execution_count": null,
   "metadata": {},
   "outputs": [],
   "source": []
  },
  {
   "cell_type": "code",
   "execution_count": null,
   "metadata": {},
   "outputs": [],
   "source": []
  },
  {
   "cell_type": "code",
   "execution_count": null,
   "metadata": {},
   "outputs": [],
   "source": []
  }
 ],
 "metadata": {
  "interpreter": {
   "hash": "533f42cc1718b4e514b78a4bcd7158294e27b7c18264f40c4fe062bcb1773c09"
  },
  "kernelspec": {
   "display_name": "Python 3.7.1 64-bit ('base': conda)",
   "language": "python",
   "name": "python3"
  },
  "language_info": {
   "codemirror_mode": {
    "name": "ipython",
    "version": 3
   },
   "file_extension": ".py",
   "mimetype": "text/x-python",
   "name": "python",
   "nbconvert_exporter": "python",
   "pygments_lexer": "ipython3",
   "version": "3.7.1"
  },
  "orig_nbformat": 4
 },
 "nbformat": 4,
 "nbformat_minor": 2
}
